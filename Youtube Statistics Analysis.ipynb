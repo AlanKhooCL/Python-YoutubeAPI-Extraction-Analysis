{
 "cells": [
  {
   "cell_type": "markdown",
   "metadata": {},
   "source": [
    "## Import library and read in dataset"
   ]
  },
  {
   "cell_type": "code",
   "execution_count": 49,
   "metadata": {},
   "outputs": [
    {
     "data": {
      "text/html": [
       "        <script type=\"text/javascript\">\n",
       "        window.PlotlyConfig = {MathJaxConfig: 'local'};\n",
       "        if (window.MathJax) {MathJax.Hub.Config({SVG: {font: \"STIX-Web\"}});}\n",
       "        if (typeof require !== 'undefined') {\n",
       "        require.undef(\"plotly\");\n",
       "        requirejs.config({\n",
       "            paths: {\n",
       "                'plotly': ['https://cdn.plot.ly/plotly-2.8.3.min']\n",
       "            }\n",
       "        });\n",
       "        require(['plotly'], function(Plotly) {\n",
       "            window._Plotly = Plotly;\n",
       "        });\n",
       "        }\n",
       "        </script>\n",
       "        "
      ]
     },
     "metadata": {},
     "output_type": "display_data"
    },
    {
     "data": {
      "text/html": [
       "        <script type=\"text/javascript\">\n",
       "        window.PlotlyConfig = {MathJaxConfig: 'local'};\n",
       "        if (window.MathJax) {MathJax.Hub.Config({SVG: {font: \"STIX-Web\"}});}\n",
       "        if (typeof require !== 'undefined') {\n",
       "        require.undef(\"plotly\");\n",
       "        requirejs.config({\n",
       "            paths: {\n",
       "                'plotly': ['https://cdn.plot.ly/plotly-2.8.3.min']\n",
       "            }\n",
       "        });\n",
       "        require(['plotly'], function(Plotly) {\n",
       "            window._Plotly = Plotly;\n",
       "        });\n",
       "        }\n",
       "        </script>\n",
       "        "
      ]
     },
     "metadata": {},
     "output_type": "display_data"
    },
    {
     "name": "stderr",
     "output_type": "stream",
     "text": [
      "[nltk_data] Downloading package stopwords to C:\\Users\\Alan\n",
      "[nltk_data]     Khoo\\AppData\\Roaming\\nltk_data...\n",
      "[nltk_data]   Unzipping corpora\\stopwords.zip.\n"
     ]
    }
   ],
   "source": [
    "# To manipulate data, NLP and visualizations\n",
    "import pandas as pd\n",
    "import numpy as np\n",
    "import seaborn as sns\n",
    "import matplotlib.pyplot as plt\n",
    "import os\n",
    "from subprocess import check_output\n",
    "\n",
    "# Standard plotly imports\n",
    "import plotly as py\n",
    "import plotly.tools as tls\n",
    "from plotly.offline import iplot, init_notebook_mode\n",
    "import plotly.graph_objs as go\n",
    "import cufflinks\n",
    "import plotly.express as px\n",
    "\n",
    "# Using plotly + cufflinks in offline mode\n",
    "init_notebook_mode(connected=True)\n",
    "cufflinks.go_offline(connected=True)\n",
    "\n",
    "# To interactive buttons\n",
    "import ipywidgets as widgets\n",
    "from ipywidgets import interact, interact_manual\n",
    "import warnings\n",
    "warnings.filterwarnings(\"ignore\")\n",
    "\n",
    "#nlp\n",
    "import string\n",
    "import re    #for regex\n",
    "import nltk\n",
    "#nltk.download('stopwords')\n",
    "from nltk.corpus import stopwords\n",
    "import spacy\n",
    "from nltk import pos_tag\n",
    "from nltk.stem.wordnet import WordNetLemmatizer \n",
    "from nltk.tokenize import word_tokenize\n",
    "from nltk.tokenize import TweetTokenizer\n",
    "from wordcloud import WordCloud, STOPWORDS"
   ]
  },
  {
   "cell_type": "code",
   "execution_count": 17,
   "metadata": {},
   "outputs": [],
   "source": [
    "df = pd.read_csv('Video_Details.csv', index_col=None)"
   ]
  },
  {
   "cell_type": "code",
   "execution_count": 18,
   "metadata": {
    "scrolled": false
   },
   "outputs": [
    {
     "data": {
      "text/html": [
       "<div>\n",
       "<style scoped>\n",
       "    .dataframe tbody tr th:only-of-type {\n",
       "        vertical-align: middle;\n",
       "    }\n",
       "\n",
       "    .dataframe tbody tr th {\n",
       "        vertical-align: top;\n",
       "    }\n",
       "\n",
       "    .dataframe thead th {\n",
       "        text-align: right;\n",
       "    }\n",
       "</style>\n",
       "<table border=\"1\" class=\"dataframe\">\n",
       "  <thead>\n",
       "    <tr style=\"text-align: right;\">\n",
       "      <th></th>\n",
       "      <th>Unnamed: 0</th>\n",
       "      <th>Name</th>\n",
       "      <th>Title</th>\n",
       "      <th>Published_date</th>\n",
       "      <th>Views</th>\n",
       "      <th>Likes</th>\n",
       "      <th>Comments</th>\n",
       "      <th>Category</th>\n",
       "      <th>Tags</th>\n",
       "      <th>Month</th>\n",
       "    </tr>\n",
       "  </thead>\n",
       "  <tbody>\n",
       "    <tr>\n",
       "      <th>0</th>\n",
       "      <td>0</td>\n",
       "      <td>Ludwig</td>\n",
       "      <td>This streamer made a mistake challenging me...</td>\n",
       "      <td>2021-12-26</td>\n",
       "      <td>522702</td>\n",
       "      <td>54539</td>\n",
       "      <td>2524</td>\n",
       "      <td>20</td>\n",
       "      <td>ludwig ludwigahgren ahgren gaming chat stream ...</td>\n",
       "      <td>2021-12</td>\n",
       "    </tr>\n",
       "    <tr>\n",
       "      <th>1</th>\n",
       "      <td>1</td>\n",
       "      <td>Ludwig</td>\n",
       "      <td>this video will get me banned from china</td>\n",
       "      <td>2021-12-25</td>\n",
       "      <td>639875</td>\n",
       "      <td>53335</td>\n",
       "      <td>2244</td>\n",
       "      <td>20</td>\n",
       "      <td>ludwig ludwigahgren ahgren gaming chat stream ...</td>\n",
       "      <td>2021-12</td>\n",
       "    </tr>\n",
       "    <tr>\n",
       "      <th>2</th>\n",
       "      <td>2</td>\n",
       "      <td>Ludwig</td>\n",
       "      <td>What could possibly go wrong?</td>\n",
       "      <td>2021-12-24</td>\n",
       "      <td>695172</td>\n",
       "      <td>40894</td>\n",
       "      <td>892</td>\n",
       "      <td>20</td>\n",
       "      <td>ludwig ludwigahgren ahgren gaming chat stream ...</td>\n",
       "      <td>2021-12</td>\n",
       "    </tr>\n",
       "    <tr>\n",
       "      <th>3</th>\n",
       "      <td>3</td>\n",
       "      <td>Ludwig</td>\n",
       "      <td>I watched EVERY Epic Rap Battle of History to ...</td>\n",
       "      <td>2021-12-23</td>\n",
       "      <td>538988</td>\n",
       "      <td>29555</td>\n",
       "      <td>995</td>\n",
       "      <td>20</td>\n",
       "      <td>ludwig ludwigahgren ahgren gaming chat stream ...</td>\n",
       "      <td>2021-12</td>\n",
       "    </tr>\n",
       "    <tr>\n",
       "      <th>4</th>\n",
       "      <td>4</td>\n",
       "      <td>Ludwig</td>\n",
       "      <td>Paying streamers to do whatever I say</td>\n",
       "      <td>2021-12-22</td>\n",
       "      <td>700680</td>\n",
       "      <td>47889</td>\n",
       "      <td>973</td>\n",
       "      <td>20</td>\n",
       "      <td>ludwig ludwigahgren ahgren gaming chat stream ...</td>\n",
       "      <td>2021-12</td>\n",
       "    </tr>\n",
       "    <tr>\n",
       "      <th>...</th>\n",
       "      <td>...</td>\n",
       "      <td>...</td>\n",
       "      <td>...</td>\n",
       "      <td>...</td>\n",
       "      <td>...</td>\n",
       "      <td>...</td>\n",
       "      <td>...</td>\n",
       "      <td>...</td>\n",
       "      <td>...</td>\n",
       "      <td>...</td>\n",
       "    </tr>\n",
       "    <tr>\n",
       "      <th>1836</th>\n",
       "      <td>1836</td>\n",
       "      <td>Stanz</td>\n",
       "      <td>NEW LOVE OF MY LIFE?!?! -  Pokemon Shield Nuzl...</td>\n",
       "      <td>2019-11-28</td>\n",
       "      <td>2794</td>\n",
       "      <td>92</td>\n",
       "      <td>17</td>\n",
       "      <td>20</td>\n",
       "      <td>Nathan Stanz NathanStanz OneNightStanz Stanz P...</td>\n",
       "      <td>2019-11</td>\n",
       "    </tr>\n",
       "    <tr>\n",
       "      <th>1837</th>\n",
       "      <td>1837</td>\n",
       "      <td>Stanz</td>\n",
       "      <td>SPEEDRUNS FOR SUBS GONE WRONG</td>\n",
       "      <td>2019-11-15</td>\n",
       "      <td>1479</td>\n",
       "      <td>65</td>\n",
       "      <td>15</td>\n",
       "      <td>20</td>\n",
       "      <td>Nathan Stanz NathanStanz OneNightStanz Stanz H...</td>\n",
       "      <td>2019-11</td>\n",
       "    </tr>\n",
       "    <tr>\n",
       "      <th>1838</th>\n",
       "      <td>1838</td>\n",
       "      <td>Stanz</td>\n",
       "      <td>Destroying Knockoff Clint Stevens At Minecraft</td>\n",
       "      <td>2019-10-09</td>\n",
       "      <td>8185</td>\n",
       "      <td>260</td>\n",
       "      <td>17</td>\n",
       "      <td>20</td>\n",
       "      <td>minecraft multiplayer survival custom minecraf...</td>\n",
       "      <td>2019-10</td>\n",
       "    </tr>\n",
       "    <tr>\n",
       "      <th>1839</th>\n",
       "      <td>1839</td>\n",
       "      <td>Stanz</td>\n",
       "      <td>Hacker steals my Paypal DURING STREAM</td>\n",
       "      <td>2019-09-17</td>\n",
       "      <td>1239</td>\n",
       "      <td>61</td>\n",
       "      <td>7</td>\n",
       "      <td>20</td>\n",
       "      <td>rainbow six siege case opening twitch twitch f...</td>\n",
       "      <td>2019-09</td>\n",
       "    </tr>\n",
       "    <tr>\n",
       "      <th>1840</th>\n",
       "      <td>1840</td>\n",
       "      <td>Stanz</td>\n",
       "      <td>the best way to play minecraft</td>\n",
       "      <td>2019-08-31</td>\n",
       "      <td>4743</td>\n",
       "      <td>199</td>\n",
       "      <td>17</td>\n",
       "      <td>20</td>\n",
       "      <td>minecraft minecraft hunger games minecraft sur...</td>\n",
       "      <td>2019-08</td>\n",
       "    </tr>\n",
       "  </tbody>\n",
       "</table>\n",
       "<p>1841 rows × 10 columns</p>\n",
       "</div>"
      ],
      "text/plain": [
       "      Unnamed: 0    Name                                              Title  \\\n",
       "0              0  Ludwig     This streamer made a mistake challenging me...   \n",
       "1              1  Ludwig           this video will get me banned from china   \n",
       "2              2  Ludwig                      What could possibly go wrong?   \n",
       "3              3  Ludwig  I watched EVERY Epic Rap Battle of History to ...   \n",
       "4              4  Ludwig              Paying streamers to do whatever I say   \n",
       "...          ...     ...                                                ...   \n",
       "1836        1836   Stanz  NEW LOVE OF MY LIFE?!?! -  Pokemon Shield Nuzl...   \n",
       "1837        1837   Stanz                      SPEEDRUNS FOR SUBS GONE WRONG   \n",
       "1838        1838   Stanz     Destroying Knockoff Clint Stevens At Minecraft   \n",
       "1839        1839   Stanz              Hacker steals my Paypal DURING STREAM   \n",
       "1840        1840   Stanz                     the best way to play minecraft   \n",
       "\n",
       "     Published_date   Views  Likes  Comments  Category  \\\n",
       "0        2021-12-26  522702  54539      2524        20   \n",
       "1        2021-12-25  639875  53335      2244        20   \n",
       "2        2021-12-24  695172  40894       892        20   \n",
       "3        2021-12-23  538988  29555       995        20   \n",
       "4        2021-12-22  700680  47889       973        20   \n",
       "...             ...     ...    ...       ...       ...   \n",
       "1836     2019-11-28    2794     92        17        20   \n",
       "1837     2019-11-15    1479     65        15        20   \n",
       "1838     2019-10-09    8185    260        17        20   \n",
       "1839     2019-09-17    1239     61         7        20   \n",
       "1840     2019-08-31    4743    199        17        20   \n",
       "\n",
       "                                                   Tags    Month  \n",
       "0     ludwig ludwigahgren ahgren gaming chat stream ...  2021-12  \n",
       "1     ludwig ludwigahgren ahgren gaming chat stream ...  2021-12  \n",
       "2     ludwig ludwigahgren ahgren gaming chat stream ...  2021-12  \n",
       "3     ludwig ludwigahgren ahgren gaming chat stream ...  2021-12  \n",
       "4     ludwig ludwigahgren ahgren gaming chat stream ...  2021-12  \n",
       "...                                                 ...      ...  \n",
       "1836  Nathan Stanz NathanStanz OneNightStanz Stanz P...  2019-11  \n",
       "1837  Nathan Stanz NathanStanz OneNightStanz Stanz H...  2019-11  \n",
       "1838  minecraft multiplayer survival custom minecraf...  2019-10  \n",
       "1839  rainbow six siege case opening twitch twitch f...  2019-09  \n",
       "1840  minecraft minecraft hunger games minecraft sur...  2019-08  \n",
       "\n",
       "[1841 rows x 10 columns]"
      ]
     },
     "execution_count": 18,
     "metadata": {},
     "output_type": "execute_result"
    }
   ],
   "source": [
    "df"
   ]
  },
  {
   "cell_type": "markdown",
   "metadata": {},
   "source": [
    "## Perform EDA on dataset"
   ]
  },
  {
   "cell_type": "code",
   "execution_count": 21,
   "metadata": {
    "scrolled": false
   },
   "outputs": [
    {
     "name": "stdout",
     "output_type": "stream",
     "text": [
      "<class 'pandas.core.frame.DataFrame'>\n",
      "RangeIndex: 1841 entries, 0 to 1840\n",
      "Data columns (total 9 columns):\n",
      " #   Column          Non-Null Count  Dtype \n",
      "---  ------          --------------  ----- \n",
      " 0   Name            1841 non-null   object\n",
      " 1   Title           1841 non-null   object\n",
      " 2   Published_date  1841 non-null   object\n",
      " 3   Views           1841 non-null   int64 \n",
      " 4   Likes           1841 non-null   int64 \n",
      " 5   Comments        1841 non-null   int64 \n",
      " 6   Category        1841 non-null   int64 \n",
      " 7   Tags            1841 non-null   object\n",
      " 8   Month           1841 non-null   object\n",
      "dtypes: int64(4), object(5)\n",
      "memory usage: 129.6+ KB\n"
     ]
    },
    {
     "data": {
      "text/html": [
       "<div>\n",
       "<style scoped>\n",
       "    .dataframe tbody tr th:only-of-type {\n",
       "        vertical-align: middle;\n",
       "    }\n",
       "\n",
       "    .dataframe tbody tr th {\n",
       "        vertical-align: top;\n",
       "    }\n",
       "\n",
       "    .dataframe thead th {\n",
       "        text-align: right;\n",
       "    }\n",
       "</style>\n",
       "<table border=\"1\" class=\"dataframe\">\n",
       "  <thead>\n",
       "    <tr style=\"text-align: right;\">\n",
       "      <th></th>\n",
       "      <th>Name</th>\n",
       "      <th>Title</th>\n",
       "      <th>Published_date</th>\n",
       "      <th>Views</th>\n",
       "      <th>Likes</th>\n",
       "      <th>Comments</th>\n",
       "      <th>Category</th>\n",
       "      <th>Tags</th>\n",
       "      <th>Month</th>\n",
       "    </tr>\n",
       "  </thead>\n",
       "  <tbody>\n",
       "    <tr>\n",
       "      <th>0</th>\n",
       "      <td>Ludwig</td>\n",
       "      <td>This streamer made a mistake challenging me...</td>\n",
       "      <td>2021-12-26</td>\n",
       "      <td>522702</td>\n",
       "      <td>54539</td>\n",
       "      <td>2524</td>\n",
       "      <td>20</td>\n",
       "      <td>ludwig ludwigahgren ahgren gaming chat stream ...</td>\n",
       "      <td>2021-12</td>\n",
       "    </tr>\n",
       "    <tr>\n",
       "      <th>1</th>\n",
       "      <td>Ludwig</td>\n",
       "      <td>this video will get me banned from china</td>\n",
       "      <td>2021-12-25</td>\n",
       "      <td>639875</td>\n",
       "      <td>53335</td>\n",
       "      <td>2244</td>\n",
       "      <td>20</td>\n",
       "      <td>ludwig ludwigahgren ahgren gaming chat stream ...</td>\n",
       "      <td>2021-12</td>\n",
       "    </tr>\n",
       "    <tr>\n",
       "      <th>2</th>\n",
       "      <td>Ludwig</td>\n",
       "      <td>What could possibly go wrong?</td>\n",
       "      <td>2021-12-24</td>\n",
       "      <td>695172</td>\n",
       "      <td>40894</td>\n",
       "      <td>892</td>\n",
       "      <td>20</td>\n",
       "      <td>ludwig ludwigahgren ahgren gaming chat stream ...</td>\n",
       "      <td>2021-12</td>\n",
       "    </tr>\n",
       "    <tr>\n",
       "      <th>3</th>\n",
       "      <td>Ludwig</td>\n",
       "      <td>I watched EVERY Epic Rap Battle of History to ...</td>\n",
       "      <td>2021-12-23</td>\n",
       "      <td>538988</td>\n",
       "      <td>29555</td>\n",
       "      <td>995</td>\n",
       "      <td>20</td>\n",
       "      <td>ludwig ludwigahgren ahgren gaming chat stream ...</td>\n",
       "      <td>2021-12</td>\n",
       "    </tr>\n",
       "    <tr>\n",
       "      <th>4</th>\n",
       "      <td>Ludwig</td>\n",
       "      <td>Paying streamers to do whatever I say</td>\n",
       "      <td>2021-12-22</td>\n",
       "      <td>700680</td>\n",
       "      <td>47889</td>\n",
       "      <td>973</td>\n",
       "      <td>20</td>\n",
       "      <td>ludwig ludwigahgren ahgren gaming chat stream ...</td>\n",
       "      <td>2021-12</td>\n",
       "    </tr>\n",
       "  </tbody>\n",
       "</table>\n",
       "</div>"
      ],
      "text/plain": [
       "     Name                                              Title Published_date  \\\n",
       "0  Ludwig     This streamer made a mistake challenging me...     2021-12-26   \n",
       "1  Ludwig           this video will get me banned from china     2021-12-25   \n",
       "2  Ludwig                      What could possibly go wrong?     2021-12-24   \n",
       "3  Ludwig  I watched EVERY Epic Rap Battle of History to ...     2021-12-23   \n",
       "4  Ludwig              Paying streamers to do whatever I say     2021-12-22   \n",
       "\n",
       "    Views  Likes  Comments  Category  \\\n",
       "0  522702  54539      2524        20   \n",
       "1  639875  53335      2244        20   \n",
       "2  695172  40894       892        20   \n",
       "3  538988  29555       995        20   \n",
       "4  700680  47889       973        20   \n",
       "\n",
       "                                                Tags    Month  \n",
       "0  ludwig ludwigahgren ahgren gaming chat stream ...  2021-12  \n",
       "1  ludwig ludwigahgren ahgren gaming chat stream ...  2021-12  \n",
       "2  ludwig ludwigahgren ahgren gaming chat stream ...  2021-12  \n",
       "3  ludwig ludwigahgren ahgren gaming chat stream ...  2021-12  \n",
       "4  ludwig ludwigahgren ahgren gaming chat stream ...  2021-12  "
      ]
     },
     "execution_count": 21,
     "metadata": {},
     "output_type": "execute_result"
    }
   ],
   "source": [
    "#Looking for Null values and the types of our data\n",
    "df = df.drop(['Unnamed: 0'], axis=1)\n",
    "df.info()\n",
    "df.head()"
   ]
  },
  {
   "cell_type": "code",
   "execution_count": 56,
   "metadata": {},
   "outputs": [
    {
     "data": {
      "text/plain": [
       "<matplotlib.axes._subplots.AxesSubplot at 0x12d9a02f640>"
      ]
     },
     "execution_count": 56,
     "metadata": {},
     "output_type": "execute_result"
    },
    {
     "data": {
      "image/png": "[encoded data removed]",
      "text/plain": [
       "<Figure size 1080x504 with 1 Axes>"
      ]
     },
     "metadata": {
      "needs_background": "light"
     },
     "output_type": "display_data"
    }
   ],
   "source": [
    "# plot data\n",
    "fig, ax = plt.subplots(figsize=(15,7))\n",
    "# use unstack()\n",
    "df.groupby(['Month','Name']).sum()['Views'].unstack().plot(ax=ax)"
   ]
  },
  {
   "cell_type": "markdown",
   "metadata": {},
   "source": [
    "Plot the distribution of views from the data"
   ]
  },
  {
   "cell_type": "code",
   "execution_count": 43,
   "metadata": {},
   "outputs": [
    {
     "data": {
      "application/vnd.plotly.v1+json": {
       "config": {
        "plotlyServerURL": "https://plot.ly"
       },
       "data": [
        {
         "alignmentgroup": "True",
         "bingroup": "x",
         "hovertemplate": "Name=Ludwig<br>Views=%{x}<br>count=%{y}<extra></extra>",
         "legendgroup": "Ludwig",
         "marker": {
          "color": "#636efa",
          "pattern": {
           "shape": ""
          }
         },
         "name": "Ludwig",
         "nbinsx": 20,
         "offsetgroup": "Ludwig",
         "orientation": "v",
         "showlegend": true,
         "type": "histogram",
         "x": [
          522702,
          639875,
          695172,
          538988,
          700680,
          531013,
          551532,
          656670,
          653719,
          479557,
          650628,
          1203828,
          610162,
          1090982,
          890272,
          881625,
          747567,
          1011379,
          1821793,
          1034651,
          1464811,
          993122,
          650936,
          664185,
          380597,
          445228,
          891904,
          617412,
          453723,
          1138792,
          415959,
          256502,
          996361,
          808398,
          433935,
          511751,
          582216,
          1313262,
          435267,
          816340,
          667981,
          923307,
          428792,
          767491,
          654819,
          763595,
          2808487,
          350446,
          588793,
          1763755,
          541996,
          429518,
          931510,
          605627,
          261114,
          391438,
          331655,
          556486,
          973899,
          359918,
          831395,
          263484,
          581730,
          815699,
          788411,
          647605,
          540528,
          2376489,
          479666,
          438854,
          853653,
          448922,
          355830,
          413332,
          838557,
          389391,
          1031469,
          340454,
          902362,
          1246931,
          518496,
          429617,
          1010376,
          530108,
          448936,
          520997,
          675614,
          1216610,
          617505,
          938043,
          822246,
          369128,
          503308,
          417291,
          297247,
          891897,
          1759962,
          389362,
          463809,
          703838,
          1266182,
          424717,
          386944,
          588484,
          581889,
          389710,
          468969,
          314805,
          758882,
          533740,
          324176,
          249591,
          1050443,
          354043,
          1138457,
          320055,
          441158,
          496244,
          738816,
          636348,
          1087363,
          897641,
          445370,
          404780,
          672357,
          1495897,
          420610,
          842817,
          458602,
          385608,
          461080,
          215665,
          770430,
          379315,
          629645,
          317083,
          428344,
          333047,
          546296,
          325703,
          765489,
          918366,
          557087,
          414924,
          678806,
          319106,
          699318,
          888478,
          604552,
          546863,
          485826,
          296777,
          336101,
          916246,
          412042,
          501643,
          1036918,
          463921,
          459277,
          210258,
          693532,
          424298,
          3265569,
          602244,
          333655,
          413880,
          759176,
          1023366,
          311426,
          840912,
          427398,
          701250,
          719945,
          608936,
          418695,
          336400,
          429541,
          634911,
          446930,
          578733,
          754545,
          659031,
          560942,
          767320,
          615713,
          576715,
          512184,
          527341,
          613248,
          672033,
          353796,
          380154,
          477259,
          613120,
          515583,
          521532,
          1710205,
          513411,
          1097359,
          597982,
          413360,
          903393,
          761625,
          383914,
          368821,
          579882,
          951169,
          456190,
          1036705,
          1546578,
          377205,
          889750,
          435153,
          1730484,
          1338357,
          1050646,
          868036,
          2327369,
          676359,
          505664,
          647836,
          1114817,
          844420,
          990164,
          592986,
          411565,
          873293,
          323202,
          770196,
          1334806,
          460004,
          518713,
          675802,
          818904,
          2079776,
          1214758,
          416520,
          483395,
          453422,
          983760,
          506889,
          610481,
          467818,
          1978297,
          647387,
          333760,
          329104,
          439844,
          795577,
          2413183,
          444110,
          913727,
          614651,
          887009,
          396104,
          345596,
          567058,
          750036,
          798295,
          327251,
          601943,
          790855,
          569185,
          352269,
          564845,
          462007,
          918216,
          881631,
          451464,
          729267,
          854468,
          1075361,
          404967,
          458460,
          443676,
          931525,
          924560,
          287714,
          443190,
          1058583,
          797758,
          814443,
          656648,
          1580180,
          391198,
          801877,
          304254,
          275988,
          754812,
          482411,
          456888,
          774375,
          652602,
          408397,
          1637218,
          521882,
          612485,
          834089,
          1099427,
          807618,
          358738,
          550527,
          780474,
          914885,
          1036856,
          2044554,
          1286292,
          569650,
          427169,
          830693,
          546909,
          459100,
          1707203,
          688879,
          2509589,
          1402688,
          532936,
          580681,
          722048,
          776357,
          426555,
          887698,
          838598,
          1509629,
          1008868,
          898199,
          666174,
          349177,
          1079939,
          441759,
          628387,
          1129893,
          2171495,
          713998,
          905888,
          401012,
          454104,
          732768,
          1125985,
          608739,
          503362,
          322606,
          406814,
          752620,
          930207,
          770800,
          472131,
          539285,
          964093,
          852176,
          516388,
          588097,
          1318574,
          774101,
          509998,
          1434419,
          836569,
          645807,
          838464,
          580843,
          991498,
          808519,
          572557,
          1552756,
          271039,
          746194,
          338461,
          1256937,
          897763,
          550888,
          2037582,
          697196,
          657081,
          527779,
          1712540,
          942847,
          551120,
          463084,
          341445,
          696189,
          1153855,
          855462,
          480405,
          295026,
          377774,
          174850,
          136648,
          281431,
          1183105,
          418766,
          1355305,
          455013,
          445143,
          462268,
          319287,
          476341,
          426414,
          816190,
          469046,
          437661,
          369058,
          508209,
          322832,
          327128,
          713334,
          661338,
          848318,
          488052,
          688663,
          280955,
          490410,
          2018825,
          573278,
          312372,
          496849,
          456482,
          375220,
          1399151,
          988873,
          1575049,
          364948,
          842229,
          1241466,
          939209,
          2269922,
          530977,
          271454,
          559285,
          850472,
          477631,
          552716,
          1035239,
          510297,
          351671,
          466479,
          597530,
          699237,
          271793,
          1944612,
          366713,
          552633,
          1150895,
          821888,
          478742,
          1053520,
          489116,
          552824,
          386984,
          509968,
          618324,
          346051,
          403238,
          290780,
          869883,
          625705,
          348663,
          729362,
          345853,
          349309,
          871898,
          810104,
          687925,
          628121,
          389503,
          296594,
          1130386,
          739434,
          623498,
          557342,
          368626,
          823159,
          524027,
          896940,
          394498,
          303154,
          570240,
          524065,
          624109,
          600227,
          619674,
          450606,
          772133,
          1053533,
          582930,
          530059,
          698600,
          618782,
          525521,
          363566,
          470828,
          464956,
          618607,
          264631,
          286339,
          510872,
          535014,
          284026,
          635928,
          557077,
          672845,
          448854,
          451197,
          1049850,
          692410,
          391325,
          538249,
          303768,
          306040,
          355705,
          831045,
          478681,
          382497,
          351725,
          1523462,
          356409,
          863186,
          806321,
          553325,
          2014556,
          405184,
          524616,
          369660,
          500704,
          383121,
          381811,
          367030,
          672929,
          509923,
          629063,
          492678,
          413123,
          824305,
          786031,
          376247,
          724931,
          314122,
          767991,
          366219,
          622330,
          1201244,
          692155,
          474625,
          338263,
          324247,
          295993,
          1155884,
          613169,
          457352,
          1563720,
          1082203,
          1776566,
          691630,
          337484,
          476277,
          492969,
          270784,
          968239,
          468062,
          198171,
          407457,
          472179,
          316063,
          797042,
          336093,
          542573,
          557881,
          338496,
          340805,
          312058,
          342263,
          620475,
          395437,
          536150,
          796123,
          686831,
          401193,
          815238,
          557156,
          616522,
          436168,
          301361,
          421294,
          290081,
          1106028,
          585839,
          564456,
          475382,
          352849,
          512249,
          950436,
          294520,
          293531,
          1073408,
          377896,
          649967,
          1112826,
          658566,
          308896,
          265474,
          320552,
          887838,
          275467,
          527330,
          280693,
          319908,
          392283,
          146300,
          374802,
          762789,
          583449,
          290873,
          418470,
          399771,
          689410,
          297239,
          379463,
          507208,
          1152860,
          480093,
          209324,
          1591559,
          484350,
          246189,
          349279,
          509204,
          957246,
          225263,
          255617,
          241678,
          533393,
          888221,
          280381,
          386010,
          182149,
          1057642,
          671369,
          269213,
          312715,
          727759,
          539666,
          747870,
          428382,
          644603,
          277555,
          273962,
          1211200,
          263746,
          222854,
          209703,
          452026,
          208711,
          981789,
          895247,
          166098,
          2319859,
          678952,
          646873,
          334544,
          225925,
          290951,
          430538,
          455188,
          724724,
          672222,
          305477,
          341371,
          503552,
          221981,
          262397,
          954611,
          758325,
          510404,
          1346267,
          346222,
          159207,
          302162,
          388160,
          161102,
          357996,
          540668,
          326097,
          141123,
          746502,
          275850,
          342910,
          2548819,
          258286,
          133712,
          224529,
          191002,
          447749,
          501737,
          192511,
          258738,
          1098384,
          720284,
          565999,
          772806,
          519847,
          286884,
          1130562,
          445786,
          655594,
          572914,
          1228884,
          509645,
          200435,
          343836,
          414902,
          844380,
          2765961,
          471173,
          773071,
          916937,
          945802,
          458818,
          1080055,
          684406,
          389268,
          203959,
          620489,
          1663061,
          308780,
          273093,
          432193,
          686371,
          445345,
          761918,
          1153449,
          240252,
          540137,
          815881,
          1775945,
          685321,
          1074566,
          210318,
          210669,
          368759,
          1477027,
          227763,
          251888,
          193347,
          490655,
          665882,
          535662,
          150673,
          561608,
          2398997,
          682277,
          125276,
          441339,
          410663,
          198266,
          176426,
          1179951,
          432105,
          141902,
          244449,
          786491,
          268460,
          216742,
          551889,
          90471,
          187158,
          395755,
          423712,
          236247,
          585880,
          670662,
          440290,
          214478,
          319602,
          202480,
          183275,
          286903,
          169011,
          1013141,
          1299644,
          245026,
          802435,
          135333,
          285437,
          1797602,
          267879,
          218998,
          206384,
          147820,
          228602,
          250700,
          219034,
          681705,
          389093,
          1760351,
          229426,
          266397,
          241276,
          927965,
          2951581,
          373040,
          270527,
          468597,
          253526,
          179939,
          48248,
          330606,
          271821,
          263974,
          716578,
          225975,
          757305,
          217336,
          123763,
          335693,
          774918,
          230313,
          267852,
          25591,
          314168,
          265711,
          218649,
          234153,
          246259,
          1288066,
          249840,
          93880,
          170133,
          189695,
          269184,
          116054,
          254732,
          191890,
          339097,
          144773,
          1247989,
          191973,
          154233,
          623930,
          257308,
          53485,
          1367726,
          674736,
          292438,
          250730,
          193379,
          32578,
          229268,
          29797,
          204757,
          230977,
          131684,
          42558,
          202695,
          263194,
          688857,
          97503,
          74724,
          166140,
          68450,
          163991,
          44174,
          119572,
          70167,
          363122,
          243386,
          469856,
          96117,
          102906,
          70748,
          86373,
          93887,
          114923,
          100086,
          388862,
          338741,
          129459,
          142349,
          199466,
          163858,
          134350,
          100355,
          98109,
          35376,
          274472,
          97739,
          395338,
          905977,
          554768,
          283628,
          292809,
          57611,
          345158,
          394512,
          221833,
          131191,
          130035,
          1382356,
          13948,
          46837,
          115880,
          25627,
          228459,
          286434,
          79865,
          285921,
          126186,
          118569,
          147776,
          151930,
          169447,
          110536,
          288691,
          328247,
          300838,
          396919,
          334579,
          1658325,
          181652,
          123585,
          74477,
          244548,
          22929,
          31985,
          494928,
          106591,
          432999,
          95354,
          7334,
          23869,
          5976,
          44231,
          42117,
          131270,
          159867,
          149024,
          27128,
          6125,
          34752,
          107212,
          21432,
          18110,
          140270,
          183583,
          1115139,
          29889,
          26179,
          28078,
          32048,
          13188,
          50369,
          6356,
          8784,
          34713,
          188420,
          431422,
          27310,
          8704,
          3851111,
          45890,
          7565,
          11109,
          7696,
          86272,
          82373,
          1107231,
          12268,
          184466,
          59054,
          74002,
          4515,
          3111,
          38361,
          66005,
          75273,
          37764,
          11171,
          5793,
          120110,
          106008,
          14583,
          46881
         ],
         "xaxis": "x",
         "yaxis": "y"
        },
        {
         "alignmentgroup": "True",
         "bingroup": "x",
         "hovertemplate": "Name=Atrioc<br>Views=%{x}<br>count=%{y}<extra></extra>",
         "legendgroup": "Atrioc",
         "marker": {
          "color": "#EF553B",
          "pattern": {
           "shape": ""
          }
         },
         "name": "Atrioc",
         "nbinsx": 20,
         "offsetgroup": "Atrioc",
         "orientation": "v",
         "showlegend": true,
         "type": "histogram",
         "x": [
          127477,
          121375,
          140928,
          131203,
          171131,
          149684,
          165780,
          119188,
          135714,
          180507,
          131691,
          370422,
          171902,
          133658,
          141942,
          166470,
          159606,
          155556,
          164380,
          138262,
          198483,
          142101,
          108885,
          159830,
          134763,
          157448,
          605124,
          142544,
          118852,
          182130,
          152621,
          113568,
          152854,
          245686,
          126411,
          155129,
          161019,
          154998,
          134709,
          126137,
          117928,
          128519,
          213792,
          139245,
          128675,
          147896,
          163106,
          137486,
          161469,
          175530,
          135886,
          206511,
          91047,
          152954,
          154382,
          132551,
          123039,
          113064,
          114436,
          157134,
          131191,
          140318,
          150125,
          138942,
          155706,
          119203,
          138668,
          144542,
          232458,
          185381,
          140960,
          144250,
          162957,
          182134,
          217182,
          134964,
          427203,
          133399,
          133572,
          181274,
          91261,
          212330,
          125544,
          160323,
          209030,
          133927,
          167452,
          145794,
          356724,
          127269,
          189129,
          151201,
          116661,
          169805,
          159762,
          211822,
          166452,
          179045,
          134535,
          96998,
          216642,
          129796,
          205590,
          129493,
          176461,
          137385,
          120021,
          309704,
          168223,
          241757,
          113242,
          157176,
          184485,
          187777,
          107211,
          212330,
          126016,
          104180,
          162298,
          92929,
          119391,
          76859,
          235508,
          96731,
          90166,
          165684,
          167814,
          136353,
          136027,
          107511,
          98814,
          213942,
          133160,
          252546,
          130189,
          92668,
          159309,
          588304,
          216213,
          154480,
          137077,
          52374,
          687344,
          127188,
          95996,
          95540,
          110357,
          207873,
          185260,
          64236,
          136646,
          106042,
          200944,
          79285,
          207684,
          149123,
          102174,
          130676,
          52159,
          231760,
          100868,
          117906,
          62597,
          95195,
          189069,
          89019,
          69124,
          156793,
          82886,
          206971,
          96796,
          244185,
          119970,
          146605,
          128647,
          118012,
          102923,
          104272,
          95449,
          103215,
          90172,
          85435,
          127892,
          79729,
          81478,
          87374,
          123536,
          137529,
          84769,
          186812,
          233827,
          330759,
          91110,
          101105,
          87958,
          135557,
          143830,
          55852,
          83676,
          149713,
          101817,
          88593,
          120738,
          227041,
          101279,
          96603,
          173123,
          194248,
          131725,
          154392,
          108319,
          120976,
          74533,
          81126,
          332053,
          164339,
          152808,
          78908,
          229960,
          222465,
          146733,
          273230,
          328436,
          125782,
          82775,
          82445,
          73387,
          220574,
          604968,
          122478,
          66993,
          150217,
          96342,
          73309,
          100160,
          292536,
          82700,
          198777,
          102493,
          76427,
          72720,
          102379,
          99686,
          69007,
          98160,
          67339,
          66156,
          79870,
          91235,
          228794,
          176689,
          105429,
          297463,
          122721,
          108480,
          111080,
          168649,
          88883,
          90240,
          108658,
          74446,
          103321,
          64346,
          77131,
          155702,
          431389,
          128637,
          61967,
          67437,
          92149,
          63757,
          81930,
          291583,
          250711,
          140591,
          87909,
          133461,
          78860,
          89222,
          73039,
          147651,
          257206,
          252404,
          75911,
          51551,
          141017,
          166451,
          188636,
          193215,
          153462,
          66466,
          215653,
          66456,
          45804,
          110152,
          153055,
          101689,
          207159,
          112858,
          160015,
          96557,
          226587,
          189731,
          82856,
          486613,
          161900,
          68345,
          44564,
          78483,
          84935,
          100574,
          120422,
          140942,
          83289,
          134159,
          176710,
          87659,
          103860,
          116220,
          244955,
          65402,
          149490,
          237500,
          260661,
          61930,
          73555,
          185617,
          75354,
          187271,
          79058,
          191893,
          117838,
          96316,
          120150,
          82829,
          77638,
          42587,
          758202,
          124422,
          206534,
          61575,
          114062,
          125771,
          187241,
          202696,
          72757,
          95885,
          79754,
          51883,
          39537,
          125103,
          128847,
          58064,
          44185,
          182634,
          67640,
          224700,
          62151,
          109373,
          71650,
          274081,
          45302,
          156294,
          137975,
          133732,
          23417,
          82888,
          138744,
          179930,
          106006,
          103653,
          131038,
          43547,
          142922,
          316360,
          62862,
          107373,
          63613,
          50850,
          88134,
          43519,
          146929,
          162172,
          55316,
          202805,
          132288,
          143959,
          67566,
          51056,
          123372,
          36634,
          77236,
          91335,
          151243,
          111891,
          88939,
          58191,
          66693,
          98718,
          134887,
          137480,
          192424,
          184994,
          115719,
          89969,
          164097,
          136533,
          185015,
          143571,
          75793,
          139532,
          86677,
          79896,
          64426,
          71067,
          77826,
          67824,
          47143,
          50589,
          146940,
          196966,
          110528,
          54198,
          111842,
          82330,
          117799,
          24560,
          77276,
          29181,
          99090,
          45332,
          200927,
          42168,
          125932,
          59062,
          73329,
          74864,
          60259,
          199761,
          109219,
          47063,
          33899,
          82595,
          60677,
          32218,
          42799,
          25525,
          97458,
          142653,
          35744,
          274945,
          217143,
          32740,
          154711,
          106615,
          82485,
          69257,
          18128,
          17896,
          19818,
          36303,
          28911,
          15252,
          6856,
          8145
         ],
         "xaxis": "x",
         "yaxis": "y"
        },
        {
         "alignmentgroup": "True",
         "bingroup": "x",
         "hovertemplate": "Name=Stanz<br>Views=%{x}<br>count=%{y}<extra></extra>",
         "legendgroup": "Stanz",
         "marker": {
          "color": "#00cc96",
          "pattern": {
           "shape": ""
          }
         },
         "name": "Stanz",
         "nbinsx": 20,
         "offsetgroup": "Stanz",
         "orientation": "v",
         "showlegend": true,
         "type": "histogram",
         "x": [
          14999,
          32073,
          20874,
          37889,
          18179,
          16898,
          23171,
          38075,
          32024,
          33915,
          33479,
          30877,
          20127,
          20590,
          37560,
          39725,
          28293,
          28165,
          43615,
          27857,
          26022,
          31341,
          37379,
          48387,
          89939,
          49632,
          94411,
          28646,
          68772,
          24577,
          45047,
          35509,
          30338,
          28045,
          35532,
          29988,
          20125,
          33794,
          66634,
          27097,
          20087,
          47526,
          19307,
          53204,
          23558,
          29671,
          18029,
          33051,
          18420,
          38384,
          41884,
          27274,
          21924,
          21179,
          32743,
          64504,
          13179,
          24760,
          78144,
          26067,
          17398,
          12145,
          16957,
          27034,
          17312,
          65565,
          10892,
          33726,
          14083,
          27884,
          14368,
          46913,
          57653,
          17012,
          11474,
          16810,
          31425,
          67394,
          24846,
          17569,
          21898,
          18387,
          43169,
          13768,
          21647,
          42325,
          25456,
          18617,
          39214,
          13699,
          17637,
          12438,
          42891,
          9684,
          43344,
          52531,
          13745,
          43255,
          15955,
          26152,
          35191,
          37531,
          13061,
          41065,
          13426,
          34300,
          25542,
          42514,
          14531,
          42932,
          13424,
          38571,
          23732,
          9545,
          40238,
          10771,
          39227,
          18661,
          46768,
          14892,
          9895,
          74096,
          50300,
          10751,
          33459,
          63138,
          46936,
          65551,
          23439,
          34678,
          67524,
          39259,
          71013,
          52751,
          88419,
          31934,
          75549,
          73973,
          13899,
          83278,
          9459,
          13011,
          124523,
          25318,
          16869,
          13001,
          19198,
          16287,
          9114,
          12120,
          11410,
          15331,
          23352,
          11703,
          29345,
          19126,
          11778,
          23375,
          29004,
          11984,
          12061,
          12069,
          10315,
          13880,
          12875,
          13477,
          17103,
          22639,
          16737,
          10176,
          9864,
          11017,
          34763,
          11955,
          10213,
          9594,
          29596,
          18538,
          11510,
          14466,
          19166,
          10644,
          17221,
          21161,
          13876,
          12756,
          13146,
          13986,
          19127,
          14940,
          11237,
          12834,
          23446,
          18753,
          7665,
          12213,
          15317,
          15911,
          6883,
          16579,
          28663,
          13982,
          12916,
          22703,
          15020,
          10470,
          15808,
          23864,
          16535,
          9827,
          18151,
          9851,
          14821,
          11459,
          15400,
          23767,
          20617,
          7945,
          12311,
          8756,
          19650,
          12323,
          19352,
          7269,
          8391,
          8879,
          12324,
          10067,
          11415,
          11105,
          9705,
          14205,
          25399,
          9485,
          8976,
          12879,
          21708,
          19479,
          12405,
          11605,
          19928,
          14811,
          15331,
          13078,
          12898,
          13986,
          14538,
          58700,
          38861,
          20580,
          18663,
          28931,
          11309,
          11614,
          30011,
          17065,
          15443,
          42902,
          13176,
          31396,
          16352,
          36231,
          28968,
          15977,
          38593,
          20607,
          13187,
          9290,
          16560,
          17467,
          14199,
          15562,
          23957,
          22075,
          9592,
          14618,
          6379,
          14676,
          18216,
          11748,
          9482,
          8159,
          26200,
          11960,
          23381,
          32631,
          24650,
          23773,
          8534,
          14608,
          20169,
          29722,
          11963,
          57393,
          31793,
          34991,
          42658,
          84652,
          19169,
          10400,
          21380,
          20910,
          10044,
          6568,
          13618,
          7411,
          12008,
          12369,
          12412,
          35386,
          11656,
          27712,
          15021,
          12646,
          72403,
          9709,
          30471,
          16424,
          29730,
          6980,
          10697,
          7080,
          8551,
          7920,
          13639,
          11081,
          10710,
          9910,
          14514,
          30125,
          7507,
          12696,
          9194,
          14954,
          16802,
          10500,
          6783,
          24006,
          24132,
          15957,
          34248,
          42014,
          15198,
          24814,
          18988,
          17516,
          9562,
          13754,
          25038,
          37257,
          16068,
          21018,
          4811,
          6341,
          4988,
          4318,
          17452,
          37323,
          19994,
          3927,
          19803,
          4365,
          5184,
          12838,
          14216,
          3228,
          4796,
          64623,
          9080,
          2818,
          3225,
          3360,
          6011,
          6139,
          7677,
          10479,
          12760,
          43331,
          46121,
          69314,
          11064,
          7417,
          160993,
          50085,
          32830,
          8425,
          17238,
          1782,
          1028,
          2135,
          5113,
          2794,
          1479,
          8185,
          1239,
          4743
         ],
         "xaxis": "x",
         "yaxis": "y"
        }
       ],
       "layout": {
        "barmode": "relative",
        "legend": {
         "title": {
          "text": "Name"
         },
         "tracegroupgap": 0
        },
        "margin": {
         "t": 60
        },
        "template": {
         "data": {
          "bar": [
           {
            "error_x": {
             "color": "#2a3f5f"
            },
            "error_y": {
             "color": "#2a3f5f"
            },
            "marker": {
             "line": {
              "color": "#E5ECF6",
              "width": 0.5
             },
             "pattern": {
              "fillmode": "overlay",
              "size": 10,
              "solidity": 0.2
             }
            },
            "type": "bar"
           }
          ],
          "barpolar": [
           {
            "marker": {
             "line": {
              "color": "#E5ECF6",
              "width": 0.5
             },
             "pattern": {
              "fillmode": "overlay",
              "size": 10,
              "solidity": 0.2
             }
            },
            "type": "barpolar"
           }
          ],
          "carpet": [
           {
            "aaxis": {
             "endlinecolor": "#2a3f5f",
             "gridcolor": "white",
             "linecolor": "white",
             "minorgridcolor": "white",
             "startlinecolor": "#2a3f5f"
            },
            "baxis": {
             "endlinecolor": "#2a3f5f",
             "gridcolor": "white",
             "linecolor": "white",
             "minorgridcolor": "white",
             "startlinecolor": "#2a3f5f"
            },
            "type": "carpet"
           }
          ],
          "choropleth": [
           {
            "colorbar": {
             "outlinewidth": 0,
             "ticks": ""
            },
            "type": "choropleth"
           }
          ],
          "contour": [
           {
            "colorbar": {
             "outlinewidth": 0,
             "ticks": ""
            },
            "colorscale": [
             [
              0,
              "#0d0887"
             ],
             [
              0.1111111111111111,
              "#46039f"
             ],
             [
              0.2222222222222222,
              "#7201a8"
             ],
             [
              0.3333333333333333,
              "#9c179e"
             ],
             [
              0.4444444444444444,
              "#bd3786"
             ],
             [
              0.5555555555555556,
              "#d8576b"
             ],
             [
              0.6666666666666666,
              "#ed7953"
             ],
             [
              0.7777777777777778,
              "#fb9f3a"
             ],
             [
              0.8888888888888888,
              "#fdca26"
             ],
             [
              1,
              "#f0f921"
             ]
            ],
            "type": "contour"
           }
          ],
          "contourcarpet": [
           {
            "colorbar": {
             "outlinewidth": 0,
             "ticks": ""
            },
            "type": "contourcarpet"
           }
          ],
          "heatmap": [
           {
            "colorbar": {
             "outlinewidth": 0,
             "ticks": ""
            },
            "colorscale": [
             [
              0,
              "#0d0887"
             ],
             [
              0.1111111111111111,
              "#46039f"
             ],
             [
              0.2222222222222222,
              "#7201a8"
             ],
             [
              0.3333333333333333,
              "#9c179e"
             ],
             [
              0.4444444444444444,
              "#bd3786"
             ],
             [
              0.5555555555555556,
              "#d8576b"
             ],
             [
              0.6666666666666666,
              "#ed7953"
             ],
             [
              0.7777777777777778,
              "#fb9f3a"
             ],
             [
              0.8888888888888888,
              "#fdca26"
             ],
             [
              1,
              "#f0f921"
             ]
            ],
            "type": "heatmap"
           }
          ],
          "heatmapgl": [
           {
            "colorbar": {
             "outlinewidth": 0,
             "ticks": ""
            },
            "colorscale": [
             [
              0,
              "#0d0887"
             ],
             [
              0.1111111111111111,
              "#46039f"
             ],
             [
              0.2222222222222222,
              "#7201a8"
             ],
             [
              0.3333333333333333,
              "#9c179e"
             ],
             [
              0.4444444444444444,
              "#bd3786"
             ],
             [
              0.5555555555555556,
              "#d8576b"
             ],
             [
              0.6666666666666666,
              "#ed7953"
             ],
             [
              0.7777777777777778,
              "#fb9f3a"
             ],
             [
              0.8888888888888888,
              "#fdca26"
             ],
             [
              1,
              "#f0f921"
             ]
            ],
            "type": "heatmapgl"
           }
          ],
          "histogram": [
           {
            "marker": {
             "pattern": {
              "fillmode": "overlay",
              "size": 10,
              "solidity": 0.2
             }
            },
            "type": "histogram"
           }
          ],
          "histogram2d": [
           {
            "colorbar": {
             "outlinewidth": 0,
             "ticks": ""
            },
            "colorscale": [
             [
              0,
              "#0d0887"
             ],
             [
              0.1111111111111111,
              "#46039f"
             ],
             [
              0.2222222222222222,
              "#7201a8"
             ],
             [
              0.3333333333333333,
              "#9c179e"
             ],
             [
              0.4444444444444444,
              "#bd3786"
             ],
             [
              0.5555555555555556,
              "#d8576b"
             ],
             [
              0.6666666666666666,
              "#ed7953"
             ],
             [
              0.7777777777777778,
              "#fb9f3a"
             ],
             [
              0.8888888888888888,
              "#fdca26"
             ],
             [
              1,
              "#f0f921"
             ]
            ],
            "type": "histogram2d"
           }
          ],
          "histogram2dcontour": [
           {
            "colorbar": {
             "outlinewidth": 0,
             "ticks": ""
            },
            "colorscale": [
             [
              0,
              "#0d0887"
             ],
             [
              0.1111111111111111,
              "#46039f"
             ],
             [
              0.2222222222222222,
              "#7201a8"
             ],
             [
              0.3333333333333333,
              "#9c179e"
             ],
             [
              0.4444444444444444,
              "#bd3786"
             ],
             [
              0.5555555555555556,
              "#d8576b"
             ],
             [
              0.6666666666666666,
              "#ed7953"
             ],
             [
              0.7777777777777778,
              "#fb9f3a"
             ],
             [
              0.8888888888888888,
              "#fdca26"
             ],
             [
              1,
              "#f0f921"
             ]
            ],
            "type": "histogram2dcontour"
           }
          ],
          "mesh3d": [
           {
            "colorbar": {
             "outlinewidth": 0,
             "ticks": ""
            },
            "type": "mesh3d"
           }
          ],
          "parcoords": [
           {
            "line": {
             "colorbar": {
              "outlinewidth": 0,
              "ticks": ""
             }
            },
            "type": "parcoords"
           }
          ],
          "pie": [
           {
            "automargin": true,
            "type": "pie"
           }
          ],
          "scatter": [
           {
            "marker": {
             "colorbar": {
              "outlinewidth": 0,
              "ticks": ""
             }
            },
            "type": "scatter"
           }
          ],
          "scatter3d": [
           {
            "line": {
             "colorbar": {
              "outlinewidth": 0,
              "ticks": ""
             }
            },
            "marker": {
             "colorbar": {
              "outlinewidth": 0,
              "ticks": ""
             }
            },
            "type": "scatter3d"
           }
          ],
          "scattercarpet": [
           {
            "marker": {
             "colorbar": {
              "outlinewidth": 0,
              "ticks": ""
             }
            },
            "type": "scattercarpet"
           }
          ],
          "scattergeo": [
           {
            "marker": {
             "colorbar": {
              "outlinewidth": 0,
              "ticks": ""
             }
            },
            "type": "scattergeo"
           }
          ],
          "scattergl": [
           {
            "marker": {
             "colorbar": {
              "outlinewidth": 0,
              "ticks": ""
             }
            },
            "type": "scattergl"
           }
          ],
          "scattermapbox": [
           {
            "marker": {
             "colorbar": {
              "outlinewidth": 0,
              "ticks": ""
             }
            },
            "type": "scattermapbox"
           }
          ],
          "scatterpolar": [
           {
            "marker": {
             "colorbar": {
              "outlinewidth": 0,
              "ticks": ""
             }
            },
            "type": "scatterpolar"
           }
          ],
          "scatterpolargl": [
           {
            "marker": {
             "colorbar": {
              "outlinewidth": 0,
              "ticks": ""
             }
            },
            "type": "scatterpolargl"
           }
          ],
          "scatterternary": [
           {
            "marker": {
             "colorbar": {
              "outlinewidth": 0,
              "ticks": ""
             }
            },
            "type": "scatterternary"
           }
          ],
          "surface": [
           {
            "colorbar": {
             "outlinewidth": 0,
             "ticks": ""
            },
            "colorscale": [
             [
              0,
              "#0d0887"
             ],
             [
              0.1111111111111111,
              "#46039f"
             ],
             [
              0.2222222222222222,
              "#7201a8"
             ],
             [
              0.3333333333333333,
              "#9c179e"
             ],
             [
              0.4444444444444444,
              "#bd3786"
             ],
             [
              0.5555555555555556,
              "#d8576b"
             ],
             [
              0.6666666666666666,
              "#ed7953"
             ],
             [
              0.7777777777777778,
              "#fb9f3a"
             ],
             [
              0.8888888888888888,
              "#fdca26"
             ],
             [
              1,
              "#f0f921"
             ]
            ],
            "type": "surface"
           }
          ],
          "table": [
           {
            "cells": {
             "fill": {
              "color": "#EBF0F8"
             },
             "line": {
              "color": "white"
             }
            },
            "header": {
             "fill": {
              "color": "#C8D4E3"
             },
             "line": {
              "color": "white"
             }
            },
            "type": "table"
           }
          ]
         },
         "layout": {
          "annotationdefaults": {
           "arrowcolor": "#2a3f5f",
           "arrowhead": 0,
           "arrowwidth": 1
          },
          "autotypenumbers": "strict",
          "coloraxis": {
           "colorbar": {
            "outlinewidth": 0,
            "ticks": ""
           }
          },
          "colorscale": {
           "diverging": [
            [
             0,
             "#8e0152"
            ],
            [
             0.1,
             "#c51b7d"
            ],
            [
             0.2,
             "#de77ae"
            ],
            [
             0.3,
             "#f1b6da"
            ],
            [
             0.4,
             "#fde0ef"
            ],
            [
             0.5,
             "#f7f7f7"
            ],
            [
             0.6,
             "#e6f5d0"
            ],
            [
             0.7,
             "#b8e186"
            ],
            [
             0.8,
             "#7fbc41"
            ],
            [
             0.9,
             "#4d9221"
            ],
            [
             1,
             "#276419"
            ]
           ],
           "sequential": [
            [
             0,
             "#0d0887"
            ],
            [
             0.1111111111111111,
             "#46039f"
            ],
            [
             0.2222222222222222,
             "#7201a8"
            ],
            [
             0.3333333333333333,
             "#9c179e"
            ],
            [
             0.4444444444444444,
             "#bd3786"
            ],
            [
             0.5555555555555556,
             "#d8576b"
            ],
            [
             0.6666666666666666,
             "#ed7953"
            ],
            [
             0.7777777777777778,
             "#fb9f3a"
            ],
            [
             0.8888888888888888,
             "#fdca26"
            ],
            [
             1,
             "#f0f921"
            ]
           ],
           "sequentialminus": [
            [
             0,
             "#0d0887"
            ],
            [
             0.1111111111111111,
             "#46039f"
            ],
            [
             0.2222222222222222,
             "#7201a8"
            ],
            [
             0.3333333333333333,
             "#9c179e"
            ],
            [
             0.4444444444444444,
             "#bd3786"
            ],
            [
             0.5555555555555556,
             "#d8576b"
            ],
            [
             0.6666666666666666,
             "#ed7953"
            ],
            [
             0.7777777777777778,
             "#fb9f3a"
            ],
            [
             0.8888888888888888,
             "#fdca26"
            ],
            [
             1,
             "#f0f921"
            ]
           ]
          },
          "colorway": [
           "#636efa",
           "#EF553B",
           "#00cc96",
           "#ab63fa",
           "#FFA15A",
           "#19d3f3",
           "#FF6692",
           "#B6E880",
           "#FF97FF",
           "#FECB52"
          ],
          "font": {
           "color": "#2a3f5f"
          },
          "geo": {
           "bgcolor": "white",
           "lakecolor": "white",
           "landcolor": "#E5ECF6",
           "showlakes": true,
           "showland": true,
           "subunitcolor": "white"
          },
          "hoverlabel": {
           "align": "left"
          },
          "hovermode": "closest",
          "mapbox": {
           "style": "light"
          },
          "paper_bgcolor": "white",
          "plot_bgcolor": "#E5ECF6",
          "polar": {
           "angularaxis": {
            "gridcolor": "white",
            "linecolor": "white",
            "ticks": ""
           },
           "bgcolor": "#E5ECF6",
           "radialaxis": {
            "gridcolor": "white",
            "linecolor": "white",
            "ticks": ""
           }
          },
          "scene": {
           "xaxis": {
            "backgroundcolor": "#E5ECF6",
            "gridcolor": "white",
            "gridwidth": 2,
            "linecolor": "white",
            "showbackground": true,
            "ticks": "",
            "zerolinecolor": "white"
           },
           "yaxis": {
            "backgroundcolor": "#E5ECF6",
            "gridcolor": "white",
            "gridwidth": 2,
            "linecolor": "white",
            "showbackground": true,
            "ticks": "",
            "zerolinecolor": "white"
           },
           "zaxis": {
            "backgroundcolor": "#E5ECF6",
            "gridcolor": "white",
            "gridwidth": 2,
            "linecolor": "white",
            "showbackground": true,
            "ticks": "",
            "zerolinecolor": "white"
           }
          },
          "shapedefaults": {
           "line": {
            "color": "#2a3f5f"
           }
          },
          "ternary": {
           "aaxis": {
            "gridcolor": "white",
            "linecolor": "white",
            "ticks": ""
           },
           "baxis": {
            "gridcolor": "white",
            "linecolor": "white",
            "ticks": ""
           },
           "bgcolor": "#E5ECF6",
           "caxis": {
            "gridcolor": "white",
            "linecolor": "white",
            "ticks": ""
           }
          },
          "title": {
           "x": 0.05
          },
          "xaxis": {
           "automargin": true,
           "gridcolor": "white",
           "linecolor": "white",
           "ticks": "",
           "title": {
            "standoff": 15
           },
           "zerolinecolor": "white",
           "zerolinewidth": 2
          },
          "yaxis": {
           "automargin": true,
           "gridcolor": "white",
           "linecolor": "white",
           "ticks": "",
           "title": {
            "standoff": 15
           },
           "zerolinecolor": "white",
           "zerolinewidth": 2
          }
         }
        },
        "xaxis": {
         "anchor": "y",
         "domain": [
          0,
          1
         ],
         "title": {
          "text": "Views"
         }
        },
        "yaxis": {
         "anchor": "x",
         "domain": [
          0,
          1
         ],
         "title": {
          "text": "count"
         }
        }
       }
      },
      "text/html": [
       "<div>                            <div id=\"2aea2be2-70d5-4c76-b0ef-68ca33fec5f6\" class=\"plotly-graph-div\" style=\"height:525px; width:100%;\"></div>            <script type=\"text/javascript\">                require([\"plotly\"], function(Plotly) {                    window.PLOTLYENV=window.PLOTLYENV || {};                                    if (document.getElementById(\"2aea2be2-70d5-4c76-b0ef-68ca33fec5f6\")) {                    Plotly.newPlot(                        \"2aea2be2-70d5-4c76-b0ef-68ca33fec5f6\",                        [{\"alignmentgroup\":\"True\",\"bingroup\":\"x\",\"hovertemplate\":\"Name=Ludwig<br>Views=%{x}<br>count=%{y}<extra></extra>\",\"legendgroup\":\"Ludwig\",\"marker\":{\"color\":\"#636efa\",\"pattern\":{\"shape\":\"\"}},\"name\":\"Ludwig\",\"nbinsx\":20,\"offsetgroup\":\"Ludwig\",\"orientation\":\"v\",\"showlegend\":true,\"x\":[522702,639875,695172,538988,700680,531013,551532,656670,653719,479557,650628,1203828,610162,1090982,890272,881625,747567,1011379,1821793,1034651,1464811,993122,650936,664185,380597,445228,891904,617412,453723,1138792,415959,256502,996361,808398,433935,511751,582216,1313262,435267,816340,667981,923307,428792,767491,654819,763595,2808487,350446,588793,1763755,541996,429518,931510,605627,261114,391438,331655,556486,973899,359918,831395,263484,581730,815699,788411,647605,540528,2376489,479666,438854,853653,448922,355830,413332,838557,389391,1031469,340454,902362,1246931,518496,429617,1010376,530108,448936,520997,675614,1216610,617505,938043,822246,369128,503308,417291,297247,891897,1759962,389362,463809,703838,1266182,424717,386944,588484,581889,389710,468969,314805,758882,533740,324176,249591,1050443,354043,1138457,320055,441158,496244,738816,636348,1087363,897641,445370,404780,672357,1495897,420610,842817,458602,385608,461080,215665,770430,379315,629645,317083,428344,333047,546296,325703,765489,918366,557087,414924,678806,319106,699318,888478,604552,546863,485826,296777,336101,916246,412042,501643,1036918,463921,459277,210258,693532,424298,3265569,602244,333655,413880,759176,1023366,311426,840912,427398,701250,719945,608936,418695,336400,429541,634911,446930,578733,754545,659031,560942,767320,615713,576715,512184,527341,613248,672033,353796,380154,477259,613120,515583,521532,1710205,513411,1097359,597982,413360,903393,761625,383914,368821,579882,951169,456190,1036705,1546578,377205,889750,435153,1730484,1338357,1050646,868036,2327369,676359,505664,647836,1114817,844420,990164,592986,411565,873293,323202,770196,1334806,460004,518713,675802,818904,2079776,1214758,416520,483395,453422,983760,506889,610481,467818,1978297,647387,333760,329104,439844,795577,2413183,444110,913727,614651,887009,396104,345596,567058,750036,798295,327251,601943,790855,569185,352269,564845,462007,918216,881631,451464,729267,854468,1075361,404967,458460,443676,931525,924560,287714,443190,1058583,797758,814443,656648,1580180,391198,801877,304254,275988,754812,482411,456888,774375,652602,408397,1637218,521882,612485,834089,1099427,807618,358738,550527,780474,914885,1036856,2044554,1286292,569650,427169,830693,546909,459100,1707203,688879,2509589,1402688,532936,580681,722048,776357,426555,887698,838598,1509629,1008868,898199,666174,349177,1079939,441759,628387,1129893,2171495,713998,905888,401012,454104,732768,1125985,608739,503362,322606,406814,752620,930207,770800,472131,539285,964093,852176,516388,588097,1318574,774101,509998,1434419,836569,645807,838464,580843,991498,808519,572557,1552756,271039,746194,338461,1256937,897763,550888,2037582,697196,657081,527779,1712540,942847,551120,463084,341445,696189,1153855,855462,480405,295026,377774,174850,136648,281431,1183105,418766,1355305,455013,445143,462268,319287,476341,426414,816190,469046,437661,369058,508209,322832,327128,713334,661338,848318,488052,688663,280955,490410,2018825,573278,312372,496849,456482,375220,1399151,988873,1575049,364948,842229,1241466,939209,2269922,530977,271454,559285,850472,477631,552716,1035239,510297,351671,466479,597530,699237,271793,1944612,366713,552633,1150895,821888,478742,1053520,489116,552824,386984,509968,618324,346051,403238,290780,869883,625705,348663,729362,345853,349309,871898,810104,687925,628121,389503,296594,1130386,739434,623498,557342,368626,823159,524027,896940,394498,303154,570240,524065,624109,600227,619674,450606,772133,1053533,582930,530059,698600,618782,525521,363566,470828,464956,618607,264631,286339,510872,535014,284026,635928,557077,672845,448854,451197,1049850,692410,391325,538249,303768,306040,355705,831045,478681,382497,351725,1523462,356409,863186,806321,553325,2014556,405184,524616,369660,500704,383121,381811,367030,672929,509923,629063,492678,413123,824305,786031,376247,724931,314122,767991,366219,622330,1201244,692155,474625,338263,324247,295993,1155884,613169,457352,1563720,1082203,1776566,691630,337484,476277,492969,270784,968239,468062,198171,407457,472179,316063,797042,336093,542573,557881,338496,340805,312058,342263,620475,395437,536150,796123,686831,401193,815238,557156,616522,436168,301361,421294,290081,1106028,585839,564456,475382,352849,512249,950436,294520,293531,1073408,377896,649967,1112826,658566,308896,265474,320552,887838,275467,527330,280693,319908,392283,146300,374802,762789,583449,290873,418470,399771,689410,297239,379463,507208,1152860,480093,209324,1591559,484350,246189,349279,509204,957246,225263,255617,241678,533393,888221,280381,386010,182149,1057642,671369,269213,312715,727759,539666,747870,428382,644603,277555,273962,1211200,263746,222854,209703,452026,208711,981789,895247,166098,2319859,678952,646873,334544,225925,290951,430538,455188,724724,672222,305477,341371,503552,221981,262397,954611,758325,510404,1346267,346222,159207,302162,388160,161102,357996,540668,326097,141123,746502,275850,342910,2548819,258286,133712,224529,191002,447749,501737,192511,258738,1098384,720284,565999,772806,519847,286884,1130562,445786,655594,572914,1228884,509645,200435,343836,414902,844380,2765961,471173,773071,916937,945802,458818,1080055,684406,389268,203959,620489,1663061,308780,273093,432193,686371,445345,761918,1153449,240252,540137,815881,1775945,685321,1074566,210318,210669,368759,1477027,227763,251888,193347,490655,665882,535662,150673,561608,2398997,682277,125276,441339,410663,198266,176426,1179951,432105,141902,244449,786491,268460,216742,551889,90471,187158,395755,423712,236247,585880,670662,440290,214478,319602,202480,183275,286903,169011,1013141,1299644,245026,802435,135333,285437,1797602,267879,218998,206384,147820,228602,250700,219034,681705,389093,1760351,229426,266397,241276,927965,2951581,373040,270527,468597,253526,179939,48248,330606,271821,263974,716578,225975,757305,217336,123763,335693,774918,230313,267852,25591,314168,265711,218649,234153,246259,1288066,249840,93880,170133,189695,269184,116054,254732,191890,339097,144773,1247989,191973,154233,623930,257308,53485,1367726,674736,292438,250730,193379,32578,229268,29797,204757,230977,131684,42558,202695,263194,688857,97503,74724,166140,68450,163991,44174,119572,70167,363122,243386,469856,96117,102906,70748,86373,93887,114923,100086,388862,338741,129459,142349,199466,163858,134350,100355,98109,35376,274472,97739,395338,905977,554768,283628,292809,57611,345158,394512,221833,131191,130035,1382356,13948,46837,115880,25627,228459,286434,79865,285921,126186,118569,147776,151930,169447,110536,288691,328247,300838,396919,334579,1658325,181652,123585,74477,244548,22929,31985,494928,106591,432999,95354,7334,23869,5976,44231,42117,131270,159867,149024,27128,6125,34752,107212,21432,18110,140270,183583,1115139,29889,26179,28078,32048,13188,50369,6356,8784,34713,188420,431422,27310,8704,3851111,45890,7565,11109,7696,86272,82373,1107231,12268,184466,59054,74002,4515,3111,38361,66005,75273,37764,11171,5793,120110,106008,14583,46881],\"xaxis\":\"x\",\"yaxis\":\"y\",\"type\":\"histogram\"},{\"alignmentgroup\":\"True\",\"bingroup\":\"x\",\"hovertemplate\":\"Name=Atrioc<br>Views=%{x}<br>count=%{y}<extra></extra>\",\"legendgroup\":\"Atrioc\",\"marker\":{\"color\":\"#EF553B\",\"pattern\":{\"shape\":\"\"}},\"name\":\"Atrioc\",\"nbinsx\":20,\"offsetgroup\":\"Atrioc\",\"orientation\":\"v\",\"showlegend\":true,\"x\":[127477,121375,140928,131203,171131,149684,165780,119188,135714,180507,131691,370422,171902,133658,141942,166470,159606,155556,164380,138262,198483,142101,108885,159830,134763,157448,605124,142544,118852,182130,152621,113568,152854,245686,126411,155129,161019,154998,134709,126137,117928,128519,213792,139245,128675,147896,163106,137486,161469,175530,135886,206511,91047,152954,154382,132551,123039,113064,114436,157134,131191,140318,150125,138942,155706,119203,138668,144542,232458,185381,140960,144250,162957,182134,217182,134964,427203,133399,133572,181274,91261,212330,125544,160323,209030,133927,167452,145794,356724,127269,189129,151201,116661,169805,159762,211822,166452,179045,134535,96998,216642,129796,205590,129493,176461,137385,120021,309704,168223,241757,113242,157176,184485,187777,107211,212330,126016,104180,162298,92929,119391,76859,235508,96731,90166,165684,167814,136353,136027,107511,98814,213942,133160,252546,130189,92668,159309,588304,216213,154480,137077,52374,687344,127188,95996,95540,110357,207873,185260,64236,136646,106042,200944,79285,207684,149123,102174,130676,52159,231760,100868,117906,62597,95195,189069,89019,69124,156793,82886,206971,96796,244185,119970,146605,128647,118012,102923,104272,95449,103215,90172,85435,127892,79729,81478,87374,123536,137529,84769,186812,233827,330759,91110,101105,87958,135557,143830,55852,83676,149713,101817,88593,120738,227041,101279,96603,173123,194248,131725,154392,108319,120976,74533,81126,332053,164339,152808,78908,229960,222465,146733,273230,328436,125782,82775,82445,73387,220574,604968,122478,66993,150217,96342,73309,100160,292536,82700,198777,102493,76427,72720,102379,99686,69007,98160,67339,66156,79870,91235,228794,176689,105429,297463,122721,108480,111080,168649,88883,90240,108658,74446,103321,64346,77131,155702,431389,128637,61967,67437,92149,63757,81930,291583,250711,140591,87909,133461,78860,89222,73039,147651,257206,252404,75911,51551,141017,166451,188636,193215,153462,66466,215653,66456,45804,110152,153055,101689,207159,112858,160015,96557,226587,189731,82856,486613,161900,68345,44564,78483,84935,100574,120422,140942,83289,134159,176710,87659,103860,116220,244955,65402,149490,237500,260661,61930,73555,185617,75354,187271,79058,191893,117838,96316,120150,82829,77638,42587,758202,124422,206534,61575,114062,125771,187241,202696,72757,95885,79754,51883,39537,125103,128847,58064,44185,182634,67640,224700,62151,109373,71650,274081,45302,156294,137975,133732,23417,82888,138744,179930,106006,103653,131038,43547,142922,316360,62862,107373,63613,50850,88134,43519,146929,162172,55316,202805,132288,143959,67566,51056,123372,36634,77236,91335,151243,111891,88939,58191,66693,98718,134887,137480,192424,184994,115719,89969,164097,136533,185015,143571,75793,139532,86677,79896,64426,71067,77826,67824,47143,50589,146940,196966,110528,54198,111842,82330,117799,24560,77276,29181,99090,45332,200927,42168,125932,59062,73329,74864,60259,199761,109219,47063,33899,82595,60677,32218,42799,25525,97458,142653,35744,274945,217143,32740,154711,106615,82485,69257,18128,17896,19818,36303,28911,15252,6856,8145],\"xaxis\":\"x\",\"yaxis\":\"y\",\"type\":\"histogram\"},{\"alignmentgroup\":\"True\",\"bingroup\":\"x\",\"hovertemplate\":\"Name=Stanz<br>Views=%{x}<br>count=%{y}<extra></extra>\",\"legendgroup\":\"Stanz\",\"marker\":{\"color\":\"#00cc96\",\"pattern\":{\"shape\":\"\"}},\"name\":\"Stanz\",\"nbinsx\":20,\"offsetgroup\":\"Stanz\",\"orientation\":\"v\",\"showlegend\":true,\"x\":[14999,32073,20874,37889,18179,16898,23171,38075,32024,33915,33479,30877,20127,20590,37560,39725,28293,28165,43615,27857,26022,31341,37379,48387,89939,49632,94411,28646,68772,24577,45047,35509,30338,28045,35532,29988,20125,33794,66634,27097,20087,47526,19307,53204,23558,29671,18029,33051,18420,38384,41884,27274,21924,21179,32743,64504,13179,24760,78144,26067,17398,12145,16957,27034,17312,65565,10892,33726,14083,27884,14368,46913,57653,17012,11474,16810,31425,67394,24846,17569,21898,18387,43169,13768,21647,42325,25456,18617,39214,13699,17637,12438,42891,9684,43344,52531,13745,43255,15955,26152,35191,37531,13061,41065,13426,34300,25542,42514,14531,42932,13424,38571,23732,9545,40238,10771,39227,18661,46768,14892,9895,74096,50300,10751,33459,63138,46936,65551,23439,34678,67524,39259,71013,52751,88419,31934,75549,73973,13899,83278,9459,13011,124523,25318,16869,13001,19198,16287,9114,12120,11410,15331,23352,11703,29345,19126,11778,23375,29004,11984,12061,12069,10315,13880,12875,13477,17103,22639,16737,10176,9864,11017,34763,11955,10213,9594,29596,18538,11510,14466,19166,10644,17221,21161,13876,12756,13146,13986,19127,14940,11237,12834,23446,18753,7665,12213,15317,15911,6883,16579,28663,13982,12916,22703,15020,10470,15808,23864,16535,9827,18151,9851,14821,11459,15400,23767,20617,7945,12311,8756,19650,12323,19352,7269,8391,8879,12324,10067,11415,11105,9705,14205,25399,9485,8976,12879,21708,19479,12405,11605,19928,14811,15331,13078,12898,13986,14538,58700,38861,20580,18663,28931,11309,11614,30011,17065,15443,42902,13176,31396,16352,36231,28968,15977,38593,20607,13187,9290,16560,17467,14199,15562,23957,22075,9592,14618,6379,14676,18216,11748,9482,8159,26200,11960,23381,32631,24650,23773,8534,14608,20169,29722,11963,57393,31793,34991,42658,84652,19169,10400,21380,20910,10044,6568,13618,7411,12008,12369,12412,35386,11656,27712,15021,12646,72403,9709,30471,16424,29730,6980,10697,7080,8551,7920,13639,11081,10710,9910,14514,30125,7507,12696,9194,14954,16802,10500,6783,24006,24132,15957,34248,42014,15198,24814,18988,17516,9562,13754,25038,37257,16068,21018,4811,6341,4988,4318,17452,37323,19994,3927,19803,4365,5184,12838,14216,3228,4796,64623,9080,2818,3225,3360,6011,6139,7677,10479,12760,43331,46121,69314,11064,7417,160993,50085,32830,8425,17238,1782,1028,2135,5113,2794,1479,8185,1239,4743],\"xaxis\":\"x\",\"yaxis\":\"y\",\"type\":\"histogram\"}],                        {\"template\":{\"data\":{\"bar\":[{\"error_x\":{\"color\":\"#2a3f5f\"},\"error_y\":{\"color\":\"#2a3f5f\"},\"marker\":{\"line\":{\"color\":\"#E5ECF6\",\"width\":0.5},\"pattern\":{\"fillmode\":\"overlay\",\"size\":10,\"solidity\":0.2}},\"type\":\"bar\"}],\"barpolar\":[{\"marker\":{\"line\":{\"color\":\"#E5ECF6\",\"width\":0.5},\"pattern\":{\"fillmode\":\"overlay\",\"size\":10,\"solidity\":0.2}},\"type\":\"barpolar\"}],\"carpet\":[{\"aaxis\":{\"endlinecolor\":\"#2a3f5f\",\"gridcolor\":\"white\",\"linecolor\":\"white\",\"minorgridcolor\":\"white\",\"startlinecolor\":\"#2a3f5f\"},\"baxis\":{\"endlinecolor\":\"#2a3f5f\",\"gridcolor\":\"white\",\"linecolor\":\"white\",\"minorgridcolor\":\"white\",\"startlinecolor\":\"#2a3f5f\"},\"type\":\"carpet\"}],\"choropleth\":[{\"colorbar\":{\"outlinewidth\":0,\"ticks\":\"\"},\"type\":\"choropleth\"}],\"contour\":[{\"colorbar\":{\"outlinewidth\":0,\"ticks\":\"\"},\"colorscale\":[[0.0,\"#0d0887\"],[0.1111111111111111,\"#46039f\"],[0.2222222222222222,\"#7201a8\"],[0.3333333333333333,\"#9c179e\"],[0.4444444444444444,\"#bd3786\"],[0.5555555555555556,\"#d8576b\"],[0.6666666666666666,\"#ed7953\"],[0.7777777777777778,\"#fb9f3a\"],[0.8888888888888888,\"#fdca26\"],[1.0,\"#f0f921\"]],\"type\":\"contour\"}],\"contourcarpet\":[{\"colorbar\":{\"outlinewidth\":0,\"ticks\":\"\"},\"type\":\"contourcarpet\"}],\"heatmap\":[{\"colorbar\":{\"outlinewidth\":0,\"ticks\":\"\"},\"colorscale\":[[0.0,\"#0d0887\"],[0.1111111111111111,\"#46039f\"],[0.2222222222222222,\"#7201a8\"],[0.3333333333333333,\"#9c179e\"],[0.4444444444444444,\"#bd3786\"],[0.5555555555555556,\"#d8576b\"],[0.6666666666666666,\"#ed7953\"],[0.7777777777777778,\"#fb9f3a\"],[0.8888888888888888,\"#fdca26\"],[1.0,\"#f0f921\"]],\"type\":\"heatmap\"}],\"heatmapgl\":[{\"colorbar\":{\"outlinewidth\":0,\"ticks\":\"\"},\"colorscale\":[[0.0,\"#0d0887\"],[0.1111111111111111,\"#46039f\"],[0.2222222222222222,\"#7201a8\"],[0.3333333333333333,\"#9c179e\"],[0.4444444444444444,\"#bd3786\"],[0.5555555555555556,\"#d8576b\"],[0.6666666666666666,\"#ed7953\"],[0.7777777777777778,\"#fb9f3a\"],[0.8888888888888888,\"#fdca26\"],[1.0,\"#f0f921\"]],\"type\":\"heatmapgl\"}],\"histogram\":[{\"marker\":{\"pattern\":{\"fillmode\":\"overlay\",\"size\":10,\"solidity\":0.2}},\"type\":\"histogram\"}],\"histogram2d\":[{\"colorbar\":{\"outlinewidth\":0,\"ticks\":\"\"},\"colorscale\":[[0.0,\"#0d0887\"],[0.1111111111111111,\"#46039f\"],[0.2222222222222222,\"#7201a8\"],[0.3333333333333333,\"#9c179e\"],[0.4444444444444444,\"#bd3786\"],[0.5555555555555556,\"#d8576b\"],[0.6666666666666666,\"#ed7953\"],[0.7777777777777778,\"#fb9f3a\"],[0.8888888888888888,\"#fdca26\"],[1.0,\"#f0f921\"]],\"type\":\"histogram2d\"}],\"histogram2dcontour\":[{\"colorbar\":{\"outlinewidth\":0,\"ticks\":\"\"},\"colorscale\":[[0.0,\"#0d0887\"],[0.1111111111111111,\"#46039f\"],[0.2222222222222222,\"#7201a8\"],[0.3333333333333333,\"#9c179e\"],[0.4444444444444444,\"#bd3786\"],[0.5555555555555556,\"#d8576b\"],[0.6666666666666666,\"#ed7953\"],[0.7777777777777778,\"#fb9f3a\"],[0.8888888888888888,\"#fdca26\"],[1.0,\"#f0f921\"]],\"type\":\"histogram2dcontour\"}],\"mesh3d\":[{\"colorbar\":{\"outlinewidth\":0,\"ticks\":\"\"},\"type\":\"mesh3d\"}],\"parcoords\":[{\"line\":{\"colorbar\":{\"outlinewidth\":0,\"ticks\":\"\"}},\"type\":\"parcoords\"}],\"pie\":[{\"automargin\":true,\"type\":\"pie\"}],\"scatter\":[{\"marker\":{\"colorbar\":{\"outlinewidth\":0,\"ticks\":\"\"}},\"type\":\"scatter\"}],\"scatter3d\":[{\"line\":{\"colorbar\":{\"outlinewidth\":0,\"ticks\":\"\"}},\"marker\":{\"colorbar\":{\"outlinewidth\":0,\"ticks\":\"\"}},\"type\":\"scatter3d\"}],\"scattercarpet\":[{\"marker\":{\"colorbar\":{\"outlinewidth\":0,\"ticks\":\"\"}},\"type\":\"scattercarpet\"}],\"scattergeo\":[{\"marker\":{\"colorbar\":{\"outlinewidth\":0,\"ticks\":\"\"}},\"type\":\"scattergeo\"}],\"scattergl\":[{\"marker\":{\"colorbar\":{\"outlinewidth\":0,\"ticks\":\"\"}},\"type\":\"scattergl\"}],\"scattermapbox\":[{\"marker\":{\"colorbar\":{\"outlinewidth\":0,\"ticks\":\"\"}},\"type\":\"scattermapbox\"}],\"scatterpolar\":[{\"marker\":{\"colorbar\":{\"outlinewidth\":0,\"ticks\":\"\"}},\"type\":\"scatterpolar\"}],\"scatterpolargl\":[{\"marker\":{\"colorbar\":{\"outlinewidth\":0,\"ticks\":\"\"}},\"type\":\"scatterpolargl\"}],\"scatterternary\":[{\"marker\":{\"colorbar\":{\"outlinewidth\":0,\"ticks\":\"\"}},\"type\":\"scatterternary\"}],\"surface\":[{\"colorbar\":{\"outlinewidth\":0,\"ticks\":\"\"},\"colorscale\":[[0.0,\"#0d0887\"],[0.1111111111111111,\"#46039f\"],[0.2222222222222222,\"#7201a8\"],[0.3333333333333333,\"#9c179e\"],[0.4444444444444444,\"#bd3786\"],[0.5555555555555556,\"#d8576b\"],[0.6666666666666666,\"#ed7953\"],[0.7777777777777778,\"#fb9f3a\"],[0.8888888888888888,\"#fdca26\"],[1.0,\"#f0f921\"]],\"type\":\"surface\"}],\"table\":[{\"cells\":{\"fill\":{\"color\":\"#EBF0F8\"},\"line\":{\"color\":\"white\"}},\"header\":{\"fill\":{\"color\":\"#C8D4E3\"},\"line\":{\"color\":\"white\"}},\"type\":\"table\"}]},\"layout\":{\"annotationdefaults\":{\"arrowcolor\":\"#2a3f5f\",\"arrowhead\":0,\"arrowwidth\":1},\"autotypenumbers\":\"strict\",\"coloraxis\":{\"colorbar\":{\"outlinewidth\":0,\"ticks\":\"\"}},\"colorscale\":{\"diverging\":[[0,\"#8e0152\"],[0.1,\"#c51b7d\"],[0.2,\"#de77ae\"],[0.3,\"#f1b6da\"],[0.4,\"#fde0ef\"],[0.5,\"#f7f7f7\"],[0.6,\"#e6f5d0\"],[0.7,\"#b8e186\"],[0.8,\"#7fbc41\"],[0.9,\"#4d9221\"],[1,\"#276419\"]],\"sequential\":[[0.0,\"#0d0887\"],[0.1111111111111111,\"#46039f\"],[0.2222222222222222,\"#7201a8\"],[0.3333333333333333,\"#9c179e\"],[0.4444444444444444,\"#bd3786\"],[0.5555555555555556,\"#d8576b\"],[0.6666666666666666,\"#ed7953\"],[0.7777777777777778,\"#fb9f3a\"],[0.8888888888888888,\"#fdca26\"],[1.0,\"#f0f921\"]],\"sequentialminus\":[[0.0,\"#0d0887\"],[0.1111111111111111,\"#46039f\"],[0.2222222222222222,\"#7201a8\"],[0.3333333333333333,\"#9c179e\"],[0.4444444444444444,\"#bd3786\"],[0.5555555555555556,\"#d8576b\"],[0.6666666666666666,\"#ed7953\"],[0.7777777777777778,\"#fb9f3a\"],[0.8888888888888888,\"#fdca26\"],[1.0,\"#f0f921\"]]},\"colorway\":[\"#636efa\",\"#EF553B\",\"#00cc96\",\"#ab63fa\",\"#FFA15A\",\"#19d3f3\",\"#FF6692\",\"#B6E880\",\"#FF97FF\",\"#FECB52\"],\"font\":{\"color\":\"#2a3f5f\"},\"geo\":{\"bgcolor\":\"white\",\"lakecolor\":\"white\",\"landcolor\":\"#E5ECF6\",\"showlakes\":true,\"showland\":true,\"subunitcolor\":\"white\"},\"hoverlabel\":{\"align\":\"left\"},\"hovermode\":\"closest\",\"mapbox\":{\"style\":\"light\"},\"paper_bgcolor\":\"white\",\"plot_bgcolor\":\"#E5ECF6\",\"polar\":{\"angularaxis\":{\"gridcolor\":\"white\",\"linecolor\":\"white\",\"ticks\":\"\"},\"bgcolor\":\"#E5ECF6\",\"radialaxis\":{\"gridcolor\":\"white\",\"linecolor\":\"white\",\"ticks\":\"\"}},\"scene\":{\"xaxis\":{\"backgroundcolor\":\"#E5ECF6\",\"gridcolor\":\"white\",\"gridwidth\":2,\"linecolor\":\"white\",\"showbackground\":true,\"ticks\":\"\",\"zerolinecolor\":\"white\"},\"yaxis\":{\"backgroundcolor\":\"#E5ECF6\",\"gridcolor\":\"white\",\"gridwidth\":2,\"linecolor\":\"white\",\"showbackground\":true,\"ticks\":\"\",\"zerolinecolor\":\"white\"},\"zaxis\":{\"backgroundcolor\":\"#E5ECF6\",\"gridcolor\":\"white\",\"gridwidth\":2,\"linecolor\":\"white\",\"showbackground\":true,\"ticks\":\"\",\"zerolinecolor\":\"white\"}},\"shapedefaults\":{\"line\":{\"color\":\"#2a3f5f\"}},\"ternary\":{\"aaxis\":{\"gridcolor\":\"white\",\"linecolor\":\"white\",\"ticks\":\"\"},\"baxis\":{\"gridcolor\":\"white\",\"linecolor\":\"white\",\"ticks\":\"\"},\"bgcolor\":\"#E5ECF6\",\"caxis\":{\"gridcolor\":\"white\",\"linecolor\":\"white\",\"ticks\":\"\"}},\"title\":{\"x\":0.05},\"xaxis\":{\"automargin\":true,\"gridcolor\":\"white\",\"linecolor\":\"white\",\"ticks\":\"\",\"title\":{\"standoff\":15},\"zerolinecolor\":\"white\",\"zerolinewidth\":2},\"yaxis\":{\"automargin\":true,\"gridcolor\":\"white\",\"linecolor\":\"white\",\"ticks\":\"\",\"title\":{\"standoff\":15},\"zerolinecolor\":\"white\",\"zerolinewidth\":2}}},\"xaxis\":{\"anchor\":\"y\",\"domain\":[0.0,1.0],\"title\":{\"text\":\"Views\"}},\"yaxis\":{\"anchor\":\"x\",\"domain\":[0.0,1.0],\"title\":{\"text\":\"count\"}},\"legend\":{\"title\":{\"text\":\"Name\"},\"tracegroupgap\":0},\"margin\":{\"t\":60},\"barmode\":\"relative\"},                        {\"responsive\": true}                    ).then(function(){\n",
       "                            \n",
       "var gd = document.getElementById('2aea2be2-70d5-4c76-b0ef-68ca33fec5f6');\n",
       "var x = new MutationObserver(function (mutations, observer) {{\n",
       "        var display = window.getComputedStyle(gd).display;\n",
       "        if (!display || display === 'none') {{\n",
       "            console.log([gd, 'removed!']);\n",
       "            Plotly.purge(gd);\n",
       "            observer.disconnect();\n",
       "        }}\n",
       "}});\n",
       "\n",
       "// Listen for the removal of the full notebook cells\n",
       "var notebookContainer = gd.closest('#notebook-container');\n",
       "if (notebookContainer) {{\n",
       "    x.observe(notebookContainer, {childList: true});\n",
       "}}\n",
       "\n",
       "// Listen for the clearing of the current output cell\n",
       "var outputEl = gd.closest('.output');\n",
       "if (outputEl) {{\n",
       "    x.observe(outputEl, {childList: true});\n",
       "}}\n",
       "\n",
       "                        })                };                });            </script>        </div>"
      ]
     },
     "metadata": {},
     "output_type": "display_data"
    }
   ],
   "source": [
    "fig = px.histogram(df, x=\"Views\", nbins=20, color=\"Name\")\n",
    "fig.show()"
   ]
  },
  {
   "cell_type": "code",
   "execution_count": 36,
   "metadata": {
    "scrolled": false
   },
   "outputs": [
    {
     "data": {
      "application/vnd.plotly.v1+json": {
       "config": {
        "linkText": "Export to plot.ly",
        "plotlyServerURL": "https://plot.ly",
        "showLink": false
       },
       "data": [
        {
         "hovertext": [
          "1790",
          "20",
          "12",
          "9",
          "8",
          "2"
         ],
         "labels": [
          20,
          23,
          27,
          10,
          24,
          22
         ],
         "marker": {
          "colors": [
           "red"
          ]
         },
         "text": [
          "20",
          "23",
          "27",
          "10",
          "24",
          "22"
         ],
         "type": "pie",
         "values": [
          97.23,
          1.09,
          0.65,
          0.49,
          0.43,
          0.11
         ]
        }
       ],
       "layout": {
        "legend": {
         "orientation": "h"
        },
        "template": {
         "data": {
          "bar": [
           {
            "error_x": {
             "color": "#2a3f5f"
            },
            "error_y": {
             "color": "#2a3f5f"
            },
            "marker": {
             "line": {
              "color": "#E5ECF6",
              "width": 0.5
             },
             "pattern": {
              "fillmode": "overlay",
              "size": 10,
              "solidity": 0.2
             }
            },
            "type": "bar"
           }
          ],
          "barpolar": [
           {
            "marker": {
             "line": {
              "color": "#E5ECF6",
              "width": 0.5
             },
             "pattern": {
              "fillmode": "overlay",
              "size": 10,
              "solidity": 0.2
             }
            },
            "type": "barpolar"
           }
          ],
          "carpet": [
           {
            "aaxis": {
             "endlinecolor": "#2a3f5f",
             "gridcolor": "white",
             "linecolor": "white",
             "minorgridcolor": "white",
             "startlinecolor": "#2a3f5f"
            },
            "baxis": {
             "endlinecolor": "#2a3f5f",
             "gridcolor": "white",
             "linecolor": "white",
             "minorgridcolor": "white",
             "startlinecolor": "#2a3f5f"
            },
            "type": "carpet"
           }
          ],
          "choropleth": [
           {
            "colorbar": {
             "outlinewidth": 0,
             "ticks": ""
            },
            "type": "choropleth"
           }
          ],
          "contour": [
           {
            "colorbar": {
             "outlinewidth": 0,
             "ticks": ""
            },
            "colorscale": [
             [
              0,
              "#0d0887"
             ],
             [
              0.1111111111111111,
              "#46039f"
             ],
             [
              0.2222222222222222,
              "#7201a8"
             ],
             [
              0.3333333333333333,
              "#9c179e"
             ],
             [
              0.4444444444444444,
              "#bd3786"
             ],
             [
              0.5555555555555556,
              "#d8576b"
             ],
             [
              0.6666666666666666,
              "#ed7953"
             ],
             [
              0.7777777777777778,
              "#fb9f3a"
             ],
             [
              0.8888888888888888,
              "#fdca26"
             ],
             [
              1,
              "#f0f921"
             ]
            ],
            "type": "contour"
           }
          ],
          "contourcarpet": [
           {
            "colorbar": {
             "outlinewidth": 0,
             "ticks": ""
            },
            "type": "contourcarpet"
           }
          ],
          "heatmap": [
           {
            "colorbar": {
             "outlinewidth": 0,
             "ticks": ""
            },
            "colorscale": [
             [
              0,
              "#0d0887"
             ],
             [
              0.1111111111111111,
              "#46039f"
             ],
             [
              0.2222222222222222,
              "#7201a8"
             ],
             [
              0.3333333333333333,
              "#9c179e"
             ],
             [
              0.4444444444444444,
              "#bd3786"
             ],
             [
              0.5555555555555556,
              "#d8576b"
             ],
             [
              0.6666666666666666,
              "#ed7953"
             ],
             [
              0.7777777777777778,
              "#fb9f3a"
             ],
             [
              0.8888888888888888,
              "#fdca26"
             ],
             [
              1,
              "#f0f921"
             ]
            ],
            "type": "heatmap"
           }
          ],
          "heatmapgl": [
           {
            "colorbar": {
             "outlinewidth": 0,
             "ticks": ""
            },
            "colorscale": [
             [
              0,
              "#0d0887"
             ],
             [
              0.1111111111111111,
              "#46039f"
             ],
             [
              0.2222222222222222,
              "#7201a8"
             ],
             [
              0.3333333333333333,
              "#9c179e"
             ],
             [
              0.4444444444444444,
              "#bd3786"
             ],
             [
              0.5555555555555556,
              "#d8576b"
             ],
             [
              0.6666666666666666,
              "#ed7953"
             ],
             [
              0.7777777777777778,
              "#fb9f3a"
             ],
             [
              0.8888888888888888,
              "#fdca26"
             ],
             [
              1,
              "#f0f921"
             ]
            ],
            "type": "heatmapgl"
           }
          ],
          "histogram": [
           {
            "marker": {
             "pattern": {
              "fillmode": "overlay",
              "size": 10,
              "solidity": 0.2
             }
            },
            "type": "histogram"
           }
          ],
          "histogram2d": [
           {
            "colorbar": {
             "outlinewidth": 0,
             "ticks": ""
            },
            "colorscale": [
             [
              0,
              "#0d0887"
             ],
             [
              0.1111111111111111,
              "#46039f"
             ],
             [
              0.2222222222222222,
              "#7201a8"
             ],
             [
              0.3333333333333333,
              "#9c179e"
             ],
             [
              0.4444444444444444,
              "#bd3786"
             ],
             [
              0.5555555555555556,
              "#d8576b"
             ],
             [
              0.6666666666666666,
              "#ed7953"
             ],
             [
              0.7777777777777778,
              "#fb9f3a"
             ],
             [
              0.8888888888888888,
              "#fdca26"
             ],
             [
              1,
              "#f0f921"
             ]
            ],
            "type": "histogram2d"
           }
          ],
          "histogram2dcontour": [
           {
            "colorbar": {
             "outlinewidth": 0,
             "ticks": ""
            },
            "colorscale": [
             [
              0,
              "#0d0887"
             ],
             [
              0.1111111111111111,
              "#46039f"
             ],
             [
              0.2222222222222222,
              "#7201a8"
             ],
             [
              0.3333333333333333,
              "#9c179e"
             ],
             [
              0.4444444444444444,
              "#bd3786"
             ],
             [
              0.5555555555555556,
              "#d8576b"
             ],
             [
              0.6666666666666666,
              "#ed7953"
             ],
             [
              0.7777777777777778,
              "#fb9f3a"
             ],
             [
              0.8888888888888888,
              "#fdca26"
             ],
             [
              1,
              "#f0f921"
             ]
            ],
            "type": "histogram2dcontour"
           }
          ],
          "mesh3d": [
           {
            "colorbar": {
             "outlinewidth": 0,
             "ticks": ""
            },
            "type": "mesh3d"
           }
          ],
          "parcoords": [
           {
            "line": {
             "colorbar": {
              "outlinewidth": 0,
              "ticks": ""
             }
            },
            "type": "parcoords"
           }
          ],
          "pie": [
           {
            "automargin": true,
            "type": "pie"
           }
          ],
          "scatter": [
           {
            "marker": {
             "colorbar": {
              "outlinewidth": 0,
              "ticks": ""
             }
            },
            "type": "scatter"
           }
          ],
          "scatter3d": [
           {
            "line": {
             "colorbar": {
              "outlinewidth": 0,
              "ticks": ""
             }
            },
            "marker": {
             "colorbar": {
              "outlinewidth": 0,
              "ticks": ""
             }
            },
            "type": "scatter3d"
           }
          ],
          "scattercarpet": [
           {
            "marker": {
             "colorbar": {
              "outlinewidth": 0,
              "ticks": ""
             }
            },
            "type": "scattercarpet"
           }
          ],
          "scattergeo": [
           {
            "marker": {
             "colorbar": {
              "outlinewidth": 0,
              "ticks": ""
             }
            },
            "type": "scattergeo"
           }
          ],
          "scattergl": [
           {
            "marker": {
             "colorbar": {
              "outlinewidth": 0,
              "ticks": ""
             }
            },
            "type": "scattergl"
           }
          ],
          "scattermapbox": [
           {
            "marker": {
             "colorbar": {
              "outlinewidth": 0,
              "ticks": ""
             }
            },
            "type": "scattermapbox"
           }
          ],
          "scatterpolar": [
           {
            "marker": {
             "colorbar": {
              "outlinewidth": 0,
              "ticks": ""
             }
            },
            "type": "scatterpolar"
           }
          ],
          "scatterpolargl": [
           {
            "marker": {
             "colorbar": {
              "outlinewidth": 0,
              "ticks": ""
             }
            },
            "type": "scatterpolargl"
           }
          ],
          "scatterternary": [
           {
            "marker": {
             "colorbar": {
              "outlinewidth": 0,
              "ticks": ""
             }
            },
            "type": "scatterternary"
           }
          ],
          "surface": [
           {
            "colorbar": {
             "outlinewidth": 0,
             "ticks": ""
            },
            "colorscale": [
             [
              0,
              "#0d0887"
             ],
             [
              0.1111111111111111,
              "#46039f"
             ],
             [
              0.2222222222222222,
              "#7201a8"
             ],
             [
              0.3333333333333333,
              "#9c179e"
             ],
             [
              0.4444444444444444,
              "#bd3786"
             ],
             [
              0.5555555555555556,
              "#d8576b"
             ],
             [
              0.6666666666666666,
              "#ed7953"
             ],
             [
              0.7777777777777778,
              "#fb9f3a"
             ],
             [
              0.8888888888888888,
              "#fdca26"
             ],
             [
              1,
              "#f0f921"
             ]
            ],
            "type": "surface"
           }
          ],
          "table": [
           {
            "cells": {
             "fill": {
              "color": "#EBF0F8"
             },
             "line": {
              "color": "white"
             }
            },
            "header": {
             "fill": {
              "color": "#C8D4E3"
             },
             "line": {
              "color": "white"
             }
            },
            "type": "table"
           }
          ]
         },
         "layout": {
          "annotationdefaults": {
           "arrowcolor": "#2a3f5f",
           "arrowhead": 0,
           "arrowwidth": 1
          },
          "autotypenumbers": "strict",
          "coloraxis": {
           "colorbar": {
            "outlinewidth": 0,
            "ticks": ""
           }
          },
          "colorscale": {
           "diverging": [
            [
             0,
             "#8e0152"
            ],
            [
             0.1,
             "#c51b7d"
            ],
            [
             0.2,
             "#de77ae"
            ],
            [
             0.3,
             "#f1b6da"
            ],
            [
             0.4,
             "#fde0ef"
            ],
            [
             0.5,
             "#f7f7f7"
            ],
            [
             0.6,
             "#e6f5d0"
            ],
            [
             0.7,
             "#b8e186"
            ],
            [
             0.8,
             "#7fbc41"
            ],
            [
             0.9,
             "#4d9221"
            ],
            [
             1,
             "#276419"
            ]
           ],
           "sequential": [
            [
             0,
             "#0d0887"
            ],
            [
             0.1111111111111111,
             "#46039f"
            ],
            [
             0.2222222222222222,
             "#7201a8"
            ],
            [
             0.3333333333333333,
             "#9c179e"
            ],
            [
             0.4444444444444444,
             "#bd3786"
            ],
            [
             0.5555555555555556,
             "#d8576b"
            ],
            [
             0.6666666666666666,
             "#ed7953"
            ],
            [
             0.7777777777777778,
             "#fb9f3a"
            ],
            [
             0.8888888888888888,
             "#fdca26"
            ],
            [
             1,
             "#f0f921"
            ]
           ],
           "sequentialminus": [
            [
             0,
             "#0d0887"
            ],
            [
             0.1111111111111111,
             "#46039f"
            ],
            [
             0.2222222222222222,
             "#7201a8"
            ],
            [
             0.3333333333333333,
             "#9c179e"
            ],
            [
             0.4444444444444444,
             "#bd3786"
            ],
            [
             0.5555555555555556,
             "#d8576b"
            ],
            [
             0.6666666666666666,
             "#ed7953"
            ],
            [
             0.7777777777777778,
             "#fb9f3a"
            ],
            [
             0.8888888888888888,
             "#fdca26"
            ],
            [
             1,
             "#f0f921"
            ]
           ]
          },
          "colorway": [
           "#636efa",
           "#EF553B",
           "#00cc96",
           "#ab63fa",
           "#FFA15A",
           "#19d3f3",
           "#FF6692",
           "#B6E880",
           "#FF97FF",
           "#FECB52"
          ],
          "font": {
           "color": "#2a3f5f"
          },
          "geo": {
           "bgcolor": "white",
           "lakecolor": "white",
           "landcolor": "#E5ECF6",
           "showlakes": true,
           "showland": true,
           "subunitcolor": "white"
          },
          "hoverlabel": {
           "align": "left"
          },
          "hovermode": "closest",
          "mapbox": {
           "style": "light"
          },
          "paper_bgcolor": "white",
          "plot_bgcolor": "#E5ECF6",
          "polar": {
           "angularaxis": {
            "gridcolor": "white",
            "linecolor": "white",
            "ticks": ""
           },
           "bgcolor": "#E5ECF6",
           "radialaxis": {
            "gridcolor": "white",
            "linecolor": "white",
            "ticks": ""
           }
          },
          "scene": {
           "xaxis": {
            "backgroundcolor": "#E5ECF6",
            "gridcolor": "white",
            "gridwidth": 2,
            "linecolor": "white",
            "showbackground": true,
            "ticks": "",
            "zerolinecolor": "white"
           },
           "yaxis": {
            "backgroundcolor": "#E5ECF6",
            "gridcolor": "white",
            "gridwidth": 2,
            "linecolor": "white",
            "showbackground": true,
            "ticks": "",
            "zerolinecolor": "white"
           },
           "zaxis": {
            "backgroundcolor": "#E5ECF6",
            "gridcolor": "white",
            "gridwidth": 2,
            "linecolor": "white",
            "showbackground": true,
            "ticks": "",
            "zerolinecolor": "white"
           }
          },
          "shapedefaults": {
           "line": {
            "color": "#2a3f5f"
           }
          },
          "ternary": {
           "aaxis": {
            "gridcolor": "white",
            "linecolor": "white",
            "ticks": ""
           },
           "baxis": {
            "gridcolor": "white",
            "linecolor": "white",
            "ticks": ""
           },
           "bgcolor": "#E5ECF6",
           "caxis": {
            "gridcolor": "white",
            "linecolor": "white",
            "ticks": ""
           }
          },
          "title": {
           "x": 0.05
          },
          "xaxis": {
           "automargin": true,
           "gridcolor": "white",
           "linecolor": "white",
           "ticks": "",
           "title": {
            "standoff": 15
           },
           "zerolinecolor": "white",
           "zerolinewidth": 2
          },
          "yaxis": {
           "automargin": true,
           "gridcolor": "white",
           "linecolor": "white",
           "ticks": "",
           "title": {
            "standoff": 15
           },
           "zerolinecolor": "white",
           "zerolinewidth": 2
          }
         }
        },
        "title": {
         "text": "Views by Category"
        }
       }
      },
      "text/html": [
       "<div>                            <div id=\"7f33ffd2-758a-44e6-90a4-941f2c49b1f3\" class=\"plotly-graph-div\" style=\"height:525px; width:100%;\"></div>            <script type=\"text/javascript\">                require([\"plotly\"], function(Plotly) {                    window.PLOTLYENV=window.PLOTLYENV || {};                                    if (document.getElementById(\"7f33ffd2-758a-44e6-90a4-941f2c49b1f3\")) {                    Plotly.newPlot(                        \"7f33ffd2-758a-44e6-90a4-941f2c49b1f3\",                        [{\"hovertext\":[\"1790\",\"20\",\"12\",\"9\",\"8\",\"2\"],\"labels\":[20,23,27,10,24,22],\"marker\":{\"colors\":[\"red\"]},\"text\":[\"20\",\"23\",\"27\",\"10\",\"24\",\"22\"],\"values\":[97.23,1.09,0.65,0.49,0.43,0.11],\"type\":\"pie\"}],                        {\"legend\":{\"orientation\":\"h\"},\"template\":{\"data\":{\"barpolar\":[{\"marker\":{\"line\":{\"color\":\"#E5ECF6\",\"width\":0.5},\"pattern\":{\"fillmode\":\"overlay\",\"size\":10,\"solidity\":0.2}},\"type\":\"barpolar\"}],\"bar\":[{\"error_x\":{\"color\":\"#2a3f5f\"},\"error_y\":{\"color\":\"#2a3f5f\"},\"marker\":{\"line\":{\"color\":\"#E5ECF6\",\"width\":0.5},\"pattern\":{\"fillmode\":\"overlay\",\"size\":10,\"solidity\":0.2}},\"type\":\"bar\"}],\"carpet\":[{\"aaxis\":{\"endlinecolor\":\"#2a3f5f\",\"gridcolor\":\"white\",\"linecolor\":\"white\",\"minorgridcolor\":\"white\",\"startlinecolor\":\"#2a3f5f\"},\"baxis\":{\"endlinecolor\":\"#2a3f5f\",\"gridcolor\":\"white\",\"linecolor\":\"white\",\"minorgridcolor\":\"white\",\"startlinecolor\":\"#2a3f5f\"},\"type\":\"carpet\"}],\"choropleth\":[{\"colorbar\":{\"outlinewidth\":0,\"ticks\":\"\"},\"type\":\"choropleth\"}],\"contourcarpet\":[{\"colorbar\":{\"outlinewidth\":0,\"ticks\":\"\"},\"type\":\"contourcarpet\"}],\"contour\":[{\"colorbar\":{\"outlinewidth\":0,\"ticks\":\"\"},\"colorscale\":[[0.0,\"#0d0887\"],[0.1111111111111111,\"#46039f\"],[0.2222222222222222,\"#7201a8\"],[0.3333333333333333,\"#9c179e\"],[0.4444444444444444,\"#bd3786\"],[0.5555555555555556,\"#d8576b\"],[0.6666666666666666,\"#ed7953\"],[0.7777777777777778,\"#fb9f3a\"],[0.8888888888888888,\"#fdca26\"],[1.0,\"#f0f921\"]],\"type\":\"contour\"}],\"heatmapgl\":[{\"colorbar\":{\"outlinewidth\":0,\"ticks\":\"\"},\"colorscale\":[[0.0,\"#0d0887\"],[0.1111111111111111,\"#46039f\"],[0.2222222222222222,\"#7201a8\"],[0.3333333333333333,\"#9c179e\"],[0.4444444444444444,\"#bd3786\"],[0.5555555555555556,\"#d8576b\"],[0.6666666666666666,\"#ed7953\"],[0.7777777777777778,\"#fb9f3a\"],[0.8888888888888888,\"#fdca26\"],[1.0,\"#f0f921\"]],\"type\":\"heatmapgl\"}],\"heatmap\":[{\"colorbar\":{\"outlinewidth\":0,\"ticks\":\"\"},\"colorscale\":[[0.0,\"#0d0887\"],[0.1111111111111111,\"#46039f\"],[0.2222222222222222,\"#7201a8\"],[0.3333333333333333,\"#9c179e\"],[0.4444444444444444,\"#bd3786\"],[0.5555555555555556,\"#d8576b\"],[0.6666666666666666,\"#ed7953\"],[0.7777777777777778,\"#fb9f3a\"],[0.8888888888888888,\"#fdca26\"],[1.0,\"#f0f921\"]],\"type\":\"heatmap\"}],\"histogram2dcontour\":[{\"colorbar\":{\"outlinewidth\":0,\"ticks\":\"\"},\"colorscale\":[[0.0,\"#0d0887\"],[0.1111111111111111,\"#46039f\"],[0.2222222222222222,\"#7201a8\"],[0.3333333333333333,\"#9c179e\"],[0.4444444444444444,\"#bd3786\"],[0.5555555555555556,\"#d8576b\"],[0.6666666666666666,\"#ed7953\"],[0.7777777777777778,\"#fb9f3a\"],[0.8888888888888888,\"#fdca26\"],[1.0,\"#f0f921\"]],\"type\":\"histogram2dcontour\"}],\"histogram2d\":[{\"colorbar\":{\"outlinewidth\":0,\"ticks\":\"\"},\"colorscale\":[[0.0,\"#0d0887\"],[0.1111111111111111,\"#46039f\"],[0.2222222222222222,\"#7201a8\"],[0.3333333333333333,\"#9c179e\"],[0.4444444444444444,\"#bd3786\"],[0.5555555555555556,\"#d8576b\"],[0.6666666666666666,\"#ed7953\"],[0.7777777777777778,\"#fb9f3a\"],[0.8888888888888888,\"#fdca26\"],[1.0,\"#f0f921\"]],\"type\":\"histogram2d\"}],\"histogram\":[{\"marker\":{\"pattern\":{\"fillmode\":\"overlay\",\"size\":10,\"solidity\":0.2}},\"type\":\"histogram\"}],\"mesh3d\":[{\"colorbar\":{\"outlinewidth\":0,\"ticks\":\"\"},\"type\":\"mesh3d\"}],\"parcoords\":[{\"line\":{\"colorbar\":{\"outlinewidth\":0,\"ticks\":\"\"}},\"type\":\"parcoords\"}],\"pie\":[{\"automargin\":true,\"type\":\"pie\"}],\"scatter3d\":[{\"line\":{\"colorbar\":{\"outlinewidth\":0,\"ticks\":\"\"}},\"marker\":{\"colorbar\":{\"outlinewidth\":0,\"ticks\":\"\"}},\"type\":\"scatter3d\"}],\"scattercarpet\":[{\"marker\":{\"colorbar\":{\"outlinewidth\":0,\"ticks\":\"\"}},\"type\":\"scattercarpet\"}],\"scattergeo\":[{\"marker\":{\"colorbar\":{\"outlinewidth\":0,\"ticks\":\"\"}},\"type\":\"scattergeo\"}],\"scattergl\":[{\"marker\":{\"colorbar\":{\"outlinewidth\":0,\"ticks\":\"\"}},\"type\":\"scattergl\"}],\"scattermapbox\":[{\"marker\":{\"colorbar\":{\"outlinewidth\":0,\"ticks\":\"\"}},\"type\":\"scattermapbox\"}],\"scatterpolargl\":[{\"marker\":{\"colorbar\":{\"outlinewidth\":0,\"ticks\":\"\"}},\"type\":\"scatterpolargl\"}],\"scatterpolar\":[{\"marker\":{\"colorbar\":{\"outlinewidth\":0,\"ticks\":\"\"}},\"type\":\"scatterpolar\"}],\"scatter\":[{\"marker\":{\"colorbar\":{\"outlinewidth\":0,\"ticks\":\"\"}},\"type\":\"scatter\"}],\"scatterternary\":[{\"marker\":{\"colorbar\":{\"outlinewidth\":0,\"ticks\":\"\"}},\"type\":\"scatterternary\"}],\"surface\":[{\"colorbar\":{\"outlinewidth\":0,\"ticks\":\"\"},\"colorscale\":[[0.0,\"#0d0887\"],[0.1111111111111111,\"#46039f\"],[0.2222222222222222,\"#7201a8\"],[0.3333333333333333,\"#9c179e\"],[0.4444444444444444,\"#bd3786\"],[0.5555555555555556,\"#d8576b\"],[0.6666666666666666,\"#ed7953\"],[0.7777777777777778,\"#fb9f3a\"],[0.8888888888888888,\"#fdca26\"],[1.0,\"#f0f921\"]],\"type\":\"surface\"}],\"table\":[{\"cells\":{\"fill\":{\"color\":\"#EBF0F8\"},\"line\":{\"color\":\"white\"}},\"header\":{\"fill\":{\"color\":\"#C8D4E3\"},\"line\":{\"color\":\"white\"}},\"type\":\"table\"}]},\"layout\":{\"annotationdefaults\":{\"arrowcolor\":\"#2a3f5f\",\"arrowhead\":0,\"arrowwidth\":1},\"autotypenumbers\":\"strict\",\"coloraxis\":{\"colorbar\":{\"outlinewidth\":0,\"ticks\":\"\"}},\"colorscale\":{\"diverging\":[[0,\"#8e0152\"],[0.1,\"#c51b7d\"],[0.2,\"#de77ae\"],[0.3,\"#f1b6da\"],[0.4,\"#fde0ef\"],[0.5,\"#f7f7f7\"],[0.6,\"#e6f5d0\"],[0.7,\"#b8e186\"],[0.8,\"#7fbc41\"],[0.9,\"#4d9221\"],[1,\"#276419\"]],\"sequential\":[[0.0,\"#0d0887\"],[0.1111111111111111,\"#46039f\"],[0.2222222222222222,\"#7201a8\"],[0.3333333333333333,\"#9c179e\"],[0.4444444444444444,\"#bd3786\"],[0.5555555555555556,\"#d8576b\"],[0.6666666666666666,\"#ed7953\"],[0.7777777777777778,\"#fb9f3a\"],[0.8888888888888888,\"#fdca26\"],[1.0,\"#f0f921\"]],\"sequentialminus\":[[0.0,\"#0d0887\"],[0.1111111111111111,\"#46039f\"],[0.2222222222222222,\"#7201a8\"],[0.3333333333333333,\"#9c179e\"],[0.4444444444444444,\"#bd3786\"],[0.5555555555555556,\"#d8576b\"],[0.6666666666666666,\"#ed7953\"],[0.7777777777777778,\"#fb9f3a\"],[0.8888888888888888,\"#fdca26\"],[1.0,\"#f0f921\"]]},\"colorway\":[\"#636efa\",\"#EF553B\",\"#00cc96\",\"#ab63fa\",\"#FFA15A\",\"#19d3f3\",\"#FF6692\",\"#B6E880\",\"#FF97FF\",\"#FECB52\"],\"font\":{\"color\":\"#2a3f5f\"},\"geo\":{\"bgcolor\":\"white\",\"lakecolor\":\"white\",\"landcolor\":\"#E5ECF6\",\"showlakes\":true,\"showland\":true,\"subunitcolor\":\"white\"},\"hoverlabel\":{\"align\":\"left\"},\"hovermode\":\"closest\",\"mapbox\":{\"style\":\"light\"},\"paper_bgcolor\":\"white\",\"plot_bgcolor\":\"#E5ECF6\",\"polar\":{\"angularaxis\":{\"gridcolor\":\"white\",\"linecolor\":\"white\",\"ticks\":\"\"},\"bgcolor\":\"#E5ECF6\",\"radialaxis\":{\"gridcolor\":\"white\",\"linecolor\":\"white\",\"ticks\":\"\"}},\"scene\":{\"xaxis\":{\"backgroundcolor\":\"#E5ECF6\",\"gridcolor\":\"white\",\"gridwidth\":2,\"linecolor\":\"white\",\"showbackground\":true,\"ticks\":\"\",\"zerolinecolor\":\"white\"},\"yaxis\":{\"backgroundcolor\":\"#E5ECF6\",\"gridcolor\":\"white\",\"gridwidth\":2,\"linecolor\":\"white\",\"showbackground\":true,\"ticks\":\"\",\"zerolinecolor\":\"white\"},\"zaxis\":{\"backgroundcolor\":\"#E5ECF6\",\"gridcolor\":\"white\",\"gridwidth\":2,\"linecolor\":\"white\",\"showbackground\":true,\"ticks\":\"\",\"zerolinecolor\":\"white\"}},\"shapedefaults\":{\"line\":{\"color\":\"#2a3f5f\"}},\"ternary\":{\"aaxis\":{\"gridcolor\":\"white\",\"linecolor\":\"white\",\"ticks\":\"\"},\"baxis\":{\"gridcolor\":\"white\",\"linecolor\":\"white\",\"ticks\":\"\"},\"bgcolor\":\"#E5ECF6\",\"caxis\":{\"gridcolor\":\"white\",\"linecolor\":\"white\",\"ticks\":\"\"}},\"title\":{\"x\":0.05},\"xaxis\":{\"automargin\":true,\"gridcolor\":\"white\",\"linecolor\":\"white\",\"ticks\":\"\",\"title\":{\"standoff\":15},\"zerolinecolor\":\"white\",\"zerolinewidth\":2},\"yaxis\":{\"automargin\":true,\"gridcolor\":\"white\",\"linecolor\":\"white\",\"ticks\":\"\",\"title\":{\"standoff\":15},\"zerolinecolor\":\"white\",\"zerolinewidth\":2}}},\"title\":{\"text\":\"Views by Category\"}},                        {\"responsive\": true}                    ).then(function(){\n",
       "                            \n",
       "var gd = document.getElementById('7f33ffd2-758a-44e6-90a4-941f2c49b1f3');\n",
       "var x = new MutationObserver(function (mutations, observer) {{\n",
       "        var display = window.getComputedStyle(gd).display;\n",
       "        if (!display || display === 'none') {{\n",
       "            console.log([gd, 'removed!']);\n",
       "            Plotly.purge(gd);\n",
       "            observer.disconnect();\n",
       "        }}\n",
       "}});\n",
       "\n",
       "// Listen for the removal of the full notebook cells\n",
       "var notebookContainer = gd.closest('#notebook-container');\n",
       "if (notebookContainer) {{\n",
       "    x.observe(notebookContainer, {childList: true});\n",
       "}}\n",
       "\n",
       "// Listen for the clearing of the current output cell\n",
       "var outputEl = gd.closest('.output');\n",
       "if (outputEl) {{\n",
       "    x.observe(outputEl, {childList: true});\n",
       "}}\n",
       "\n",
       "                        })                };                });            </script>        </div>"
      ]
     },
     "metadata": {},
     "output_type": "display_data"
    }
   ],
   "source": [
    "percent_category = round(df[\"Category\"].value_counts(), 2)\n",
    "categories = round(df[\"Category\"].value_counts() / len(df[\"Category\"]) * 100,2)\n",
    "labels = list(categories.index)\n",
    "values = list(categories.values)\n",
    "trace1 = go.Pie(labels=labels, \n",
    "                values=values, \n",
    "                marker=dict(colors=['red']), \n",
    "                text=(percent_category.index.map(str)),\n",
    "                hovertext=(percent_category.values.astype(str)))\n",
    "layout = go.Layout(title=\"Views by Category\", \n",
    "                   legend=dict(orientation=\"h\"));\n",
    "fig = go.Figure(data=[trace1], layout=layout)\n",
    "iplot(fig)"
   ]
  },
  {
   "cell_type": "code",
   "execution_count": 44,
   "metadata": {},
   "outputs": [
    {
     "data": {
      "application/vnd.plotly.v1+json": {
       "config": {
        "linkText": "Export to plot.ly",
        "plotlyServerURL": "https://plot.ly",
        "showLink": true
       },
       "data": [
        {
         "histfunc": "count",
         "histnorm": "probability",
         "marker": {
          "color": "rgba(255, 153, 51, 1.0)",
          "line": {
           "color": "#4D5663",
           "width": 1.3
          }
         },
         "name": "count_unique_word_tags",
         "nbinsx": 50,
         "opacity": 0.8,
         "orientation": "v",
         "type": "histogram",
         "x": [
          8,
          8,
          8,
          8,
          8,
          8,
          8,
          8,
          8,
          8,
          8,
          8,
          8,
          8,
          8,
          8,
          8,
          8,
          8,
          8,
          6,
          8,
          8,
          8,
          8,
          8,
          8,
          8,
          8,
          8,
          8,
          8,
          8,
          8,
          8,
          8,
          8,
          8,
          8,
          8,
          8,
          8,
          8,
          8,
          8,
          8,
          8,
          8,
          8,
          8,
          8,
          8,
          8,
          8,
          8,
          8,
          8,
          8,
          8,
          8,
          8,
          8,
          8,
          8,
          8,
          8,
          8,
          8,
          8,
          8,
          8,
          8,
          8,
          8,
          8,
          8,
          8,
          8,
          8,
          8,
          8,
          8,
          8,
          8,
          8,
          8,
          8,
          8,
          8,
          8,
          8,
          8,
          8,
          8,
          8,
          8,
          8,
          8,
          8,
          8,
          8,
          8,
          8,
          8,
          8,
          8,
          8,
          8,
          8,
          8,
          8,
          8,
          8,
          8,
          8,
          8,
          8,
          8,
          8,
          8,
          8,
          8,
          8,
          8,
          8,
          8,
          8,
          8,
          8,
          8,
          8,
          8,
          8,
          8,
          8,
          8,
          8,
          8,
          8,
          8,
          8,
          8,
          8,
          8,
          8,
          8,
          8,
          8,
          8,
          8,
          8,
          8,
          8,
          8,
          8,
          8,
          8,
          8,
          8,
          8,
          8,
          8,
          8,
          8,
          8,
          8,
          8,
          8,
          8,
          8,
          8,
          6,
          8,
          8,
          8,
          8,
          8,
          8,
          8,
          8,
          8,
          8,
          8,
          8,
          8,
          8,
          6,
          8,
          8,
          8,
          8,
          8,
          8,
          8,
          8,
          8,
          8,
          8,
          8,
          8,
          8,
          8,
          8,
          8,
          8,
          8,
          8,
          8,
          8,
          8,
          8,
          8,
          8,
          8,
          8,
          8,
          8,
          8,
          8,
          8,
          8,
          8,
          8,
          8,
          8,
          8,
          8,
          8,
          8,
          8,
          8,
          8,
          8,
          8,
          8,
          8,
          8,
          8,
          8,
          8,
          8,
          8,
          8,
          8,
          8,
          8,
          8,
          8,
          8,
          8,
          8,
          8,
          8,
          8,
          8,
          8,
          8,
          8,
          8,
          8,
          8,
          8,
          8,
          8,
          8,
          8,
          8,
          8,
          8,
          8,
          8,
          8,
          8,
          8,
          8,
          8,
          8,
          8,
          8,
          8,
          8,
          8,
          8,
          8,
          8,
          8,
          8,
          8,
          8,
          8,
          8,
          8,
          8,
          8,
          8,
          8,
          8,
          8,
          8,
          8,
          8,
          8,
          8,
          8,
          8,
          8,
          8,
          8,
          8,
          8,
          8,
          8,
          8,
          8,
          8,
          8,
          8,
          8,
          8,
          8,
          8,
          8,
          8,
          8,
          8,
          8,
          8,
          8,
          8,
          8,
          8,
          8,
          8,
          8,
          8,
          8,
          8,
          8,
          8,
          8,
          8,
          8,
          8,
          8,
          8,
          8,
          8,
          8,
          8,
          8,
          8,
          8,
          8,
          8,
          8,
          8,
          8,
          8,
          8,
          8,
          8,
          8,
          8,
          8,
          8,
          8,
          8,
          8,
          8,
          8,
          8,
          8,
          8,
          8,
          8,
          8,
          8,
          8,
          8,
          8,
          8,
          8,
          8,
          8,
          8,
          8,
          8,
          8,
          8,
          8,
          8,
          8,
          8,
          8,
          8,
          8,
          8,
          12,
          8,
          8,
          8,
          8,
          8,
          8,
          8,
          8,
          8,
          8,
          8,
          8,
          8,
          8,
          13,
          8,
          8,
          8,
          8,
          9,
          8,
          13,
          13,
          8,
          12,
          17,
          12,
          12,
          11,
          16,
          16,
          20,
          14,
          16,
          18,
          17,
          16,
          18,
          18,
          17,
          24,
          12,
          17,
          25,
          17,
          19,
          12,
          19,
          19,
          8,
          19,
          8,
          8,
          8,
          8,
          8,
          10,
          13,
          28,
          8,
          8,
          13,
          17,
          8,
          12,
          10,
          12,
          19,
          12,
          15,
          13,
          13,
          13,
          14,
          12,
          9,
          12,
          11,
          16,
          11,
          12,
          16,
          16,
          18,
          14,
          11,
          12,
          18,
          13,
          14,
          14,
          8,
          12,
          14,
          16,
          14,
          16,
          8,
          13,
          13,
          14,
          14,
          8,
          8,
          15,
          10,
          15,
          19,
          12,
          11,
          14,
          14,
          17,
          10,
          13,
          19,
          13,
          8,
          13,
          14,
          29,
          13,
          14,
          16,
          11,
          13,
          13,
          11,
          15,
          16,
          8,
          11,
          14,
          16,
          13,
          14,
          20,
          16,
          19,
          28,
          13,
          15,
          16,
          19,
          10,
          14,
          12,
          13,
          14,
          17,
          17,
          14,
          14,
          16,
          12,
          14,
          15,
          10,
          11,
          13,
          10,
          15,
          14,
          14,
          16,
          14,
          17,
          14,
          8,
          13,
          16,
          15,
          18,
          8,
          13,
          12,
          10,
          13,
          15,
          17,
          15,
          13,
          17,
          17,
          13,
          17,
          12,
          16,
          11,
          12,
          15,
          15,
          13,
          12,
          16,
          12,
          12,
          17,
          17,
          12,
          12,
          16,
          16,
          12,
          15,
          10,
          14,
          13,
          10,
          13,
          12,
          16,
          9,
          12,
          13,
          21,
          13,
          12,
          13,
          13,
          15,
          11,
          8,
          14,
          12,
          12,
          12,
          16,
          12,
          12,
          11,
          15,
          12,
          11,
          10,
          13,
          15,
          12,
          13,
          12,
          11,
          12,
          16,
          10,
          12,
          11,
          10,
          17,
          16,
          28,
          13,
          13,
          14,
          8,
          16,
          16,
          18,
          13,
          13,
          16,
          11,
          13,
          19,
          15,
          28,
          16,
          12,
          19,
          15,
          10,
          11,
          13,
          16,
          12,
          11,
          13,
          13,
          14,
          14,
          18,
          12,
          14,
          16,
          13,
          16,
          11,
          13,
          18,
          15,
          12,
          16,
          13,
          19,
          11,
          14,
          12,
          16,
          10,
          15,
          12,
          13,
          13,
          12,
          12,
          10,
          12,
          14,
          10,
          13,
          11,
          13,
          13,
          16,
          16,
          16,
          13,
          11,
          12,
          16,
          13,
          12,
          8,
          16,
          20,
          11,
          16,
          12,
          16,
          12,
          13,
          16,
          16,
          16,
          13,
          14,
          19,
          19,
          18,
          15,
          13,
          12,
          19,
          24,
          24,
          20,
          20,
          26,
          24,
          17,
          19,
          16,
          24,
          18,
          28,
          24,
          22,
          15,
          15,
          24,
          19,
          13,
          21,
          24,
          8,
          18,
          24,
          17,
          16,
          17,
          16,
          29,
          21,
          21,
          14,
          21,
          13,
          21,
          21,
          16,
          22,
          21,
          17,
          18,
          21,
          30,
          17,
          14,
          17,
          17,
          17,
          14,
          17,
          16,
          17,
          22,
          17,
          15,
          17,
          15,
          19,
          17,
          19,
          21,
          19,
          18,
          18,
          14,
          15,
          17,
          17,
          21,
          16,
          15,
          16,
          16,
          19,
          22,
          21,
          18,
          16,
          18,
          17,
          22,
          14,
          17,
          22,
          21,
          17,
          20,
          18,
          24,
          23,
          15,
          18,
          17,
          17,
          19,
          14,
          18,
          17,
          18,
          16,
          28,
          19,
          20,
          21,
          27,
          20,
          18,
          22,
          29,
          23,
          21,
          18,
          20,
          21,
          22,
          14,
          22,
          19,
          24,
          27,
          22,
          18,
          13,
          28,
          22,
          27,
          36,
          31,
          32,
          21,
          18,
          30,
          30,
          21,
          24,
          26,
          20,
          15,
          22,
          27,
          28,
          17,
          19,
          23,
          15,
          30,
          22,
          36,
          17,
          16,
          16,
          20,
          27,
          29,
          26,
          22,
          21,
          19,
          29,
          19,
          22,
          30,
          21,
          30,
          23,
          15,
          25,
          26,
          24,
          20,
          22,
          15,
          22,
          15,
          23,
          29,
          13,
          21,
          17,
          17,
          21,
          27,
          18,
          11,
          23,
          12,
          13,
          5,
          6,
          18,
          19,
          14,
          6,
          6,
          8,
          25,
          31,
          56,
          29,
          29,
          30,
          37,
          23,
          1,
          7,
          20,
          11,
          30,
          22,
          13,
          61,
          5,
          46,
          54,
          48,
          11,
          30,
          57,
          65,
          65,
          41,
          50,
          55,
          51,
          21,
          14,
          13,
          19,
          17,
          11,
          11,
          12,
          16,
          17,
          16,
          12,
          15,
          12,
          9,
          13,
          1,
          1,
          1,
          1,
          1,
          1,
          1,
          1,
          1,
          1,
          1,
          1,
          1,
          1,
          1,
          1,
          1,
          1,
          1,
          1,
          1,
          1,
          1,
          1,
          1,
          1,
          1,
          1,
          1,
          1,
          1,
          1,
          1,
          1,
          1,
          1,
          1,
          1,
          1,
          1,
          1,
          1,
          1,
          1,
          1,
          1,
          1,
          1,
          1,
          1,
          1,
          1,
          1,
          1,
          1,
          1,
          1,
          1,
          1,
          1,
          1,
          1,
          1,
          1,
          1,
          1,
          1,
          1,
          1,
          1,
          1,
          1,
          1,
          1,
          1,
          1,
          1,
          1,
          1,
          1,
          1,
          1,
          1,
          1,
          1,
          1,
          1,
          1,
          1,
          1,
          1,
          1,
          1,
          1,
          1,
          1,
          1,
          1,
          1,
          1,
          1,
          1,
          1,
          1,
          1,
          1,
          1,
          9,
          1,
          1,
          1,
          1,
          1,
          1,
          1,
          1,
          1,
          1,
          1,
          1,
          1,
          1,
          1,
          1,
          1,
          1,
          1,
          1,
          1,
          1,
          1,
          1,
          1,
          1,
          1,
          1,
          1,
          1,
          1,
          1,
          1,
          1,
          1,
          1,
          1,
          1,
          1,
          1,
          1,
          1,
          1,
          1,
          1,
          1,
          1,
          1,
          1,
          1,
          1,
          1,
          1,
          1,
          1,
          1,
          1,
          1,
          1,
          1,
          1,
          1,
          1,
          1,
          1,
          1,
          1,
          1,
          1,
          1,
          1,
          1,
          1,
          1,
          1,
          1,
          1,
          1,
          1,
          1,
          1,
          1,
          1,
          1,
          1,
          1,
          1,
          1,
          1,
          1,
          1,
          1,
          1,
          1,
          1,
          1,
          1,
          1,
          1,
          1,
          1,
          1,
          1,
          1,
          1,
          1,
          1,
          1,
          1,
          1,
          1,
          1,
          1,
          1,
          1,
          1,
          1,
          11,
          1,
          1,
          1,
          1,
          1,
          1,
          1,
          1,
          1,
          1,
          1,
          1,
          1,
          1,
          1,
          1,
          1,
          1,
          1,
          1,
          1,
          1,
          1,
          1,
          1,
          1,
          1,
          1,
          1,
          1,
          1,
          1,
          1,
          1,
          1,
          1,
          1,
          10,
          1,
          1,
          1,
          1,
          1,
          1,
          1,
          1,
          1,
          1,
          1,
          1,
          1,
          1,
          1,
          1,
          1,
          1,
          1,
          7,
          1,
          1,
          1,
          1,
          1,
          1,
          1,
          1,
          1,
          1,
          1,
          1,
          1,
          1,
          1,
          1,
          1,
          1,
          1,
          1,
          1,
          1,
          1,
          1,
          1,
          1,
          1,
          1,
          1,
          1,
          1,
          1,
          1,
          1,
          1,
          1,
          1,
          1,
          1,
          6,
          6,
          6,
          6,
          6,
          6,
          6,
          6,
          6,
          6,
          6,
          6,
          6,
          6,
          6,
          6,
          6,
          6,
          6,
          6,
          6,
          6,
          6,
          6,
          6,
          6,
          6,
          6,
          6,
          6,
          6,
          6,
          6,
          6,
          6,
          6,
          6,
          6,
          10,
          6,
          6,
          6,
          6,
          6,
          6,
          6,
          6,
          6,
          6,
          6,
          6,
          6,
          6,
          6,
          6,
          6,
          10,
          7,
          9,
          8,
          7,
          8,
          6,
          9,
          6,
          11,
          6,
          6,
          9,
          8,
          6,
          6,
          5,
          7,
          9,
          6,
          6,
          13,
          8,
          6,
          7,
          6,
          6,
          4,
          6,
          7,
          5,
          4,
          10,
          6,
          6,
          8,
          11,
          7,
          10,
          8,
          7,
          17,
          6,
          6,
          6,
          5,
          6,
          3,
          6,
          6,
          6,
          6,
          6,
          4,
          9,
          10,
          11,
          8,
          9,
          16,
          18,
          8,
          9,
          3,
          7,
          7,
          2,
          11,
          6,
          6,
          4,
          14,
          6,
          9,
          6,
          10,
          6,
          10,
          9,
          9,
          9,
          8,
          3,
          3,
          3,
          6,
          7,
          7,
          7,
          7,
          7,
          7,
          7,
          14,
          7,
          7,
          7,
          11,
          7,
          15,
          7,
          7,
          7,
          7,
          16,
          7,
          7,
          7,
          7,
          7,
          7,
          7,
          7,
          7,
          7,
          15,
          7,
          7,
          30,
          7,
          7,
          7,
          19,
          7,
          16,
          7,
          7,
          17,
          7,
          7,
          7,
          18,
          7,
          7,
          14,
          21,
          7,
          7,
          7,
          7,
          7,
          16,
          7,
          7,
          7,
          21,
          7,
          7,
          7,
          7,
          7,
          7,
          7,
          7,
          7,
          7,
          7,
          7,
          7,
          7,
          7,
          7,
          7,
          7,
          7,
          26,
          7,
          48,
          7,
          11,
          7,
          7,
          7,
          19,
          7,
          7,
          7,
          7,
          7,
          7,
          7,
          11,
          7,
          7,
          7,
          7,
          7,
          7,
          7,
          7,
          14,
          7,
          7,
          7,
          7,
          7,
          7,
          7,
          7,
          7,
          11,
          7,
          7,
          7,
          7,
          7,
          7,
          20,
          7,
          7,
          7,
          7,
          7,
          4,
          4,
          4,
          12,
          4,
          4,
          4,
          13,
          4,
          19,
          16,
          14,
          4,
          4,
          4,
          13,
          13,
          16,
          15,
          13,
          10,
          4,
          4,
          4,
          10,
          13,
          4,
          4,
          4,
          4,
          4,
          4,
          33,
          15,
          16,
          17,
          12,
          28,
          13,
          14,
          17,
          35,
          25,
          15,
          17,
          14,
          17,
          11,
          18,
          23,
          21,
          17,
          19,
          19,
          25,
          16,
          34,
          35,
          15,
          46,
          28,
          30,
          35,
          19,
          25,
          25,
          35,
          16,
          31,
          17,
          17,
          21,
          27,
          30,
          10,
          38,
          26,
          23,
          37,
          38,
          18,
          25,
          39,
          28,
          34,
          33,
          20,
          31,
          34,
          4,
          23,
          22,
          34,
          25,
          39,
          31,
          16,
          36,
          30,
          35,
          30,
          15,
          34,
          28,
          30,
          32,
          37,
          21,
          57,
          37,
          30,
          41,
          29,
          38,
          34,
          29,
          26,
          24,
          43,
          30,
          32,
          40,
          35,
          44,
          45,
          31,
          27,
          35,
          40,
          38,
          42,
          38,
          41,
          28,
          41,
          31,
          33,
          44,
          38,
          37,
          23,
          35,
          41,
          36,
          30,
          34,
          31,
          26,
          36,
          4,
          30,
          25,
          38,
          43,
          31,
          27,
          43,
          36,
          38,
          31,
          31,
          37,
          40,
          40,
          33,
          29,
          37,
          26,
          32,
          34,
          24,
          44,
          4,
          51,
          14,
          31,
          24,
          25,
          21,
          30,
          38,
          36,
          36,
          35,
          31,
          34,
          43,
          36,
          46,
          31,
          33,
          44,
          34,
          39,
          28,
          38,
          38,
          37,
          27,
          31,
          43,
          47,
          58,
          40,
          25,
          50,
          56,
          27,
          42,
          33,
          26,
          36,
          39,
          53,
          40,
          38,
          43,
          39,
          42,
          28,
          35,
          41,
          42,
          37,
          26,
          41,
          26,
          44,
          28,
          24,
          28,
          22,
          20,
          38,
          31,
          31,
          26,
          42,
          24,
          39,
          21,
          36,
          34,
          24,
          16,
          16,
          14,
          23,
          16,
          21,
          35,
          14,
          21,
          25,
          18,
          25,
          14,
          13,
          16,
          14,
          13,
          24,
          19,
          26,
          36,
          23,
          19,
          20,
          24
         ]
        },
        {
         "histfunc": "count",
         "histnorm": "probability",
         "marker": {
          "color": "rgba(55, 128, 191, 1.0)",
          "line": {
           "color": "#4D5663",
           "width": 1.3
          }
         },
         "name": "count_unique_word",
         "nbinsx": 50,
         "opacity": 0.8,
         "orientation": "v",
         "type": "histogram",
         "x": [
          7,
          8,
          5,
          12,
          7,
          5,
          9,
          6,
          6,
          12,
          9,
          11,
          7,
          9,
          10,
          6,
          8,
          4,
          9,
          11,
          5,
          9,
          8,
          6,
          4,
          11,
          6,
          13,
          8,
          12,
          4,
          2,
          9,
          9,
          9,
          9,
          9,
          14,
          11,
          6,
          6,
          5,
          2,
          10,
          12,
          6,
          11,
          7,
          7,
          7,
          6,
          10,
          8,
          6,
          6,
          6,
          8,
          6,
          8,
          6,
          8,
          9,
          7,
          13,
          3,
          7,
          6,
          11,
          5,
          6,
          7,
          8,
          11,
          5,
          4,
          10,
          9,
          8,
          9,
          6,
          4,
          9,
          9,
          9,
          9,
          8,
          7,
          11,
          10,
          8,
          10,
          4,
          13,
          5,
          7,
          6,
          6,
          7,
          6,
          8,
          7,
          2,
          3,
          9,
          7,
          6,
          8,
          4,
          11,
          8,
          8,
          3,
          6,
          9,
          7,
          5,
          5,
          7,
          4,
          9,
          9,
          5,
          6,
          7,
          7,
          11,
          8,
          9,
          8,
          5,
          8,
          7,
          6,
          5,
          6,
          9,
          8,
          6,
          10,
          8,
          7,
          7,
          6,
          5,
          4,
          7,
          9,
          8,
          11,
          8,
          12,
          6,
          4,
          5,
          8,
          8,
          11,
          8,
          6,
          4,
          10,
          8,
          7,
          5,
          5,
          8,
          10,
          11,
          7,
          9,
          9,
          3,
          7,
          10,
          8,
          3,
          10,
          8,
          9,
          4,
          5,
          6,
          3,
          5,
          6,
          7,
          7,
          5,
          7,
          9,
          5,
          9,
          9,
          7,
          9,
          10,
          8,
          11,
          3,
          8,
          7,
          6,
          4,
          11,
          8,
          10,
          12,
          6,
          9,
          7,
          12,
          10,
          5,
          4,
          12,
          11,
          8,
          6,
          6,
          8,
          10,
          9,
          8,
          8,
          9,
          9,
          6,
          10,
          11,
          5,
          10,
          8,
          5,
          7,
          11,
          6,
          8,
          4,
          3,
          10,
          7,
          8,
          8,
          7,
          6,
          5,
          3,
          4,
          13,
          10,
          7,
          2,
          6,
          5,
          6,
          7,
          5,
          9,
          3,
          7,
          15,
          9,
          5,
          10,
          6,
          6,
          9,
          3,
          5,
          3,
          5,
          15,
          4,
          5,
          9,
          9,
          9,
          8,
          6,
          15,
          9,
          11,
          5,
          5,
          10,
          5,
          6,
          5,
          8,
          3,
          6,
          6,
          9,
          5,
          7,
          2,
          6,
          11,
          6,
          5,
          5,
          7,
          8,
          10,
          9,
          7,
          6,
          7,
          8,
          7,
          4,
          8,
          10,
          7,
          3,
          8,
          6,
          9,
          9,
          7,
          7,
          9,
          6,
          3,
          8,
          5,
          8,
          1,
          8,
          5,
          6,
          9,
          6,
          11,
          7,
          4,
          1,
          6,
          5,
          6,
          4,
          4,
          4,
          9,
          7,
          6,
          2,
          4,
          6,
          8,
          9,
          8,
          10,
          6,
          4,
          4,
          6,
          3,
          4,
          8,
          5,
          6,
          8,
          9,
          6,
          7,
          5,
          4,
          7,
          3,
          8,
          7,
          3,
          5,
          3,
          5,
          4,
          2,
          4,
          7,
          6,
          10,
          4,
          5,
          8,
          9,
          5,
          9,
          6,
          6,
          6,
          5,
          3,
          6,
          4,
          6,
          7,
          9,
          7,
          4,
          7,
          3,
          3,
          4,
          7,
          4,
          6,
          5,
          4,
          5,
          5,
          10,
          3,
          5,
          5,
          4,
          5,
          8,
          8,
          7,
          6,
          5,
          6,
          9,
          7,
          3,
          5,
          7,
          10,
          4,
          6,
          5,
          5,
          5,
          4,
          4,
          6,
          6,
          7,
          5,
          5,
          10,
          5,
          8,
          5,
          5,
          4,
          7,
          5,
          6,
          6,
          3,
          3,
          9,
          7,
          7,
          4,
          2,
          11,
          7,
          7,
          3,
          9,
          3,
          5,
          11,
          3,
          10,
          4,
          4,
          3,
          4,
          5,
          2,
          2,
          5,
          7,
          3,
          4,
          4,
          9,
          3,
          3,
          4,
          6,
          4,
          5,
          7,
          3,
          4,
          8,
          5,
          4,
          6,
          8,
          4,
          8,
          5,
          5,
          8,
          3,
          4,
          5,
          2,
          6,
          7,
          2,
          3,
          7,
          5,
          7,
          5,
          2,
          11,
          2,
          3,
          1,
          5,
          10,
          3,
          4,
          3,
          9,
          3,
          2,
          7,
          2,
          10,
          4,
          3,
          5,
          8,
          3,
          4,
          8,
          6,
          9,
          8,
          3,
          5,
          10,
          6,
          5,
          10,
          9,
          6,
          6,
          8,
          8,
          5,
          11,
          10,
          5,
          8,
          4,
          4,
          5,
          1,
          4,
          4,
          7,
          5,
          9,
          4,
          8,
          10,
          3,
          6,
          8,
          6,
          7,
          4,
          5,
          3,
          8,
          2,
          6,
          8,
          7,
          7,
          7,
          7,
          4,
          5,
          4,
          9,
          7,
          5,
          5,
          6,
          2,
          5,
          7,
          6,
          3,
          10,
          8,
          7,
          4,
          4,
          10,
          5,
          6,
          7,
          9,
          6,
          5,
          5,
          4,
          11,
          10,
          6,
          8,
          9,
          9,
          7,
          5,
          6,
          4,
          10,
          6,
          9,
          8,
          3,
          5,
          10,
          4,
          10,
          7,
          3,
          3,
          7,
          9,
          5,
          6,
          8,
          11,
          7,
          3,
          7,
          12,
          6,
          6,
          5,
          10,
          8,
          4,
          6,
          6,
          3,
          4,
          8,
          10,
          5,
          6,
          10,
          5,
          5,
          8,
          4,
          7,
          3,
          8,
          4,
          6,
          6,
          8,
          9,
          4,
          4,
          10,
          6,
          4,
          7,
          8,
          8,
          7,
          4,
          4,
          4,
          4,
          11,
          10,
          7,
          8,
          6,
          5,
          5,
          10,
          4,
          7,
          8,
          5,
          7,
          10,
          6,
          10,
          6,
          10,
          6,
          8,
          4,
          7,
          10,
          7,
          12,
          5,
          9,
          8,
          7,
          7,
          13,
          4,
          4,
          8,
          8,
          8,
          6,
          4,
          5,
          9,
          3,
          7,
          7,
          9,
          13,
          5,
          8,
          4,
          8,
          10,
          7,
          8,
          6,
          10,
          8,
          8,
          5,
          10,
          5,
          10,
          3,
          13,
          6,
          8,
          5,
          4,
          6,
          10,
          7,
          6,
          5,
          3,
          8,
          7,
          7,
          5,
          6,
          8,
          11,
          5,
          9,
          6,
          6,
          7,
          8,
          9,
          8,
          12,
          2,
          3,
          7,
          6,
          8,
          7,
          5,
          9,
          5,
          5,
          5,
          4,
          6,
          8,
          5,
          4,
          8,
          5,
          6,
          8,
          7,
          9,
          6,
          6,
          4,
          8,
          5,
          3,
          3,
          3,
          8,
          5,
          7,
          13,
          7,
          3,
          3,
          7,
          4,
          12,
          5,
          5,
          3,
          6,
          5,
          3,
          8,
          3,
          5,
          3,
          8,
          5,
          3,
          6,
          5,
          8,
          3,
          6,
          7,
          5,
          2,
          7,
          7,
          6,
          7,
          4,
          5,
          6,
          4,
          5,
          5,
          5,
          7,
          5,
          5,
          6,
          5,
          5,
          5,
          6,
          5,
          9,
          5,
          7,
          9,
          7,
          2,
          4,
          6,
          5,
          4,
          5,
          7,
          6,
          7,
          7,
          1,
          4,
          7,
          6,
          4,
          5,
          8,
          7,
          7,
          4,
          8,
          6,
          5,
          5,
          5,
          7,
          7,
          4,
          5,
          4,
          8,
          1,
          7,
          9,
          3,
          6,
          7,
          9,
          11,
          6,
          7,
          4,
          9,
          6,
          3,
          7,
          10,
          2,
          8,
          5,
          2,
          4,
          4,
          5,
          5,
          5,
          3,
          3,
          6,
          6,
          9,
          3,
          2,
          5,
          6,
          8,
          4,
          5,
          5,
          5,
          6,
          1,
          6,
          7,
          6,
          5,
          5,
          10,
          7,
          9,
          13,
          10,
          4,
          11,
          7,
          7,
          7,
          5,
          6,
          8,
          4,
          7,
          6,
          6,
          5,
          8,
          8,
          6,
          9,
          14,
          7,
          8,
          6,
          8,
          8,
          8,
          6,
          6,
          7,
          5,
          8,
          9,
          5,
          9,
          7,
          6,
          7,
          6,
          10,
          10,
          6,
          6,
          4,
          4,
          6,
          4,
          6,
          4,
          6,
          7,
          5,
          9,
          8,
          7,
          6,
          9,
          10,
          7,
          7,
          6,
          2,
          3,
          4,
          5,
          7,
          3,
          7,
          3,
          7,
          3,
          5,
          4,
          3,
          4,
          6,
          5,
          8,
          6,
          7,
          4,
          7,
          4,
          7,
          6,
          6,
          6,
          4,
          3,
          11,
          3,
          7,
          4,
          2,
          4,
          5,
          11,
          3,
          10,
          5,
          7,
          4,
          5,
          8,
          10,
          7,
          4,
          7,
          9,
          6,
          9,
          8,
          7,
          3,
          7,
          7,
          1,
          4,
          3,
          7,
          4,
          5,
          12,
          2,
          4,
          6,
          4,
          8,
          5,
          7,
          8,
          2,
          5,
          8,
          10,
          3,
          6,
          5,
          8,
          2,
          5,
          7,
          9,
          6,
          6,
          9,
          5,
          4,
          6,
          2,
          9,
          4,
          7,
          8,
          4,
          10,
          5,
          4,
          6,
          7,
          4,
          8,
          6,
          12,
          5,
          3,
          4,
          5,
          9,
          8,
          6,
          8,
          5,
          3,
          12,
          4,
          11,
          4,
          7,
          5,
          4,
          5,
          4,
          9,
          7,
          6,
          5,
          4,
          8,
          9,
          7,
          2,
          6,
          5,
          8,
          4,
          7,
          3,
          6,
          5,
          3,
          3,
          8,
          4,
          3,
          3,
          6,
          7,
          6,
          2,
          6,
          5,
          7,
          7,
          8,
          10,
          7,
          9,
          5,
          5,
          5,
          3,
          3,
          5,
          7,
          6,
          8,
          6,
          7,
          4,
          8,
          5,
          8,
          9,
          7,
          4,
          4,
          7,
          7,
          4,
          8,
          5,
          5,
          3,
          6,
          7,
          3,
          5,
          8,
          10,
          7,
          4,
          4,
          8,
          4,
          3,
          7,
          2,
          5,
          6,
          8,
          8,
          7,
          9,
          7,
          5,
          6,
          7,
          11,
          5,
          5,
          4,
          11,
          8,
          11,
          8,
          4,
          5,
          5,
          2,
          5,
          7,
          6,
          7,
          7,
          5,
          3,
          6,
          3,
          10,
          11,
          7,
          3,
          4,
          7,
          5,
          8,
          10,
          7,
          4,
          5,
          6,
          7,
          5,
          2,
          10,
          5,
          3,
          4,
          5,
          6,
          12,
          6,
          9,
          4,
          6,
          5,
          3,
          6,
          5,
          4,
          9,
          10,
          5,
          4,
          3,
          4,
          2,
          6,
          5,
          5,
          8,
          7,
          7,
          7,
          4,
          2,
          4,
          5,
          7,
          3,
          6,
          5,
          10,
          4,
          5,
          8,
          6,
          6,
          6,
          8,
          5,
          9,
          3,
          10,
          11,
          6,
          2,
          7,
          5,
          5,
          8,
          10,
          7,
          8,
          6,
          9,
          6,
          7,
          6,
          3,
          5,
          3,
          3,
          6,
          6,
          5,
          5,
          4,
          6,
          7,
          5,
          5,
          4,
          4,
          4,
          2,
          3,
          7,
          5,
          7,
          5,
          7,
          3,
          5,
          11,
          5,
          4,
          8,
          2,
          6,
          6,
          4,
          7,
          5,
          5,
          9,
          5,
          8,
          8,
          7,
          7,
          5,
          7,
          8,
          10,
          10,
          7,
          4,
          3,
          4,
          7,
          5,
          5,
          1,
          5,
          8,
          4,
          6,
          6,
          4,
          4,
          8,
          5,
          4,
          6,
          6,
          3,
          2,
          8,
          7,
          7,
          7,
          8,
          7,
          3,
          6,
          5,
          5,
          4,
          9,
          6,
          5,
          7,
          8,
          3,
          6,
          5,
          4,
          3,
          5,
          3,
          8,
          6,
          2,
          5,
          4,
          5,
          8,
          8,
          6,
          6,
          5,
          4,
          3,
          2,
          7,
          3,
          4,
          8,
          5,
          11,
          3,
          5,
          9,
          4,
          7,
          4,
          8,
          7,
          4,
          5,
          4,
          6,
          8,
          4,
          5,
          7,
          3,
          3,
          8,
          4,
          5,
          4,
          3,
          6,
          4,
          3,
          6,
          7,
          8,
          4,
          5,
          7,
          7,
          3,
          4,
          8,
          5,
          6,
          9,
          6,
          5,
          6,
          5,
          6,
          5,
          6,
          6,
          5,
          8,
          6,
          2,
          7,
          6,
          7,
          5,
          6,
          4,
          5,
          3,
          8,
          5,
          9,
          6,
          4,
          6,
          5,
          3,
          7,
          7,
          3,
          6,
          5,
          5,
          4,
          10,
          5,
          10,
          8,
          10,
          6,
          7,
          5,
          4,
          10,
          6,
          5,
          6,
          6,
          5,
          5,
          6,
          4,
          6,
          7,
          5,
          8,
          5,
          6,
          5,
          4,
          5,
          3,
          8,
          7,
          5,
          7,
          5,
          5,
          6,
          6,
          3,
          5,
          5,
          5,
          9,
          5,
          11,
          6,
          2,
          4,
          4,
          6,
          3,
          6,
          8,
          4,
          7,
          6,
          3,
          7,
          7,
          13,
          4,
          7,
          5,
          5,
          9,
          7,
          7,
          9,
          7,
          8,
          4,
          5,
          5,
          6,
          6,
          9,
          5,
          7,
          4,
          4,
          4,
          5,
          6,
          3,
          9,
          5,
          4,
          6,
          4,
          5,
          5,
          5,
          7,
          6,
          6,
          7,
          9,
          5,
          7,
          4,
          6,
          7,
          5,
          5,
          4,
          6,
          4,
          5,
          4,
          4,
          5,
          6,
          6,
          5,
          7,
          4,
          5,
          6,
          4,
          3,
          4,
          7,
          2,
          3,
          6,
          5,
          5,
          3,
          6,
          8,
          5,
          4,
          7,
          10,
          5,
          3,
          5,
          6,
          5,
          5,
          7,
          7,
          3,
          3,
          3,
          6,
          3,
          7,
          6,
          11,
          10,
          4,
          5,
          6,
          5,
          5,
          7,
          7,
          6,
          4,
          4,
          7,
          5,
          6,
          5,
          6,
          8,
          4,
          7,
          4,
          6,
          7,
          5,
          5,
          4,
          3,
          8,
          6,
          7,
          6,
          4,
          3,
          4,
          5,
          5,
          3,
          7,
          5,
          6,
          6,
          6,
          6,
          7,
          4,
          3,
          3,
          5,
          6,
          5,
          2,
          9,
          3,
          6,
          7,
          8,
          4,
          5,
          6,
          7,
          4,
          8,
          5,
          3,
          1,
          4,
          5,
          5,
          5,
          3,
          6,
          7,
          4,
          8,
          7,
          5,
          4,
          5,
          5,
          5,
          4,
          4,
          5,
          5,
          6,
          3,
          6,
          6,
          8,
          3,
          5,
          2,
          5,
          8,
          7,
          4,
          8,
          3,
          8,
          2,
          11,
          1,
          3,
          6,
          4,
          8,
          10,
          4,
          8,
          6,
          3,
          6,
          6,
          7,
          6,
          6,
          2,
          7,
          9,
          10,
          3,
          3,
          3,
          12,
          6,
          5,
          3,
          11,
          9,
          4,
          8,
          9,
          5,
          8,
          5,
          6,
          10,
          10,
          4,
          8,
          8,
          4,
          5,
          3,
          4,
          4,
          9,
          5,
          8,
          3,
          7,
          6,
          6,
          9,
          6,
          6,
          5,
          5,
          6,
          5,
          4,
          5,
          7,
          6,
          5,
          4,
          6,
          7,
          10,
          5,
          7,
          5,
          7,
          8,
          7,
          5,
          8,
          6,
          11,
          7,
          5,
          6,
          8,
          7,
          6,
          6,
          10,
          6,
          10,
          10,
          6,
          9,
          5,
          8,
          5,
          6,
          8,
          7,
          8,
          9,
          5,
          6,
          6,
          6
         ]
        }
       ],
       "layout": {
        "barmode": "overlay",
        "legend": {
         "bgcolor": "#FFFFFF",
         "font": {
          "color": "#4D5663"
         }
        },
        "paper_bgcolor": "#FFFFFF",
        "plot_bgcolor": "#FFFFFF",
        "template": {
         "data": {
          "bar": [
           {
            "error_x": {
             "color": "#2a3f5f"
            },
            "error_y": {
             "color": "#2a3f5f"
            },
            "marker": {
             "line": {
              "color": "#E5ECF6",
              "width": 0.5
             },
             "pattern": {
              "fillmode": "overlay",
              "size": 10,
              "solidity": 0.2
             }
            },
            "type": "bar"
           }
          ],
          "barpolar": [
           {
            "marker": {
             "line": {
              "color": "#E5ECF6",
              "width": 0.5
             },
             "pattern": {
              "fillmode": "overlay",
              "size": 10,
              "solidity": 0.2
             }
            },
            "type": "barpolar"
           }
          ],
          "carpet": [
           {
            "aaxis": {
             "endlinecolor": "#2a3f5f",
             "gridcolor": "white",
             "linecolor": "white",
             "minorgridcolor": "white",
             "startlinecolor": "#2a3f5f"
            },
            "baxis": {
             "endlinecolor": "#2a3f5f",
             "gridcolor": "white",
             "linecolor": "white",
             "minorgridcolor": "white",
             "startlinecolor": "#2a3f5f"
            },
            "type": "carpet"
           }
          ],
          "choropleth": [
           {
            "colorbar": {
             "outlinewidth": 0,
             "ticks": ""
            },
            "type": "choropleth"
           }
          ],
          "contour": [
           {
            "colorbar": {
             "outlinewidth": 0,
             "ticks": ""
            },
            "colorscale": [
             [
              0,
              "#0d0887"
             ],
             [
              0.1111111111111111,
              "#46039f"
             ],
             [
              0.2222222222222222,
              "#7201a8"
             ],
             [
              0.3333333333333333,
              "#9c179e"
             ],
             [
              0.4444444444444444,
              "#bd3786"
             ],
             [
              0.5555555555555556,
              "#d8576b"
             ],
             [
              0.6666666666666666,
              "#ed7953"
             ],
             [
              0.7777777777777778,
              "#fb9f3a"
             ],
             [
              0.8888888888888888,
              "#fdca26"
             ],
             [
              1,
              "#f0f921"
             ]
            ],
            "type": "contour"
           }
          ],
          "contourcarpet": [
           {
            "colorbar": {
             "outlinewidth": 0,
             "ticks": ""
            },
            "type": "contourcarpet"
           }
          ],
          "heatmap": [
           {
            "colorbar": {
             "outlinewidth": 0,
             "ticks": ""
            },
            "colorscale": [
             [
              0,
              "#0d0887"
             ],
             [
              0.1111111111111111,
              "#46039f"
             ],
             [
              0.2222222222222222,
              "#7201a8"
             ],
             [
              0.3333333333333333,
              "#9c179e"
             ],
             [
              0.4444444444444444,
              "#bd3786"
             ],
             [
              0.5555555555555556,
              "#d8576b"
             ],
             [
              0.6666666666666666,
              "#ed7953"
             ],
             [
              0.7777777777777778,
              "#fb9f3a"
             ],
             [
              0.8888888888888888,
              "#fdca26"
             ],
             [
              1,
              "#f0f921"
             ]
            ],
            "type": "heatmap"
           }
          ],
          "heatmapgl": [
           {
            "colorbar": {
             "outlinewidth": 0,
             "ticks": ""
            },
            "colorscale": [
             [
              0,
              "#0d0887"
             ],
             [
              0.1111111111111111,
              "#46039f"
             ],
             [
              0.2222222222222222,
              "#7201a8"
             ],
             [
              0.3333333333333333,
              "#9c179e"
             ],
             [
              0.4444444444444444,
              "#bd3786"
             ],
             [
              0.5555555555555556,
              "#d8576b"
             ],
             [
              0.6666666666666666,
              "#ed7953"
             ],
             [
              0.7777777777777778,
              "#fb9f3a"
             ],
             [
              0.8888888888888888,
              "#fdca26"
             ],
             [
              1,
              "#f0f921"
             ]
            ],
            "type": "heatmapgl"
           }
          ],
          "histogram": [
           {
            "marker": {
             "pattern": {
              "fillmode": "overlay",
              "size": 10,
              "solidity": 0.2
             }
            },
            "type": "histogram"
           }
          ],
          "histogram2d": [
           {
            "colorbar": {
             "outlinewidth": 0,
             "ticks": ""
            },
            "colorscale": [
             [
              0,
              "#0d0887"
             ],
             [
              0.1111111111111111,
              "#46039f"
             ],
             [
              0.2222222222222222,
              "#7201a8"
             ],
             [
              0.3333333333333333,
              "#9c179e"
             ],
             [
              0.4444444444444444,
              "#bd3786"
             ],
             [
              0.5555555555555556,
              "#d8576b"
             ],
             [
              0.6666666666666666,
              "#ed7953"
             ],
             [
              0.7777777777777778,
              "#fb9f3a"
             ],
             [
              0.8888888888888888,
              "#fdca26"
             ],
             [
              1,
              "#f0f921"
             ]
            ],
            "type": "histogram2d"
           }
          ],
          "histogram2dcontour": [
           {
            "colorbar": {
             "outlinewidth": 0,
             "ticks": ""
            },
            "colorscale": [
             [
              0,
              "#0d0887"
             ],
             [
              0.1111111111111111,
              "#46039f"
             ],
             [
              0.2222222222222222,
              "#7201a8"
             ],
             [
              0.3333333333333333,
              "#9c179e"
             ],
             [
              0.4444444444444444,
              "#bd3786"
             ],
             [
              0.5555555555555556,
              "#d8576b"
             ],
             [
              0.6666666666666666,
              "#ed7953"
             ],
             [
              0.7777777777777778,
              "#fb9f3a"
             ],
             [
              0.8888888888888888,
              "#fdca26"
             ],
             [
              1,
              "#f0f921"
             ]
            ],
            "type": "histogram2dcontour"
           }
          ],
          "mesh3d": [
           {
            "colorbar": {
             "outlinewidth": 0,
             "ticks": ""
            },
            "type": "mesh3d"
           }
          ],
          "parcoords": [
           {
            "line": {
             "colorbar": {
              "outlinewidth": 0,
              "ticks": ""
             }
            },
            "type": "parcoords"
           }
          ],
          "pie": [
           {
            "automargin": true,
            "type": "pie"
           }
          ],
          "scatter": [
           {
            "marker": {
             "colorbar": {
              "outlinewidth": 0,
              "ticks": ""
             }
            },
            "type": "scatter"
           }
          ],
          "scatter3d": [
           {
            "line": {
             "colorbar": {
              "outlinewidth": 0,
              "ticks": ""
             }
            },
            "marker": {
             "colorbar": {
              "outlinewidth": 0,
              "ticks": ""
             }
            },
            "type": "scatter3d"
           }
          ],
          "scattercarpet": [
           {
            "marker": {
             "colorbar": {
              "outlinewidth": 0,
              "ticks": ""
             }
            },
            "type": "scattercarpet"
           }
          ],
          "scattergeo": [
           {
            "marker": {
             "colorbar": {
              "outlinewidth": 0,
              "ticks": ""
             }
            },
            "type": "scattergeo"
           }
          ],
          "scattergl": [
           {
            "marker": {
             "colorbar": {
              "outlinewidth": 0,
              "ticks": ""
             }
            },
            "type": "scattergl"
           }
          ],
          "scattermapbox": [
           {
            "marker": {
             "colorbar": {
              "outlinewidth": 0,
              "ticks": ""
             }
            },
            "type": "scattermapbox"
           }
          ],
          "scatterpolar": [
           {
            "marker": {
             "colorbar": {
              "outlinewidth": 0,
              "ticks": ""
             }
            },
            "type": "scatterpolar"
           }
          ],
          "scatterpolargl": [
           {
            "marker": {
             "colorbar": {
              "outlinewidth": 0,
              "ticks": ""
             }
            },
            "type": "scatterpolargl"
           }
          ],
          "scatterternary": [
           {
            "marker": {
             "colorbar": {
              "outlinewidth": 0,
              "ticks": ""
             }
            },
            "type": "scatterternary"
           }
          ],
          "surface": [
           {
            "colorbar": {
             "outlinewidth": 0,
             "ticks": ""
            },
            "colorscale": [
             [
              0,
              "#0d0887"
             ],
             [
              0.1111111111111111,
              "#46039f"
             ],
             [
              0.2222222222222222,
              "#7201a8"
             ],
             [
              0.3333333333333333,
              "#9c179e"
             ],
             [
              0.4444444444444444,
              "#bd3786"
             ],
             [
              0.5555555555555556,
              "#d8576b"
             ],
             [
              0.6666666666666666,
              "#ed7953"
             ],
             [
              0.7777777777777778,
              "#fb9f3a"
             ],
             [
              0.8888888888888888,
              "#fdca26"
             ],
             [
              1,
              "#f0f921"
             ]
            ],
            "type": "surface"
           }
          ],
          "table": [
           {
            "cells": {
             "fill": {
              "color": "#EBF0F8"
             },
             "line": {
              "color": "white"
             }
            },
            "header": {
             "fill": {
              "color": "#C8D4E3"
             },
             "line": {
              "color": "white"
             }
            },
            "type": "table"
           }
          ]
         },
         "layout": {
          "annotationdefaults": {
           "arrowcolor": "#2a3f5f",
           "arrowhead": 0,
           "arrowwidth": 1
          },
          "autotypenumbers": "strict",
          "coloraxis": {
           "colorbar": {
            "outlinewidth": 0,
            "ticks": ""
           }
          },
          "colorscale": {
           "diverging": [
            [
             0,
             "#8e0152"
            ],
            [
             0.1,
             "#c51b7d"
            ],
            [
             0.2,
             "#de77ae"
            ],
            [
             0.3,
             "#f1b6da"
            ],
            [
             0.4,
             "#fde0ef"
            ],
            [
             0.5,
             "#f7f7f7"
            ],
            [
             0.6,
             "#e6f5d0"
            ],
            [
             0.7,
             "#b8e186"
            ],
            [
             0.8,
             "#7fbc41"
            ],
            [
             0.9,
             "#4d9221"
            ],
            [
             1,
             "#276419"
            ]
           ],
           "sequential": [
            [
             0,
             "#0d0887"
            ],
            [
             0.1111111111111111,
             "#46039f"
            ],
            [
             0.2222222222222222,
             "#7201a8"
            ],
            [
             0.3333333333333333,
             "#9c179e"
            ],
            [
             0.4444444444444444,
             "#bd3786"
            ],
            [
             0.5555555555555556,
             "#d8576b"
            ],
            [
             0.6666666666666666,
             "#ed7953"
            ],
            [
             0.7777777777777778,
             "#fb9f3a"
            ],
            [
             0.8888888888888888,
             "#fdca26"
            ],
            [
             1,
             "#f0f921"
            ]
           ],
           "sequentialminus": [
            [
             0,
             "#0d0887"
            ],
            [
             0.1111111111111111,
             "#46039f"
            ],
            [
             0.2222222222222222,
             "#7201a8"
            ],
            [
             0.3333333333333333,
             "#9c179e"
            ],
            [
             0.4444444444444444,
             "#bd3786"
            ],
            [
             0.5555555555555556,
             "#d8576b"
            ],
            [
             0.6666666666666666,
             "#ed7953"
            ],
            [
             0.7777777777777778,
             "#fb9f3a"
            ],
            [
             0.8888888888888888,
             "#fdca26"
            ],
            [
             1,
             "#f0f921"
            ]
           ]
          },
          "colorway": [
           "#636efa",
           "#EF553B",
           "#00cc96",
           "#ab63fa",
           "#FFA15A",
           "#19d3f3",
           "#FF6692",
           "#B6E880",
           "#FF97FF",
           "#FECB52"
          ],
          "font": {
           "color": "#2a3f5f"
          },
          "geo": {
           "bgcolor": "white",
           "lakecolor": "white",
           "landcolor": "#E5ECF6",
           "showlakes": true,
           "showland": true,
           "subunitcolor": "white"
          },
          "hoverlabel": {
           "align": "left"
          },
          "hovermode": "closest",
          "mapbox": {
           "style": "light"
          },
          "paper_bgcolor": "white",
          "plot_bgcolor": "#E5ECF6",
          "polar": {
           "angularaxis": {
            "gridcolor": "white",
            "linecolor": "white",
            "ticks": ""
           },
           "bgcolor": "#E5ECF6",
           "radialaxis": {
            "gridcolor": "white",
            "linecolor": "white",
            "ticks": ""
           }
          },
          "scene": {
           "xaxis": {
            "backgroundcolor": "#E5ECF6",
            "gridcolor": "white",
            "gridwidth": 2,
            "linecolor": "white",
            "showbackground": true,
            "ticks": "",
            "zerolinecolor": "white"
           },
           "yaxis": {
            "backgroundcolor": "#E5ECF6",
            "gridcolor": "white",
            "gridwidth": 2,
            "linecolor": "white",
            "showbackground": true,
            "ticks": "",
            "zerolinecolor": "white"
           },
           "zaxis": {
            "backgroundcolor": "#E5ECF6",
            "gridcolor": "white",
            "gridwidth": 2,
            "linecolor": "white",
            "showbackground": true,
            "ticks": "",
            "zerolinecolor": "white"
           }
          },
          "shapedefaults": {
           "line": {
            "color": "#2a3f5f"
           }
          },
          "ternary": {
           "aaxis": {
            "gridcolor": "white",
            "linecolor": "white",
            "ticks": ""
           },
           "baxis": {
            "gridcolor": "white",
            "linecolor": "white",
            "ticks": ""
           },
           "bgcolor": "#E5ECF6",
           "caxis": {
            "gridcolor": "white",
            "linecolor": "white",
            "ticks": ""
           }
          },
          "title": {
           "x": 0.05
          },
          "xaxis": {
           "automargin": true,
           "gridcolor": "white",
           "linecolor": "white",
           "ticks": "",
           "title": {
            "standoff": 15
           },
           "zerolinecolor": "white",
           "zerolinewidth": 2
          },
          "yaxis": {
           "automargin": true,
           "gridcolor": "white",
           "linecolor": "white",
           "ticks": "",
           "title": {
            "standoff": 15
           },
           "zerolinecolor": "white",
           "zerolinewidth": 2
          }
         }
        },
        "title": {
         "font": {
          "color": "#4D5663"
         },
         "text": "Distribuitions of Word Count in Title and Tags"
        },
        "xaxis": {
         "gridcolor": "#E1E5ED",
         "showgrid": true,
         "tickfont": {
          "color": "#4D5663"
         },
         "title": {
          "font": {
           "color": "#4D5663"
          },
          "text": "Distribuition"
         },
         "zerolinecolor": "#E1E5ED"
        },
        "yaxis": {
         "gridcolor": "#E1E5ED",
         "showgrid": true,
         "tickfont": {
          "color": "#4D5663"
         },
         "title": {
          "font": {
           "color": "#4D5663"
          },
          "text": "Probability"
         },
         "zerolinecolor": "#E1E5ED"
        }
       }
      },
      "text/html": [
       "<div>                            <div id=\"2611862b-419f-498b-8ced-b0b4b8d9ef7d\" class=\"plotly-graph-div\" style=\"height:525px; width:100%;\"></div>            <script type=\"text/javascript\">                require([\"plotly\"], function(Plotly) {                    window.PLOTLYENV=window.PLOTLYENV || {};\n",
       "                    window.PLOTLYENV.BASE_URL='https://plot.ly';                                    if (document.getElementById(\"2611862b-419f-498b-8ced-b0b4b8d9ef7d\")) {                    Plotly.newPlot(                        \"2611862b-419f-498b-8ced-b0b4b8d9ef7d\",                        [{\"histfunc\":\"count\",\"histnorm\":\"probability\",\"marker\":{\"color\":\"rgba(255, 153, 51, 1.0)\",\"line\":{\"color\":\"#4D5663\",\"width\":1.3}},\"name\":\"count_unique_word_tags\",\"nbinsx\":50,\"opacity\":0.8,\"orientation\":\"v\",\"x\":[8,8,8,8,8,8,8,8,8,8,8,8,8,8,8,8,8,8,8,8,6,8,8,8,8,8,8,8,8,8,8,8,8,8,8,8,8,8,8,8,8,8,8,8,8,8,8,8,8,8,8,8,8,8,8,8,8,8,8,8,8,8,8,8,8,8,8,8,8,8,8,8,8,8,8,8,8,8,8,8,8,8,8,8,8,8,8,8,8,8,8,8,8,8,8,8,8,8,8,8,8,8,8,8,8,8,8,8,8,8,8,8,8,8,8,8,8,8,8,8,8,8,8,8,8,8,8,8,8,8,8,8,8,8,8,8,8,8,8,8,8,8,8,8,8,8,8,8,8,8,8,8,8,8,8,8,8,8,8,8,8,8,8,8,8,8,8,8,8,8,8,6,8,8,8,8,8,8,8,8,8,8,8,8,8,8,6,8,8,8,8,8,8,8,8,8,8,8,8,8,8,8,8,8,8,8,8,8,8,8,8,8,8,8,8,8,8,8,8,8,8,8,8,8,8,8,8,8,8,8,8,8,8,8,8,8,8,8,8,8,8,8,8,8,8,8,8,8,8,8,8,8,8,8,8,8,8,8,8,8,8,8,8,8,8,8,8,8,8,8,8,8,8,8,8,8,8,8,8,8,8,8,8,8,8,8,8,8,8,8,8,8,8,8,8,8,8,8,8,8,8,8,8,8,8,8,8,8,8,8,8,8,8,8,8,8,8,8,8,8,8,8,8,8,8,8,8,8,8,8,8,8,8,8,8,8,8,8,8,8,8,8,8,8,8,8,8,8,8,8,8,8,8,8,8,8,8,8,8,8,8,8,8,8,8,8,8,8,8,8,8,8,8,8,8,8,8,8,8,8,8,8,8,8,8,8,8,8,8,8,8,8,8,8,8,8,8,12,8,8,8,8,8,8,8,8,8,8,8,8,8,8,13,8,8,8,8,9,8,13,13,8,12,17,12,12,11,16,16,20,14,16,18,17,16,18,18,17,24,12,17,25,17,19,12,19,19,8,19,8,8,8,8,8,10,13,28,8,8,13,17,8,12,10,12,19,12,15,13,13,13,14,12,9,12,11,16,11,12,16,16,18,14,11,12,18,13,14,14,8,12,14,16,14,16,8,13,13,14,14,8,8,15,10,15,19,12,11,14,14,17,10,13,19,13,8,13,14,29,13,14,16,11,13,13,11,15,16,8,11,14,16,13,14,20,16,19,28,13,15,16,19,10,14,12,13,14,17,17,14,14,16,12,14,15,10,11,13,10,15,14,14,16,14,17,14,8,13,16,15,18,8,13,12,10,13,15,17,15,13,17,17,13,17,12,16,11,12,15,15,13,12,16,12,12,17,17,12,12,16,16,12,15,10,14,13,10,13,12,16,9,12,13,21,13,12,13,13,15,11,8,14,12,12,12,16,12,12,11,15,12,11,10,13,15,12,13,12,11,12,16,10,12,11,10,17,16,28,13,13,14,8,16,16,18,13,13,16,11,13,19,15,28,16,12,19,15,10,11,13,16,12,11,13,13,14,14,18,12,14,16,13,16,11,13,18,15,12,16,13,19,11,14,12,16,10,15,12,13,13,12,12,10,12,14,10,13,11,13,13,16,16,16,13,11,12,16,13,12,8,16,20,11,16,12,16,12,13,16,16,16,13,14,19,19,18,15,13,12,19,24,24,20,20,26,24,17,19,16,24,18,28,24,22,15,15,24,19,13,21,24,8,18,24,17,16,17,16,29,21,21,14,21,13,21,21,16,22,21,17,18,21,30,17,14,17,17,17,14,17,16,17,22,17,15,17,15,19,17,19,21,19,18,18,14,15,17,17,21,16,15,16,16,19,22,21,18,16,18,17,22,14,17,22,21,17,20,18,24,23,15,18,17,17,19,14,18,17,18,16,28,19,20,21,27,20,18,22,29,23,21,18,20,21,22,14,22,19,24,27,22,18,13,28,22,27,36,31,32,21,18,30,30,21,24,26,20,15,22,27,28,17,19,23,15,30,22,36,17,16,16,20,27,29,26,22,21,19,29,19,22,30,21,30,23,15,25,26,24,20,22,15,22,15,23,29,13,21,17,17,21,27,18,11,23,12,13,5,6,18,19,14,6,6,8,25,31,56,29,29,30,37,23,1,7,20,11,30,22,13,61,5,46,54,48,11,30,57,65,65,41,50,55,51,21,14,13,19,17,11,11,12,16,17,16,12,15,12,9,13,1,1,1,1,1,1,1,1,1,1,1,1,1,1,1,1,1,1,1,1,1,1,1,1,1,1,1,1,1,1,1,1,1,1,1,1,1,1,1,1,1,1,1,1,1,1,1,1,1,1,1,1,1,1,1,1,1,1,1,1,1,1,1,1,1,1,1,1,1,1,1,1,1,1,1,1,1,1,1,1,1,1,1,1,1,1,1,1,1,1,1,1,1,1,1,1,1,1,1,1,1,1,1,1,1,1,1,9,1,1,1,1,1,1,1,1,1,1,1,1,1,1,1,1,1,1,1,1,1,1,1,1,1,1,1,1,1,1,1,1,1,1,1,1,1,1,1,1,1,1,1,1,1,1,1,1,1,1,1,1,1,1,1,1,1,1,1,1,1,1,1,1,1,1,1,1,1,1,1,1,1,1,1,1,1,1,1,1,1,1,1,1,1,1,1,1,1,1,1,1,1,1,1,1,1,1,1,1,1,1,1,1,1,1,1,1,1,1,1,1,1,1,1,1,1,11,1,1,1,1,1,1,1,1,1,1,1,1,1,1,1,1,1,1,1,1,1,1,1,1,1,1,1,1,1,1,1,1,1,1,1,1,1,10,1,1,1,1,1,1,1,1,1,1,1,1,1,1,1,1,1,1,1,7,1,1,1,1,1,1,1,1,1,1,1,1,1,1,1,1,1,1,1,1,1,1,1,1,1,1,1,1,1,1,1,1,1,1,1,1,1,1,1,6,6,6,6,6,6,6,6,6,6,6,6,6,6,6,6,6,6,6,6,6,6,6,6,6,6,6,6,6,6,6,6,6,6,6,6,6,6,10,6,6,6,6,6,6,6,6,6,6,6,6,6,6,6,6,6,10,7,9,8,7,8,6,9,6,11,6,6,9,8,6,6,5,7,9,6,6,13,8,6,7,6,6,4,6,7,5,4,10,6,6,8,11,7,10,8,7,17,6,6,6,5,6,3,6,6,6,6,6,4,9,10,11,8,9,16,18,8,9,3,7,7,2,11,6,6,4,14,6,9,6,10,6,10,9,9,9,8,3,3,3,6,7,7,7,7,7,7,7,14,7,7,7,11,7,15,7,7,7,7,16,7,7,7,7,7,7,7,7,7,7,15,7,7,30,7,7,7,19,7,16,7,7,17,7,7,7,18,7,7,14,21,7,7,7,7,7,16,7,7,7,21,7,7,7,7,7,7,7,7,7,7,7,7,7,7,7,7,7,7,7,26,7,48,7,11,7,7,7,19,7,7,7,7,7,7,7,11,7,7,7,7,7,7,7,7,14,7,7,7,7,7,7,7,7,7,11,7,7,7,7,7,7,20,7,7,7,7,7,4,4,4,12,4,4,4,13,4,19,16,14,4,4,4,13,13,16,15,13,10,4,4,4,10,13,4,4,4,4,4,4,33,15,16,17,12,28,13,14,17,35,25,15,17,14,17,11,18,23,21,17,19,19,25,16,34,35,15,46,28,30,35,19,25,25,35,16,31,17,17,21,27,30,10,38,26,23,37,38,18,25,39,28,34,33,20,31,34,4,23,22,34,25,39,31,16,36,30,35,30,15,34,28,30,32,37,21,57,37,30,41,29,38,34,29,26,24,43,30,32,40,35,44,45,31,27,35,40,38,42,38,41,28,41,31,33,44,38,37,23,35,41,36,30,34,31,26,36,4,30,25,38,43,31,27,43,36,38,31,31,37,40,40,33,29,37,26,32,34,24,44,4,51,14,31,24,25,21,30,38,36,36,35,31,34,43,36,46,31,33,44,34,39,28,38,38,37,27,31,43,47,58,40,25,50,56,27,42,33,26,36,39,53,40,38,43,39,42,28,35,41,42,37,26,41,26,44,28,24,28,22,20,38,31,31,26,42,24,39,21,36,34,24,16,16,14,23,16,21,35,14,21,25,18,25,14,13,16,14,13,24,19,26,36,23,19,20,24],\"type\":\"histogram\"},{\"histfunc\":\"count\",\"histnorm\":\"probability\",\"marker\":{\"color\":\"rgba(55, 128, 191, 1.0)\",\"line\":{\"color\":\"#4D5663\",\"width\":1.3}},\"name\":\"count_unique_word\",\"nbinsx\":50,\"opacity\":0.8,\"orientation\":\"v\",\"x\":[7,8,5,12,7,5,9,6,6,12,9,11,7,9,10,6,8,4,9,11,5,9,8,6,4,11,6,13,8,12,4,2,9,9,9,9,9,14,11,6,6,5,2,10,12,6,11,7,7,7,6,10,8,6,6,6,8,6,8,6,8,9,7,13,3,7,6,11,5,6,7,8,11,5,4,10,9,8,9,6,4,9,9,9,9,8,7,11,10,8,10,4,13,5,7,6,6,7,6,8,7,2,3,9,7,6,8,4,11,8,8,3,6,9,7,5,5,7,4,9,9,5,6,7,7,11,8,9,8,5,8,7,6,5,6,9,8,6,10,8,7,7,6,5,4,7,9,8,11,8,12,6,4,5,8,8,11,8,6,4,10,8,7,5,5,8,10,11,7,9,9,3,7,10,8,3,10,8,9,4,5,6,3,5,6,7,7,5,7,9,5,9,9,7,9,10,8,11,3,8,7,6,4,11,8,10,12,6,9,7,12,10,5,4,12,11,8,6,6,8,10,9,8,8,9,9,6,10,11,5,10,8,5,7,11,6,8,4,3,10,7,8,8,7,6,5,3,4,13,10,7,2,6,5,6,7,5,9,3,7,15,9,5,10,6,6,9,3,5,3,5,15,4,5,9,9,9,8,6,15,9,11,5,5,10,5,6,5,8,3,6,6,9,5,7,2,6,11,6,5,5,7,8,10,9,7,6,7,8,7,4,8,10,7,3,8,6,9,9,7,7,9,6,3,8,5,8,1,8,5,6,9,6,11,7,4,1,6,5,6,4,4,4,9,7,6,2,4,6,8,9,8,10,6,4,4,6,3,4,8,5,6,8,9,6,7,5,4,7,3,8,7,3,5,3,5,4,2,4,7,6,10,4,5,8,9,5,9,6,6,6,5,3,6,4,6,7,9,7,4,7,3,3,4,7,4,6,5,4,5,5,10,3,5,5,4,5,8,8,7,6,5,6,9,7,3,5,7,10,4,6,5,5,5,4,4,6,6,7,5,5,10,5,8,5,5,4,7,5,6,6,3,3,9,7,7,4,2,11,7,7,3,9,3,5,11,3,10,4,4,3,4,5,2,2,5,7,3,4,4,9,3,3,4,6,4,5,7,3,4,8,5,4,6,8,4,8,5,5,8,3,4,5,2,6,7,2,3,7,5,7,5,2,11,2,3,1,5,10,3,4,3,9,3,2,7,2,10,4,3,5,8,3,4,8,6,9,8,3,5,10,6,5,10,9,6,6,8,8,5,11,10,5,8,4,4,5,1,4,4,7,5,9,4,8,10,3,6,8,6,7,4,5,3,8,2,6,8,7,7,7,7,4,5,4,9,7,5,5,6,2,5,7,6,3,10,8,7,4,4,10,5,6,7,9,6,5,5,4,11,10,6,8,9,9,7,5,6,4,10,6,9,8,3,5,10,4,10,7,3,3,7,9,5,6,8,11,7,3,7,12,6,6,5,10,8,4,6,6,3,4,8,10,5,6,10,5,5,8,4,7,3,8,4,6,6,8,9,4,4,10,6,4,7,8,8,7,4,4,4,4,11,10,7,8,6,5,5,10,4,7,8,5,7,10,6,10,6,10,6,8,4,7,10,7,12,5,9,8,7,7,13,4,4,8,8,8,6,4,5,9,3,7,7,9,13,5,8,4,8,10,7,8,6,10,8,8,5,10,5,10,3,13,6,8,5,4,6,10,7,6,5,3,8,7,7,5,6,8,11,5,9,6,6,7,8,9,8,12,2,3,7,6,8,7,5,9,5,5,5,4,6,8,5,4,8,5,6,8,7,9,6,6,4,8,5,3,3,3,8,5,7,13,7,3,3,7,4,12,5,5,3,6,5,3,8,3,5,3,8,5,3,6,5,8,3,6,7,5,2,7,7,6,7,4,5,6,4,5,5,5,7,5,5,6,5,5,5,6,5,9,5,7,9,7,2,4,6,5,4,5,7,6,7,7,1,4,7,6,4,5,8,7,7,4,8,6,5,5,5,7,7,4,5,4,8,1,7,9,3,6,7,9,11,6,7,4,9,6,3,7,10,2,8,5,2,4,4,5,5,5,3,3,6,6,9,3,2,5,6,8,4,5,5,5,6,1,6,7,6,5,5,10,7,9,13,10,4,11,7,7,7,5,6,8,4,7,6,6,5,8,8,6,9,14,7,8,6,8,8,8,6,6,7,5,8,9,5,9,7,6,7,6,10,10,6,6,4,4,6,4,6,4,6,7,5,9,8,7,6,9,10,7,7,6,2,3,4,5,7,3,7,3,7,3,5,4,3,4,6,5,8,6,7,4,7,4,7,6,6,6,4,3,11,3,7,4,2,4,5,11,3,10,5,7,4,5,8,10,7,4,7,9,6,9,8,7,3,7,7,1,4,3,7,4,5,12,2,4,6,4,8,5,7,8,2,5,8,10,3,6,5,8,2,5,7,9,6,6,9,5,4,6,2,9,4,7,8,4,10,5,4,6,7,4,8,6,12,5,3,4,5,9,8,6,8,5,3,12,4,11,4,7,5,4,5,4,9,7,6,5,4,8,9,7,2,6,5,8,4,7,3,6,5,3,3,8,4,3,3,6,7,6,2,6,5,7,7,8,10,7,9,5,5,5,3,3,5,7,6,8,6,7,4,8,5,8,9,7,4,4,7,7,4,8,5,5,3,6,7,3,5,8,10,7,4,4,8,4,3,7,2,5,6,8,8,7,9,7,5,6,7,11,5,5,4,11,8,11,8,4,5,5,2,5,7,6,7,7,5,3,6,3,10,11,7,3,4,7,5,8,10,7,4,5,6,7,5,2,10,5,3,4,5,6,12,6,9,4,6,5,3,6,5,4,9,10,5,4,3,4,2,6,5,5,8,7,7,7,4,2,4,5,7,3,6,5,10,4,5,8,6,6,6,8,5,9,3,10,11,6,2,7,5,5,8,10,7,8,6,9,6,7,6,3,5,3,3,6,6,5,5,4,6,7,5,5,4,4,4,2,3,7,5,7,5,7,3,5,11,5,4,8,2,6,6,4,7,5,5,9,5,8,8,7,7,5,7,8,10,10,7,4,3,4,7,5,5,1,5,8,4,6,6,4,4,8,5,4,6,6,3,2,8,7,7,7,8,7,3,6,5,5,4,9,6,5,7,8,3,6,5,4,3,5,3,8,6,2,5,4,5,8,8,6,6,5,4,3,2,7,3,4,8,5,11,3,5,9,4,7,4,8,7,4,5,4,6,8,4,5,7,3,3,8,4,5,4,3,6,4,3,6,7,8,4,5,7,7,3,4,8,5,6,9,6,5,6,5,6,5,6,6,5,8,6,2,7,6,7,5,6,4,5,3,8,5,9,6,4,6,5,3,7,7,3,6,5,5,4,10,5,10,8,10,6,7,5,4,10,6,5,6,6,5,5,6,4,6,7,5,8,5,6,5,4,5,3,8,7,5,7,5,5,6,6,3,5,5,5,9,5,11,6,2,4,4,6,3,6,8,4,7,6,3,7,7,13,4,7,5,5,9,7,7,9,7,8,4,5,5,6,6,9,5,7,4,4,4,5,6,3,9,5,4,6,4,5,5,5,7,6,6,7,9,5,7,4,6,7,5,5,4,6,4,5,4,4,5,6,6,5,7,4,5,6,4,3,4,7,2,3,6,5,5,3,6,8,5,4,7,10,5,3,5,6,5,5,7,7,3,3,3,6,3,7,6,11,10,4,5,6,5,5,7,7,6,4,4,7,5,6,5,6,8,4,7,4,6,7,5,5,4,3,8,6,7,6,4,3,4,5,5,3,7,5,6,6,6,6,7,4,3,3,5,6,5,2,9,3,6,7,8,4,5,6,7,4,8,5,3,1,4,5,5,5,3,6,7,4,8,7,5,4,5,5,5,4,4,5,5,6,3,6,6,8,3,5,2,5,8,7,4,8,3,8,2,11,1,3,6,4,8,10,4,8,6,3,6,6,7,6,6,2,7,9,10,3,3,3,12,6,5,3,11,9,4,8,9,5,8,5,6,10,10,4,8,8,4,5,3,4,4,9,5,8,3,7,6,6,9,6,6,5,5,6,5,4,5,7,6,5,4,6,7,10,5,7,5,7,8,7,5,8,6,11,7,5,6,8,7,6,6,10,6,10,10,6,9,5,8,5,6,8,7,8,9,5,6,6,6],\"type\":\"histogram\"}],                        {\"barmode\":\"overlay\",\"legend\":{\"bgcolor\":\"#FFFFFF\",\"font\":{\"color\":\"#4D5663\"}},\"paper_bgcolor\":\"#FFFFFF\",\"plot_bgcolor\":\"#FFFFFF\",\"template\":{\"data\":{\"barpolar\":[{\"marker\":{\"line\":{\"color\":\"#E5ECF6\",\"width\":0.5},\"pattern\":{\"fillmode\":\"overlay\",\"size\":10,\"solidity\":0.2}},\"type\":\"barpolar\"}],\"bar\":[{\"error_x\":{\"color\":\"#2a3f5f\"},\"error_y\":{\"color\":\"#2a3f5f\"},\"marker\":{\"line\":{\"color\":\"#E5ECF6\",\"width\":0.5},\"pattern\":{\"fillmode\":\"overlay\",\"size\":10,\"solidity\":0.2}},\"type\":\"bar\"}],\"carpet\":[{\"aaxis\":{\"endlinecolor\":\"#2a3f5f\",\"gridcolor\":\"white\",\"linecolor\":\"white\",\"minorgridcolor\":\"white\",\"startlinecolor\":\"#2a3f5f\"},\"baxis\":{\"endlinecolor\":\"#2a3f5f\",\"gridcolor\":\"white\",\"linecolor\":\"white\",\"minorgridcolor\":\"white\",\"startlinecolor\":\"#2a3f5f\"},\"type\":\"carpet\"}],\"choropleth\":[{\"colorbar\":{\"outlinewidth\":0,\"ticks\":\"\"},\"type\":\"choropleth\"}],\"contourcarpet\":[{\"colorbar\":{\"outlinewidth\":0,\"ticks\":\"\"},\"type\":\"contourcarpet\"}],\"contour\":[{\"colorbar\":{\"outlinewidth\":0,\"ticks\":\"\"},\"colorscale\":[[0.0,\"#0d0887\"],[0.1111111111111111,\"#46039f\"],[0.2222222222222222,\"#7201a8\"],[0.3333333333333333,\"#9c179e\"],[0.4444444444444444,\"#bd3786\"],[0.5555555555555556,\"#d8576b\"],[0.6666666666666666,\"#ed7953\"],[0.7777777777777778,\"#fb9f3a\"],[0.8888888888888888,\"#fdca26\"],[1.0,\"#f0f921\"]],\"type\":\"contour\"}],\"heatmapgl\":[{\"colorbar\":{\"outlinewidth\":0,\"ticks\":\"\"},\"colorscale\":[[0.0,\"#0d0887\"],[0.1111111111111111,\"#46039f\"],[0.2222222222222222,\"#7201a8\"],[0.3333333333333333,\"#9c179e\"],[0.4444444444444444,\"#bd3786\"],[0.5555555555555556,\"#d8576b\"],[0.6666666666666666,\"#ed7953\"],[0.7777777777777778,\"#fb9f3a\"],[0.8888888888888888,\"#fdca26\"],[1.0,\"#f0f921\"]],\"type\":\"heatmapgl\"}],\"heatmap\":[{\"colorbar\":{\"outlinewidth\":0,\"ticks\":\"\"},\"colorscale\":[[0.0,\"#0d0887\"],[0.1111111111111111,\"#46039f\"],[0.2222222222222222,\"#7201a8\"],[0.3333333333333333,\"#9c179e\"],[0.4444444444444444,\"#bd3786\"],[0.5555555555555556,\"#d8576b\"],[0.6666666666666666,\"#ed7953\"],[0.7777777777777778,\"#fb9f3a\"],[0.8888888888888888,\"#fdca26\"],[1.0,\"#f0f921\"]],\"type\":\"heatmap\"}],\"histogram2dcontour\":[{\"colorbar\":{\"outlinewidth\":0,\"ticks\":\"\"},\"colorscale\":[[0.0,\"#0d0887\"],[0.1111111111111111,\"#46039f\"],[0.2222222222222222,\"#7201a8\"],[0.3333333333333333,\"#9c179e\"],[0.4444444444444444,\"#bd3786\"],[0.5555555555555556,\"#d8576b\"],[0.6666666666666666,\"#ed7953\"],[0.7777777777777778,\"#fb9f3a\"],[0.8888888888888888,\"#fdca26\"],[1.0,\"#f0f921\"]],\"type\":\"histogram2dcontour\"}],\"histogram2d\":[{\"colorbar\":{\"outlinewidth\":0,\"ticks\":\"\"},\"colorscale\":[[0.0,\"#0d0887\"],[0.1111111111111111,\"#46039f\"],[0.2222222222222222,\"#7201a8\"],[0.3333333333333333,\"#9c179e\"],[0.4444444444444444,\"#bd3786\"],[0.5555555555555556,\"#d8576b\"],[0.6666666666666666,\"#ed7953\"],[0.7777777777777778,\"#fb9f3a\"],[0.8888888888888888,\"#fdca26\"],[1.0,\"#f0f921\"]],\"type\":\"histogram2d\"}],\"histogram\":[{\"marker\":{\"pattern\":{\"fillmode\":\"overlay\",\"size\":10,\"solidity\":0.2}},\"type\":\"histogram\"}],\"mesh3d\":[{\"colorbar\":{\"outlinewidth\":0,\"ticks\":\"\"},\"type\":\"mesh3d\"}],\"parcoords\":[{\"line\":{\"colorbar\":{\"outlinewidth\":0,\"ticks\":\"\"}},\"type\":\"parcoords\"}],\"pie\":[{\"automargin\":true,\"type\":\"pie\"}],\"scatter3d\":[{\"line\":{\"colorbar\":{\"outlinewidth\":0,\"ticks\":\"\"}},\"marker\":{\"colorbar\":{\"outlinewidth\":0,\"ticks\":\"\"}},\"type\":\"scatter3d\"}],\"scattercarpet\":[{\"marker\":{\"colorbar\":{\"outlinewidth\":0,\"ticks\":\"\"}},\"type\":\"scattercarpet\"}],\"scattergeo\":[{\"marker\":{\"colorbar\":{\"outlinewidth\":0,\"ticks\":\"\"}},\"type\":\"scattergeo\"}],\"scattergl\":[{\"marker\":{\"colorbar\":{\"outlinewidth\":0,\"ticks\":\"\"}},\"type\":\"scattergl\"}],\"scattermapbox\":[{\"marker\":{\"colorbar\":{\"outlinewidth\":0,\"ticks\":\"\"}},\"type\":\"scattermapbox\"}],\"scatterpolargl\":[{\"marker\":{\"colorbar\":{\"outlinewidth\":0,\"ticks\":\"\"}},\"type\":\"scatterpolargl\"}],\"scatterpolar\":[{\"marker\":{\"colorbar\":{\"outlinewidth\":0,\"ticks\":\"\"}},\"type\":\"scatterpolar\"}],\"scatter\":[{\"marker\":{\"colorbar\":{\"outlinewidth\":0,\"ticks\":\"\"}},\"type\":\"scatter\"}],\"scatterternary\":[{\"marker\":{\"colorbar\":{\"outlinewidth\":0,\"ticks\":\"\"}},\"type\":\"scatterternary\"}],\"surface\":[{\"colorbar\":{\"outlinewidth\":0,\"ticks\":\"\"},\"colorscale\":[[0.0,\"#0d0887\"],[0.1111111111111111,\"#46039f\"],[0.2222222222222222,\"#7201a8\"],[0.3333333333333333,\"#9c179e\"],[0.4444444444444444,\"#bd3786\"],[0.5555555555555556,\"#d8576b\"],[0.6666666666666666,\"#ed7953\"],[0.7777777777777778,\"#fb9f3a\"],[0.8888888888888888,\"#fdca26\"],[1.0,\"#f0f921\"]],\"type\":\"surface\"}],\"table\":[{\"cells\":{\"fill\":{\"color\":\"#EBF0F8\"},\"line\":{\"color\":\"white\"}},\"header\":{\"fill\":{\"color\":\"#C8D4E3\"},\"line\":{\"color\":\"white\"}},\"type\":\"table\"}]},\"layout\":{\"annotationdefaults\":{\"arrowcolor\":\"#2a3f5f\",\"arrowhead\":0,\"arrowwidth\":1},\"autotypenumbers\":\"strict\",\"coloraxis\":{\"colorbar\":{\"outlinewidth\":0,\"ticks\":\"\"}},\"colorscale\":{\"diverging\":[[0,\"#8e0152\"],[0.1,\"#c51b7d\"],[0.2,\"#de77ae\"],[0.3,\"#f1b6da\"],[0.4,\"#fde0ef\"],[0.5,\"#f7f7f7\"],[0.6,\"#e6f5d0\"],[0.7,\"#b8e186\"],[0.8,\"#7fbc41\"],[0.9,\"#4d9221\"],[1,\"#276419\"]],\"sequential\":[[0.0,\"#0d0887\"],[0.1111111111111111,\"#46039f\"],[0.2222222222222222,\"#7201a8\"],[0.3333333333333333,\"#9c179e\"],[0.4444444444444444,\"#bd3786\"],[0.5555555555555556,\"#d8576b\"],[0.6666666666666666,\"#ed7953\"],[0.7777777777777778,\"#fb9f3a\"],[0.8888888888888888,\"#fdca26\"],[1.0,\"#f0f921\"]],\"sequentialminus\":[[0.0,\"#0d0887\"],[0.1111111111111111,\"#46039f\"],[0.2222222222222222,\"#7201a8\"],[0.3333333333333333,\"#9c179e\"],[0.4444444444444444,\"#bd3786\"],[0.5555555555555556,\"#d8576b\"],[0.6666666666666666,\"#ed7953\"],[0.7777777777777778,\"#fb9f3a\"],[0.8888888888888888,\"#fdca26\"],[1.0,\"#f0f921\"]]},\"colorway\":[\"#636efa\",\"#EF553B\",\"#00cc96\",\"#ab63fa\",\"#FFA15A\",\"#19d3f3\",\"#FF6692\",\"#B6E880\",\"#FF97FF\",\"#FECB52\"],\"font\":{\"color\":\"#2a3f5f\"},\"geo\":{\"bgcolor\":\"white\",\"lakecolor\":\"white\",\"landcolor\":\"#E5ECF6\",\"showlakes\":true,\"showland\":true,\"subunitcolor\":\"white\"},\"hoverlabel\":{\"align\":\"left\"},\"hovermode\":\"closest\",\"mapbox\":{\"style\":\"light\"},\"paper_bgcolor\":\"white\",\"plot_bgcolor\":\"#E5ECF6\",\"polar\":{\"angularaxis\":{\"gridcolor\":\"white\",\"linecolor\":\"white\",\"ticks\":\"\"},\"bgcolor\":\"#E5ECF6\",\"radialaxis\":{\"gridcolor\":\"white\",\"linecolor\":\"white\",\"ticks\":\"\"}},\"scene\":{\"xaxis\":{\"backgroundcolor\":\"#E5ECF6\",\"gridcolor\":\"white\",\"gridwidth\":2,\"linecolor\":\"white\",\"showbackground\":true,\"ticks\":\"\",\"zerolinecolor\":\"white\"},\"yaxis\":{\"backgroundcolor\":\"#E5ECF6\",\"gridcolor\":\"white\",\"gridwidth\":2,\"linecolor\":\"white\",\"showbackground\":true,\"ticks\":\"\",\"zerolinecolor\":\"white\"},\"zaxis\":{\"backgroundcolor\":\"#E5ECF6\",\"gridcolor\":\"white\",\"gridwidth\":2,\"linecolor\":\"white\",\"showbackground\":true,\"ticks\":\"\",\"zerolinecolor\":\"white\"}},\"shapedefaults\":{\"line\":{\"color\":\"#2a3f5f\"}},\"ternary\":{\"aaxis\":{\"gridcolor\":\"white\",\"linecolor\":\"white\",\"ticks\":\"\"},\"baxis\":{\"gridcolor\":\"white\",\"linecolor\":\"white\",\"ticks\":\"\"},\"bgcolor\":\"#E5ECF6\",\"caxis\":{\"gridcolor\":\"white\",\"linecolor\":\"white\",\"ticks\":\"\"}},\"title\":{\"x\":0.05},\"xaxis\":{\"automargin\":true,\"gridcolor\":\"white\",\"linecolor\":\"white\",\"ticks\":\"\",\"title\":{\"standoff\":15},\"zerolinecolor\":\"white\",\"zerolinewidth\":2},\"yaxis\":{\"automargin\":true,\"gridcolor\":\"white\",\"linecolor\":\"white\",\"ticks\":\"\",\"title\":{\"standoff\":15},\"zerolinecolor\":\"white\",\"zerolinewidth\":2}}},\"title\":{\"font\":{\"color\":\"#4D5663\"},\"text\":\"Distribuitions of Word Count in Title and Tags\"},\"xaxis\":{\"gridcolor\":\"#E1E5ED\",\"showgrid\":true,\"tickfont\":{\"color\":\"#4D5663\"},\"title\":{\"font\":{\"color\":\"#4D5663\"},\"text\":\"Distribuition\"},\"zerolinecolor\":\"#E1E5ED\"},\"yaxis\":{\"gridcolor\":\"#E1E5ED\",\"showgrid\":true,\"tickfont\":{\"color\":\"#4D5663\"},\"title\":{\"font\":{\"color\":\"#4D5663\"},\"text\":\"Probability\"},\"zerolinecolor\":\"#E1E5ED\"}},                        {\"showLink\": true, \"linkText\": \"Export to plot.ly\", \"plotlyServerURL\": \"https://plot.ly\", \"responsive\": true}                    ).then(function(){\n",
       "                            \n",
       "var gd = document.getElementById('2611862b-419f-498b-8ced-b0b4b8d9ef7d');\n",
       "var x = new MutationObserver(function (mutations, observer) {{\n",
       "        var display = window.getComputedStyle(gd).display;\n",
       "        if (!display || display === 'none') {{\n",
       "            console.log([gd, 'removed!']);\n",
       "            Plotly.purge(gd);\n",
       "            observer.disconnect();\n",
       "        }}\n",
       "}});\n",
       "\n",
       "// Listen for the removal of the full notebook cells\n",
       "var notebookContainer = gd.closest('#notebook-container');\n",
       "if (notebookContainer) {{\n",
       "    x.observe(notebookContainer, {childList: true});\n",
       "}}\n",
       "\n",
       "// Listen for the clearing of the current output cell\n",
       "var outputEl = gd.closest('.output');\n",
       "if (outputEl) {{\n",
       "    x.observe(outputEl, {childList: true});\n",
       "}}\n",
       "\n",
       "                        })                };                });            </script>        </div>"
      ]
     },
     "metadata": {},
     "output_type": "display_data"
    }
   ],
   "source": [
    "#Unique word count\n",
    "df['count_unique_word']=df[\"Title\"].apply(lambda x: len(set(str(x).split())))\n",
    "df['count_unique_word_tags']=df[\"Tags\"].apply(lambda x: len(set(str(x).split())))\n",
    "df[['count_unique_word_tags','count_unique_word']].iplot(kind=\"histogram\",bins=50, theme=\"white\", histnorm='probability', title=\"Distribuitions of Word Count in Title and Tags\",\n",
    "xTitle='Distribuition',\n",
    "yTitle='Probability')"
   ]
  },
  {
   "cell_type": "code",
   "execution_count": 47,
   "metadata": {},
   "outputs": [
    {
     "data": {
      "application/vnd.plotly.v1+json": {
       "config": {
        "linkText": "Export to plot.ly",
        "plotlyServerURL": "https://plot.ly",
        "showLink": false
       },
       "data": [
        {
         "name": "Views vs Video Title Word Count",
         "type": "bar",
         "visible": true,
         "x": [
          1,
          2,
          3,
          4,
          5,
          6,
          7,
          8,
          9,
          10,
          11,
          12,
          13,
          14,
          15
         ],
         "y": [
          272775.36363636365,
          226710.4,
          312894.025477707,
          261691.78969957083,
          256663.39701492537,
          338209.78114478115,
          355378.2310606061,
          402406.85714285716,
          479700.88524590165,
          508978.35164835164,
          649826.0217391305,
          542786.6470588235,
          457932,
          670286,
          911962.3333333334
         ]
        },
        {
         "name": "Views vs Video Tags Word Count",
         "type": "bar",
         "visible": true,
         "x": [
          1,
          2,
          3,
          4,
          5,
          6,
          7,
          8,
          9,
          10,
          11,
          12,
          13,
          14,
          15,
          16,
          17,
          18,
          19,
          20,
          21,
          22,
          23,
          24,
          25,
          26,
          27,
          28,
          29,
          30,
          31,
          32,
          33,
          34,
          35,
          36,
          37,
          38,
          39,
          40,
          41,
          42,
          43,
          44,
          45,
          46,
          47,
          48,
          50,
          51,
          53,
          54,
          55,
          56,
          57,
          58,
          61,
          65
         ],
         "y": [
          149304.203125,
          42799,
          31634.8,
          37412.346153846156,
          61128.8,
          147439.15555555557,
          35252.53448275862,
          694936.5235955056,
          197018.625,
          279712,
          309282.1052631579,
          505593.5254237288,
          423856.05479452055,
          408634.27777777775,
          433729.31707317074,
          504572.5,
          411259.7924528302,
          398350.125,
          479785.54054054053,
          339903.5294117647,
          178774.125,
          399034.55,
          197235.76923076922,
          196314.7142857143,
          115333.42857142857,
          80287.64285714286,
          55392.545454545456,
          211729.70588235295,
          445457.45454545453,
          397849.65,
          21169.70588235294,
          51365.75,
          15951.833333333334,
          16444.090909090908,
          19320.18181818182,
          50277.5,
          37118.555555555555,
          15853.692307692309,
          12098,
          23370.666666666668,
          19292,
          24478.2,
          13799.666666666666,
          22228.6,
          28931,
          70425,
          14514,
          22848.5,
          47733,
          564305.5,
          34248,
          431422,
          82373,
          61083,
          29384.5,
          30125,
          8784,
          9337
         ]
        }
       ],
       "layout": {
        "showlegend": false,
        "template": {
         "data": {
          "bar": [
           {
            "error_x": {
             "color": "#2a3f5f"
            },
            "error_y": {
             "color": "#2a3f5f"
            },
            "marker": {
             "line": {
              "color": "#E5ECF6",
              "width": 0.5
             },
             "pattern": {
              "fillmode": "overlay",
              "size": 10,
              "solidity": 0.2
             }
            },
            "type": "bar"
           }
          ],
          "barpolar": [
           {
            "marker": {
             "line": {
              "color": "#E5ECF6",
              "width": 0.5
             },
             "pattern": {
              "fillmode": "overlay",
              "size": 10,
              "solidity": 0.2
             }
            },
            "type": "barpolar"
           }
          ],
          "carpet": [
           {
            "aaxis": {
             "endlinecolor": "#2a3f5f",
             "gridcolor": "white",
             "linecolor": "white",
             "minorgridcolor": "white",
             "startlinecolor": "#2a3f5f"
            },
            "baxis": {
             "endlinecolor": "#2a3f5f",
             "gridcolor": "white",
             "linecolor": "white",
             "minorgridcolor": "white",
             "startlinecolor": "#2a3f5f"
            },
            "type": "carpet"
           }
          ],
          "choropleth": [
           {
            "colorbar": {
             "outlinewidth": 0,
             "ticks": ""
            },
            "type": "choropleth"
           }
          ],
          "contour": [
           {
            "colorbar": {
             "outlinewidth": 0,
             "ticks": ""
            },
            "colorscale": [
             [
              0,
              "#0d0887"
             ],
             [
              0.1111111111111111,
              "#46039f"
             ],
             [
              0.2222222222222222,
              "#7201a8"
             ],
             [
              0.3333333333333333,
              "#9c179e"
             ],
             [
              0.4444444444444444,
              "#bd3786"
             ],
             [
              0.5555555555555556,
              "#d8576b"
             ],
             [
              0.6666666666666666,
              "#ed7953"
             ],
             [
              0.7777777777777778,
              "#fb9f3a"
             ],
             [
              0.8888888888888888,
              "#fdca26"
             ],
             [
              1,
              "#f0f921"
             ]
            ],
            "type": "contour"
           }
          ],
          "contourcarpet": [
           {
            "colorbar": {
             "outlinewidth": 0,
             "ticks": ""
            },
            "type": "contourcarpet"
           }
          ],
          "heatmap": [
           {
            "colorbar": {
             "outlinewidth": 0,
             "ticks": ""
            },
            "colorscale": [
             [
              0,
              "#0d0887"
             ],
             [
              0.1111111111111111,
              "#46039f"
             ],
             [
              0.2222222222222222,
              "#7201a8"
             ],
             [
              0.3333333333333333,
              "#9c179e"
             ],
             [
              0.4444444444444444,
              "#bd3786"
             ],
             [
              0.5555555555555556,
              "#d8576b"
             ],
             [
              0.6666666666666666,
              "#ed7953"
             ],
             [
              0.7777777777777778,
              "#fb9f3a"
             ],
             [
              0.8888888888888888,
              "#fdca26"
             ],
             [
              1,
              "#f0f921"
             ]
            ],
            "type": "heatmap"
           }
          ],
          "heatmapgl": [
           {
            "colorbar": {
             "outlinewidth": 0,
             "ticks": ""
            },
            "colorscale": [
             [
              0,
              "#0d0887"
             ],
             [
              0.1111111111111111,
              "#46039f"
             ],
             [
              0.2222222222222222,
              "#7201a8"
             ],
             [
              0.3333333333333333,
              "#9c179e"
             ],
             [
              0.4444444444444444,
              "#bd3786"
             ],
             [
              0.5555555555555556,
              "#d8576b"
             ],
             [
              0.6666666666666666,
              "#ed7953"
             ],
             [
              0.7777777777777778,
              "#fb9f3a"
             ],
             [
              0.8888888888888888,
              "#fdca26"
             ],
             [
              1,
              "#f0f921"
             ]
            ],
            "type": "heatmapgl"
           }
          ],
          "histogram": [
           {
            "marker": {
             "pattern": {
              "fillmode": "overlay",
              "size": 10,
              "solidity": 0.2
             }
            },
            "type": "histogram"
           }
          ],
          "histogram2d": [
           {
            "colorbar": {
             "outlinewidth": 0,
             "ticks": ""
            },
            "colorscale": [
             [
              0,
              "#0d0887"
             ],
             [
              0.1111111111111111,
              "#46039f"
             ],
             [
              0.2222222222222222,
              "#7201a8"
             ],
             [
              0.3333333333333333,
              "#9c179e"
             ],
             [
              0.4444444444444444,
              "#bd3786"
             ],
             [
              0.5555555555555556,
              "#d8576b"
             ],
             [
              0.6666666666666666,
              "#ed7953"
             ],
             [
              0.7777777777777778,
              "#fb9f3a"
             ],
             [
              0.8888888888888888,
              "#fdca26"
             ],
             [
              1,
              "#f0f921"
             ]
            ],
            "type": "histogram2d"
           }
          ],
          "histogram2dcontour": [
           {
            "colorbar": {
             "outlinewidth": 0,
             "ticks": ""
            },
            "colorscale": [
             [
              0,
              "#0d0887"
             ],
             [
              0.1111111111111111,
              "#46039f"
             ],
             [
              0.2222222222222222,
              "#7201a8"
             ],
             [
              0.3333333333333333,
              "#9c179e"
             ],
             [
              0.4444444444444444,
              "#bd3786"
             ],
             [
              0.5555555555555556,
              "#d8576b"
             ],
             [
              0.6666666666666666,
              "#ed7953"
             ],
             [
              0.7777777777777778,
              "#fb9f3a"
             ],
             [
              0.8888888888888888,
              "#fdca26"
             ],
             [
              1,
              "#f0f921"
             ]
            ],
            "type": "histogram2dcontour"
           }
          ],
          "mesh3d": [
           {
            "colorbar": {
             "outlinewidth": 0,
             "ticks": ""
            },
            "type": "mesh3d"
           }
          ],
          "parcoords": [
           {
            "line": {
             "colorbar": {
              "outlinewidth": 0,
              "ticks": ""
             }
            },
            "type": "parcoords"
           }
          ],
          "pie": [
           {
            "automargin": true,
            "type": "pie"
           }
          ],
          "scatter": [
           {
            "marker": {
             "colorbar": {
              "outlinewidth": 0,
              "ticks": ""
             }
            },
            "type": "scatter"
           }
          ],
          "scatter3d": [
           {
            "line": {
             "colorbar": {
              "outlinewidth": 0,
              "ticks": ""
             }
            },
            "marker": {
             "colorbar": {
              "outlinewidth": 0,
              "ticks": ""
             }
            },
            "type": "scatter3d"
           }
          ],
          "scattercarpet": [
           {
            "marker": {
             "colorbar": {
              "outlinewidth": 0,
              "ticks": ""
             }
            },
            "type": "scattercarpet"
           }
          ],
          "scattergeo": [
           {
            "marker": {
             "colorbar": {
              "outlinewidth": 0,
              "ticks": ""
             }
            },
            "type": "scattergeo"
           }
          ],
          "scattergl": [
           {
            "marker": {
             "colorbar": {
              "outlinewidth": 0,
              "ticks": ""
             }
            },
            "type": "scattergl"
           }
          ],
          "scattermapbox": [
           {
            "marker": {
             "colorbar": {
              "outlinewidth": 0,
              "ticks": ""
             }
            },
            "type": "scattermapbox"
           }
          ],
          "scatterpolar": [
           {
            "marker": {
             "colorbar": {
              "outlinewidth": 0,
              "ticks": ""
             }
            },
            "type": "scatterpolar"
           }
          ],
          "scatterpolargl": [
           {
            "marker": {
             "colorbar": {
              "outlinewidth": 0,
              "ticks": ""
             }
            },
            "type": "scatterpolargl"
           }
          ],
          "scatterternary": [
           {
            "marker": {
             "colorbar": {
              "outlinewidth": 0,
              "ticks": ""
             }
            },
            "type": "scatterternary"
           }
          ],
          "surface": [
           {
            "colorbar": {
             "outlinewidth": 0,
             "ticks": ""
            },
            "colorscale": [
             [
              0,
              "#0d0887"
             ],
             [
              0.1111111111111111,
              "#46039f"
             ],
             [
              0.2222222222222222,
              "#7201a8"
             ],
             [
              0.3333333333333333,
              "#9c179e"
             ],
             [
              0.4444444444444444,
              "#bd3786"
             ],
             [
              0.5555555555555556,
              "#d8576b"
             ],
             [
              0.6666666666666666,
              "#ed7953"
             ],
             [
              0.7777777777777778,
              "#fb9f3a"
             ],
             [
              0.8888888888888888,
              "#fdca26"
             ],
             [
              1,
              "#f0f921"
             ]
            ],
            "type": "surface"
           }
          ],
          "table": [
           {
            "cells": {
             "fill": {
              "color": "#EBF0F8"
             },
             "line": {
              "color": "white"
             }
            },
            "header": {
             "fill": {
              "color": "#C8D4E3"
             },
             "line": {
              "color": "white"
             }
            },
            "type": "table"
           }
          ]
         },
         "layout": {
          "annotationdefaults": {
           "arrowcolor": "#2a3f5f",
           "arrowhead": 0,
           "arrowwidth": 1
          },
          "autotypenumbers": "strict",
          "coloraxis": {
           "colorbar": {
            "outlinewidth": 0,
            "ticks": ""
           }
          },
          "colorscale": {
           "diverging": [
            [
             0,
             "#8e0152"
            ],
            [
             0.1,
             "#c51b7d"
            ],
            [
             0.2,
             "#de77ae"
            ],
            [
             0.3,
             "#f1b6da"
            ],
            [
             0.4,
             "#fde0ef"
            ],
            [
             0.5,
             "#f7f7f7"
            ],
            [
             0.6,
             "#e6f5d0"
            ],
            [
             0.7,
             "#b8e186"
            ],
            [
             0.8,
             "#7fbc41"
            ],
            [
             0.9,
             "#4d9221"
            ],
            [
             1,
             "#276419"
            ]
           ],
           "sequential": [
            [
             0,
             "#0d0887"
            ],
            [
             0.1111111111111111,
             "#46039f"
            ],
            [
             0.2222222222222222,
             "#7201a8"
            ],
            [
             0.3333333333333333,
             "#9c179e"
            ],
            [
             0.4444444444444444,
             "#bd3786"
            ],
            [
             0.5555555555555556,
             "#d8576b"
            ],
            [
             0.6666666666666666,
             "#ed7953"
            ],
            [
             0.7777777777777778,
             "#fb9f3a"
            ],
            [
             0.8888888888888888,
             "#fdca26"
            ],
            [
             1,
             "#f0f921"
            ]
           ],
           "sequentialminus": [
            [
             0,
             "#0d0887"
            ],
            [
             0.1111111111111111,
             "#46039f"
            ],
            [
             0.2222222222222222,
             "#7201a8"
            ],
            [
             0.3333333333333333,
             "#9c179e"
            ],
            [
             0.4444444444444444,
             "#bd3786"
            ],
            [
             0.5555555555555556,
             "#d8576b"
            ],
            [
             0.6666666666666666,
             "#ed7953"
            ],
            [
             0.7777777777777778,
             "#fb9f3a"
            ],
            [
             0.8888888888888888,
             "#fdca26"
            ],
            [
             1,
             "#f0f921"
            ]
           ]
          },
          "colorway": [
           "#636efa",
           "#EF553B",
           "#00cc96",
           "#ab63fa",
           "#FFA15A",
           "#19d3f3",
           "#FF6692",
           "#B6E880",
           "#FF97FF",
           "#FECB52"
          ],
          "font": {
           "color": "#2a3f5f"
          },
          "geo": {
           "bgcolor": "white",
           "lakecolor": "white",
           "landcolor": "#E5ECF6",
           "showlakes": true,
           "showland": true,
           "subunitcolor": "white"
          },
          "hoverlabel": {
           "align": "left"
          },
          "hovermode": "closest",
          "mapbox": {
           "style": "light"
          },
          "paper_bgcolor": "white",
          "plot_bgcolor": "#E5ECF6",
          "polar": {
           "angularaxis": {
            "gridcolor": "white",
            "linecolor": "white",
            "ticks": ""
           },
           "bgcolor": "#E5ECF6",
           "radialaxis": {
            "gridcolor": "white",
            "linecolor": "white",
            "ticks": ""
           }
          },
          "scene": {
           "xaxis": {
            "backgroundcolor": "#E5ECF6",
            "gridcolor": "white",
            "gridwidth": 2,
            "linecolor": "white",
            "showbackground": true,
            "ticks": "",
            "zerolinecolor": "white"
           },
           "yaxis": {
            "backgroundcolor": "#E5ECF6",
            "gridcolor": "white",
            "gridwidth": 2,
            "linecolor": "white",
            "showbackground": true,
            "ticks": "",
            "zerolinecolor": "white"
           },
           "zaxis": {
            "backgroundcolor": "#E5ECF6",
            "gridcolor": "white",
            "gridwidth": 2,
            "linecolor": "white",
            "showbackground": true,
            "ticks": "",
            "zerolinecolor": "white"
           }
          },
          "shapedefaults": {
           "line": {
            "color": "#2a3f5f"
           }
          },
          "ternary": {
           "aaxis": {
            "gridcolor": "white",
            "linecolor": "white",
            "ticks": ""
           },
           "baxis": {
            "gridcolor": "white",
            "linecolor": "white",
            "ticks": ""
           },
           "bgcolor": "#E5ECF6",
           "caxis": {
            "gridcolor": "white",
            "linecolor": "white",
            "ticks": ""
           }
          },
          "title": {
           "x": 0.05
          },
          "xaxis": {
           "automargin": true,
           "gridcolor": "white",
           "linecolor": "white",
           "ticks": "",
           "title": {
            "standoff": 15
           },
           "zerolinecolor": "white",
           "zerolinewidth": 2
          },
          "yaxis": {
           "automargin": true,
           "gridcolor": "white",
           "linecolor": "white",
           "ticks": "",
           "title": {
            "standoff": 15
           },
           "zerolinecolor": "white",
           "zerolinewidth": 2
          }
         }
        },
        "title": {
         "text": "*(Select from Dropdown)* Views vs Word Count"
        },
        "updatemenus": [
         {
          "active": -1,
          "buttons": [
           {
            "args": [
             {
              "visible": [
               true,
               false
              ]
             },
             {
              "title": "Views vs Video Title Word Count"
             }
            ],
            "label": "Views vs Video Title Word Count",
            "method": "update"
           },
           {
            "args": [
             {
              "visible": [
               false,
               true
              ]
             },
             {
              "title": "Views vs Video Tags Word Count"
             }
            ],
            "label": "Views vs Video Tags Word Count",
            "method": "update"
           }
          ],
          "showactive": true
         }
        ]
       }
      },
      "text/html": [
       "<div>                            <div id=\"0555d59d-bcea-4eff-b7a3-518814f907bb\" class=\"plotly-graph-div\" style=\"height:525px; width:100%;\"></div>            <script type=\"text/javascript\">                require([\"plotly\"], function(Plotly) {                    window.PLOTLYENV=window.PLOTLYENV || {};                                    if (document.getElementById(\"0555d59d-bcea-4eff-b7a3-518814f907bb\")) {                    Plotly.newPlot(                        \"0555d59d-bcea-4eff-b7a3-518814f907bb\",                        [{\"name\":\"Views vs Video Title Word Count\",\"visible\":true,\"x\":[1,2,3,4,5,6,7,8,9,10,11,12,13,14,15],\"y\":[272775.36363636365,226710.4,312894.025477707,261691.78969957083,256663.39701492537,338209.78114478115,355378.2310606061,402406.85714285716,479700.88524590165,508978.35164835164,649826.0217391305,542786.6470588235,457932.0,670286.0,911962.3333333334],\"type\":\"bar\"},{\"name\":\"Views vs Video Tags Word Count\",\"visible\":true,\"x\":[1,2,3,4,5,6,7,8,9,10,11,12,13,14,15,16,17,18,19,20,21,22,23,24,25,26,27,28,29,30,31,32,33,34,35,36,37,38,39,40,41,42,43,44,45,46,47,48,50,51,53,54,55,56,57,58,61,65],\"y\":[149304.203125,42799.0,31634.8,37412.346153846156,61128.8,147439.15555555557,35252.53448275862,694936.5235955056,197018.625,279712.0,309282.1052631579,505593.5254237288,423856.05479452055,408634.27777777775,433729.31707317074,504572.5,411259.7924528302,398350.125,479785.54054054053,339903.5294117647,178774.125,399034.55,197235.76923076922,196314.7142857143,115333.42857142857,80287.64285714286,55392.545454545456,211729.70588235295,445457.45454545453,397849.65,21169.70588235294,51365.75,15951.833333333334,16444.090909090908,19320.18181818182,50277.5,37118.555555555555,15853.692307692309,12098.0,23370.666666666668,19292.0,24478.2,13799.666666666666,22228.6,28931.0,70425.0,14514.0,22848.5,47733.0,564305.5,34248.0,431422.0,82373.0,61083.0,29384.5,30125.0,8784.0,9337.0],\"type\":\"bar\"}],                        {\"showlegend\":false,\"template\":{\"data\":{\"barpolar\":[{\"marker\":{\"line\":{\"color\":\"#E5ECF6\",\"width\":0.5},\"pattern\":{\"fillmode\":\"overlay\",\"size\":10,\"solidity\":0.2}},\"type\":\"barpolar\"}],\"bar\":[{\"error_x\":{\"color\":\"#2a3f5f\"},\"error_y\":{\"color\":\"#2a3f5f\"},\"marker\":{\"line\":{\"color\":\"#E5ECF6\",\"width\":0.5},\"pattern\":{\"fillmode\":\"overlay\",\"size\":10,\"solidity\":0.2}},\"type\":\"bar\"}],\"carpet\":[{\"aaxis\":{\"endlinecolor\":\"#2a3f5f\",\"gridcolor\":\"white\",\"linecolor\":\"white\",\"minorgridcolor\":\"white\",\"startlinecolor\":\"#2a3f5f\"},\"baxis\":{\"endlinecolor\":\"#2a3f5f\",\"gridcolor\":\"white\",\"linecolor\":\"white\",\"minorgridcolor\":\"white\",\"startlinecolor\":\"#2a3f5f\"},\"type\":\"carpet\"}],\"choropleth\":[{\"colorbar\":{\"outlinewidth\":0,\"ticks\":\"\"},\"type\":\"choropleth\"}],\"contourcarpet\":[{\"colorbar\":{\"outlinewidth\":0,\"ticks\":\"\"},\"type\":\"contourcarpet\"}],\"contour\":[{\"colorbar\":{\"outlinewidth\":0,\"ticks\":\"\"},\"colorscale\":[[0.0,\"#0d0887\"],[0.1111111111111111,\"#46039f\"],[0.2222222222222222,\"#7201a8\"],[0.3333333333333333,\"#9c179e\"],[0.4444444444444444,\"#bd3786\"],[0.5555555555555556,\"#d8576b\"],[0.6666666666666666,\"#ed7953\"],[0.7777777777777778,\"#fb9f3a\"],[0.8888888888888888,\"#fdca26\"],[1.0,\"#f0f921\"]],\"type\":\"contour\"}],\"heatmapgl\":[{\"colorbar\":{\"outlinewidth\":0,\"ticks\":\"\"},\"colorscale\":[[0.0,\"#0d0887\"],[0.1111111111111111,\"#46039f\"],[0.2222222222222222,\"#7201a8\"],[0.3333333333333333,\"#9c179e\"],[0.4444444444444444,\"#bd3786\"],[0.5555555555555556,\"#d8576b\"],[0.6666666666666666,\"#ed7953\"],[0.7777777777777778,\"#fb9f3a\"],[0.8888888888888888,\"#fdca26\"],[1.0,\"#f0f921\"]],\"type\":\"heatmapgl\"}],\"heatmap\":[{\"colorbar\":{\"outlinewidth\":0,\"ticks\":\"\"},\"colorscale\":[[0.0,\"#0d0887\"],[0.1111111111111111,\"#46039f\"],[0.2222222222222222,\"#7201a8\"],[0.3333333333333333,\"#9c179e\"],[0.4444444444444444,\"#bd3786\"],[0.5555555555555556,\"#d8576b\"],[0.6666666666666666,\"#ed7953\"],[0.7777777777777778,\"#fb9f3a\"],[0.8888888888888888,\"#fdca26\"],[1.0,\"#f0f921\"]],\"type\":\"heatmap\"}],\"histogram2dcontour\":[{\"colorbar\":{\"outlinewidth\":0,\"ticks\":\"\"},\"colorscale\":[[0.0,\"#0d0887\"],[0.1111111111111111,\"#46039f\"],[0.2222222222222222,\"#7201a8\"],[0.3333333333333333,\"#9c179e\"],[0.4444444444444444,\"#bd3786\"],[0.5555555555555556,\"#d8576b\"],[0.6666666666666666,\"#ed7953\"],[0.7777777777777778,\"#fb9f3a\"],[0.8888888888888888,\"#fdca26\"],[1.0,\"#f0f921\"]],\"type\":\"histogram2dcontour\"}],\"histogram2d\":[{\"colorbar\":{\"outlinewidth\":0,\"ticks\":\"\"},\"colorscale\":[[0.0,\"#0d0887\"],[0.1111111111111111,\"#46039f\"],[0.2222222222222222,\"#7201a8\"],[0.3333333333333333,\"#9c179e\"],[0.4444444444444444,\"#bd3786\"],[0.5555555555555556,\"#d8576b\"],[0.6666666666666666,\"#ed7953\"],[0.7777777777777778,\"#fb9f3a\"],[0.8888888888888888,\"#fdca26\"],[1.0,\"#f0f921\"]],\"type\":\"histogram2d\"}],\"histogram\":[{\"marker\":{\"pattern\":{\"fillmode\":\"overlay\",\"size\":10,\"solidity\":0.2}},\"type\":\"histogram\"}],\"mesh3d\":[{\"colorbar\":{\"outlinewidth\":0,\"ticks\":\"\"},\"type\":\"mesh3d\"}],\"parcoords\":[{\"line\":{\"colorbar\":{\"outlinewidth\":0,\"ticks\":\"\"}},\"type\":\"parcoords\"}],\"pie\":[{\"automargin\":true,\"type\":\"pie\"}],\"scatter3d\":[{\"line\":{\"colorbar\":{\"outlinewidth\":0,\"ticks\":\"\"}},\"marker\":{\"colorbar\":{\"outlinewidth\":0,\"ticks\":\"\"}},\"type\":\"scatter3d\"}],\"scattercarpet\":[{\"marker\":{\"colorbar\":{\"outlinewidth\":0,\"ticks\":\"\"}},\"type\":\"scattercarpet\"}],\"scattergeo\":[{\"marker\":{\"colorbar\":{\"outlinewidth\":0,\"ticks\":\"\"}},\"type\":\"scattergeo\"}],\"scattergl\":[{\"marker\":{\"colorbar\":{\"outlinewidth\":0,\"ticks\":\"\"}},\"type\":\"scattergl\"}],\"scattermapbox\":[{\"marker\":{\"colorbar\":{\"outlinewidth\":0,\"ticks\":\"\"}},\"type\":\"scattermapbox\"}],\"scatterpolargl\":[{\"marker\":{\"colorbar\":{\"outlinewidth\":0,\"ticks\":\"\"}},\"type\":\"scatterpolargl\"}],\"scatterpolar\":[{\"marker\":{\"colorbar\":{\"outlinewidth\":0,\"ticks\":\"\"}},\"type\":\"scatterpolar\"}],\"scatter\":[{\"marker\":{\"colorbar\":{\"outlinewidth\":0,\"ticks\":\"\"}},\"type\":\"scatter\"}],\"scatterternary\":[{\"marker\":{\"colorbar\":{\"outlinewidth\":0,\"ticks\":\"\"}},\"type\":\"scatterternary\"}],\"surface\":[{\"colorbar\":{\"outlinewidth\":0,\"ticks\":\"\"},\"colorscale\":[[0.0,\"#0d0887\"],[0.1111111111111111,\"#46039f\"],[0.2222222222222222,\"#7201a8\"],[0.3333333333333333,\"#9c179e\"],[0.4444444444444444,\"#bd3786\"],[0.5555555555555556,\"#d8576b\"],[0.6666666666666666,\"#ed7953\"],[0.7777777777777778,\"#fb9f3a\"],[0.8888888888888888,\"#fdca26\"],[1.0,\"#f0f921\"]],\"type\":\"surface\"}],\"table\":[{\"cells\":{\"fill\":{\"color\":\"#EBF0F8\"},\"line\":{\"color\":\"white\"}},\"header\":{\"fill\":{\"color\":\"#C8D4E3\"},\"line\":{\"color\":\"white\"}},\"type\":\"table\"}]},\"layout\":{\"annotationdefaults\":{\"arrowcolor\":\"#2a3f5f\",\"arrowhead\":0,\"arrowwidth\":1},\"autotypenumbers\":\"strict\",\"coloraxis\":{\"colorbar\":{\"outlinewidth\":0,\"ticks\":\"\"}},\"colorscale\":{\"diverging\":[[0,\"#8e0152\"],[0.1,\"#c51b7d\"],[0.2,\"#de77ae\"],[0.3,\"#f1b6da\"],[0.4,\"#fde0ef\"],[0.5,\"#f7f7f7\"],[0.6,\"#e6f5d0\"],[0.7,\"#b8e186\"],[0.8,\"#7fbc41\"],[0.9,\"#4d9221\"],[1,\"#276419\"]],\"sequential\":[[0.0,\"#0d0887\"],[0.1111111111111111,\"#46039f\"],[0.2222222222222222,\"#7201a8\"],[0.3333333333333333,\"#9c179e\"],[0.4444444444444444,\"#bd3786\"],[0.5555555555555556,\"#d8576b\"],[0.6666666666666666,\"#ed7953\"],[0.7777777777777778,\"#fb9f3a\"],[0.8888888888888888,\"#fdca26\"],[1.0,\"#f0f921\"]],\"sequentialminus\":[[0.0,\"#0d0887\"],[0.1111111111111111,\"#46039f\"],[0.2222222222222222,\"#7201a8\"],[0.3333333333333333,\"#9c179e\"],[0.4444444444444444,\"#bd3786\"],[0.5555555555555556,\"#d8576b\"],[0.6666666666666666,\"#ed7953\"],[0.7777777777777778,\"#fb9f3a\"],[0.8888888888888888,\"#fdca26\"],[1.0,\"#f0f921\"]]},\"colorway\":[\"#636efa\",\"#EF553B\",\"#00cc96\",\"#ab63fa\",\"#FFA15A\",\"#19d3f3\",\"#FF6692\",\"#B6E880\",\"#FF97FF\",\"#FECB52\"],\"font\":{\"color\":\"#2a3f5f\"},\"geo\":{\"bgcolor\":\"white\",\"lakecolor\":\"white\",\"landcolor\":\"#E5ECF6\",\"showlakes\":true,\"showland\":true,\"subunitcolor\":\"white\"},\"hoverlabel\":{\"align\":\"left\"},\"hovermode\":\"closest\",\"mapbox\":{\"style\":\"light\"},\"paper_bgcolor\":\"white\",\"plot_bgcolor\":\"#E5ECF6\",\"polar\":{\"angularaxis\":{\"gridcolor\":\"white\",\"linecolor\":\"white\",\"ticks\":\"\"},\"bgcolor\":\"#E5ECF6\",\"radialaxis\":{\"gridcolor\":\"white\",\"linecolor\":\"white\",\"ticks\":\"\"}},\"scene\":{\"xaxis\":{\"backgroundcolor\":\"#E5ECF6\",\"gridcolor\":\"white\",\"gridwidth\":2,\"linecolor\":\"white\",\"showbackground\":true,\"ticks\":\"\",\"zerolinecolor\":\"white\"},\"yaxis\":{\"backgroundcolor\":\"#E5ECF6\",\"gridcolor\":\"white\",\"gridwidth\":2,\"linecolor\":\"white\",\"showbackground\":true,\"ticks\":\"\",\"zerolinecolor\":\"white\"},\"zaxis\":{\"backgroundcolor\":\"#E5ECF6\",\"gridcolor\":\"white\",\"gridwidth\":2,\"linecolor\":\"white\",\"showbackground\":true,\"ticks\":\"\",\"zerolinecolor\":\"white\"}},\"shapedefaults\":{\"line\":{\"color\":\"#2a3f5f\"}},\"ternary\":{\"aaxis\":{\"gridcolor\":\"white\",\"linecolor\":\"white\",\"ticks\":\"\"},\"baxis\":{\"gridcolor\":\"white\",\"linecolor\":\"white\",\"ticks\":\"\"},\"bgcolor\":\"#E5ECF6\",\"caxis\":{\"gridcolor\":\"white\",\"linecolor\":\"white\",\"ticks\":\"\"}},\"title\":{\"x\":0.05},\"xaxis\":{\"automargin\":true,\"gridcolor\":\"white\",\"linecolor\":\"white\",\"ticks\":\"\",\"title\":{\"standoff\":15},\"zerolinecolor\":\"white\",\"zerolinewidth\":2},\"yaxis\":{\"automargin\":true,\"gridcolor\":\"white\",\"linecolor\":\"white\",\"ticks\":\"\",\"title\":{\"standoff\":15},\"zerolinecolor\":\"white\",\"zerolinewidth\":2}}},\"title\":{\"text\":\"*(Select from Dropdown)* Views vs Word Count\"},\"updatemenus\":[{\"active\":-1,\"buttons\":[{\"args\":[{\"visible\":[true,false]},{\"title\":\"Views vs Video Title Word Count\"}],\"label\":\"Views vs Video Title Word Count\",\"method\":\"update\"},{\"args\":[{\"visible\":[false,true]},{\"title\":\"Views vs Video Tags Word Count\"}],\"label\":\"Views vs Video Tags Word Count\",\"method\":\"update\"}],\"showactive\":true}]},                        {\"responsive\": true}                    ).then(function(){\n",
       "                            \n",
       "var gd = document.getElementById('0555d59d-bcea-4eff-b7a3-518814f907bb');\n",
       "var x = new MutationObserver(function (mutations, observer) {{\n",
       "        var display = window.getComputedStyle(gd).display;\n",
       "        if (!display || display === 'none') {{\n",
       "            console.log([gd, 'removed!']);\n",
       "            Plotly.purge(gd);\n",
       "            observer.disconnect();\n",
       "        }}\n",
       "}});\n",
       "\n",
       "// Listen for the removal of the full notebook cells\n",
       "var notebookContainer = gd.closest('#notebook-container');\n",
       "if (notebookContainer) {{\n",
       "    x.observe(notebookContainer, {childList: true});\n",
       "}}\n",
       "\n",
       "// Listen for the clearing of the current output cell\n",
       "var outputEl = gd.closest('.output');\n",
       "if (outputEl) {{\n",
       "    x.observe(outputEl, {childList: true});\n",
       "}}\n",
       "\n",
       "                        })                };                });            </script>        </div>"
      ]
     },
     "metadata": {},
     "output_type": "display_data"
    }
   ],
   "source": [
    "# Dataframe for unique word count for video titles\n",
    "df3 = df[['count_unique_word','Views']]\n",
    "df3 = df3.groupby('count_unique_word').mean().reset_index()\n",
    "# Dataframe for unique word count for video tags\n",
    "df4 = df[['count_unique_word_tags','Views']]\n",
    "df4 = df4.groupby('count_unique_word_tags').mean().reset_index()\n",
    "trace1 = go.Bar(x=df3['count_unique_word'],y=df3['Views'],name = 'Views vs Video Title Word Count',visible = True)\n",
    "trace2 = go.Bar(x=df4['count_unique_word_tags'],y=df4['Views'],name = 'Views vs Video Tags Word Count',visible = True)\n",
    "data=[trace1,trace2]\n",
    "updatemenus = list([\n",
    "    dict(active=-1,\n",
    "         showactive=True,\n",
    "         buttons=list([  \n",
    "            dict(\n",
    "                label = 'Views vs Video Title Word Count',\n",
    "                 method = 'update',\n",
    "                 args = [{'visible': [True, False]}, \n",
    "                     {'title': 'Views vs Video Title Word Count'}]),\n",
    "             \n",
    "             dict(\n",
    "                  label = 'Views vs Video Tags Word Count',\n",
    "                 method = 'update',\n",
    "                 args = [{'visible': [False, True]},\n",
    "                     {'title': 'Views vs Video Tags Word Count'}]),\n",
    "        ]),\n",
    "    )\n",
    "])\n",
    "layout = dict(title=\"*(Select from Dropdown)* Views vs Word Count\", \n",
    "              showlegend=False,\n",
    "              updatemenus=updatemenus)\n",
    "fig = dict(data=data, layout=layout)\n",
    "iplot(fig)"
   ]
  },
  {
   "cell_type": "code",
   "execution_count": 50,
   "metadata": {},
   "outputs": [
    {
     "name": "stdout",
     "output_type": "stream",
     "text": [
      "<wordcloud.wordcloud.WordCloud object at 0x0000012D98A33100>\n"
     ]
    },
    {
     "data": {
      "image/png": "[encoded data removed]",
      "text/plain": [
       "<Figure size 1080x1080 with 1 Axes>"
      ]
     },
     "metadata": {
      "needs_background": "light"
     },
     "output_type": "display_data"
    }
   ],
   "source": [
    "plt.rcParams['font.size']= 15              \n",
    "plt.rcParams['savefig.dpi']= 100         \n",
    "plt.rcParams['figure.subplot.bottom']= .1 \n",
    "stopwords = set(stopwords.words(\"english\"))\n",
    "plt.figure(figsize = (15,15))\n",
    "wordcloud = WordCloud(\n",
    "                          background_color='black',\n",
    "                          stopwords=stopwords,\n",
    "                          max_words=1000,\n",
    "                          max_font_size=120, \n",
    "                          random_state=42\n",
    "                         ).generate(str(df['Title']))\n",
    "print(wordcloud)\n",
    "fig = plt.figure(1)\n",
    "plt.imshow(wordcloud)\n",
    "plt.title(\"WORD CLOUD - VIDEO TITLE\")\n",
    "plt.axis('off')\n",
    "plt.show()"
   ]
  },
  {
   "cell_type": "code",
   "execution_count": 51,
   "metadata": {},
   "outputs": [
    {
     "name": "stdout",
     "output_type": "stream",
     "text": [
      "<wordcloud.wordcloud.WordCloud object at 0x0000012D99B8BC70>\n"
     ]
    },
    {
     "data": {
      "image/png": "[encoded data removed]",
      "text/plain": [
       "<Figure size 1080x1080 with 1 Axes>"
      ]
     },
     "metadata": {
      "needs_background": "light"
     },
     "output_type": "display_data"
    }
   ],
   "source": [
    "plt.figure(figsize = (15,15))\n",
    "wordcloud = WordCloud(\n",
    "                          background_color='black',\n",
    "                          stopwords=stopwords,\n",
    "                          max_words=1000,\n",
    "                          max_font_size=120, \n",
    "                          random_state=42\n",
    "                         ).generate(str(df['Tags']))\n",
    "print(wordcloud)\n",
    "fig = plt.figure(1)\n",
    "plt.imshow(wordcloud)\n",
    "plt.title(\"WORD CLOUD - TAGS\")\n",
    "plt.axis('off')\n",
    "plt.show()"
   ]
  },
  {
   "cell_type": "markdown",
   "metadata": {},
   "source": [
    "## Conclusion"
   ]
  },
  {
   "cell_type": "markdown",
   "metadata": {},
   "source": [
    "From the above analysis, we can conclude that more descriptive titles will benefit viewcount, too many tags does not improve. Tags used by the more popular youtuber mainly consist of his name probably for visibility when people are searching. Eye-catching words like \"Wrong\", \"Mistake\", \"Minecraft\" are used often."
   ]
  }
 ],
 "metadata": {
  "kernelspec": {
   "display_name": "Python 3",
   "language": "python",
   "name": "python3"
  },
  "language_info": {
   "codemirror_mode": {
    "name": "ipython",
    "version": 3
   },
   "file_extension": ".py",
   "mimetype": "text/x-python",
   "name": "python",
   "nbconvert_exporter": "python",
   "pygments_lexer": "ipython3",
   "version": "3.8.3"
  }
 },
 "nbformat": 4,
 "nbformat_minor": 4
}
